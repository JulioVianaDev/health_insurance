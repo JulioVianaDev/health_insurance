{
  "nbformat": 4,
  "nbformat_minor": 0,
  "metadata": {
    "colab": {
      "name": "plano_saude.ipynb",
      "provenance": [],
      "collapsed_sections": []
    },
    "kernelspec": {
      "name": "python3",
      "display_name": "Python 3"
    },
    "language_info": {
      "name": "python"
    }
  },
  "cells": [
    {
      "cell_type": "markdown",
      "metadata": {
        "id": "4t7A2drni2IL"
      },
      "source": [
        "#Colentando Dados de Estados Brasileiros"
      ]
    },
    {
      "cell_type": "code",
      "metadata": {
        "id": "jpyGyPxKFBsu"
      },
      "source": [
        "import  pandas as pd #Biblioteca de tratamento e leitura de dados\n",
        "estados = pd.read_csv('estados_brasileiros.csv', sep = ';', encoding = 'latin=1'  )"
      ],
      "execution_count": null,
      "outputs": []
    },
    {
      "cell_type": "code",
      "metadata": {
        "colab": {
          "base_uri": "https://localhost:8080/",
          "height": 200
        },
        "id": "_5EBy3Lni89Q",
        "outputId": "8e6172d1-e4c6-4023-ac8e-c57fbeee77b8"
      },
      "source": [
        "estados.head()"
      ],
      "execution_count": null,
      "outputs": [
        {
          "output_type": "execute_result",
          "data": {
            "text/html": [
              "<div>\n",
              "<style scoped>\n",
              "    .dataframe tbody tr th:only-of-type {\n",
              "        vertical-align: middle;\n",
              "    }\n",
              "\n",
              "    .dataframe tbody tr th {\n",
              "        vertical-align: top;\n",
              "    }\n",
              "\n",
              "    .dataframe thead th {\n",
              "        text-align: right;\n",
              "    }\n",
              "</style>\n",
              "<table border=\"1\" class=\"dataframe\">\n",
              "  <thead>\n",
              "    <tr style=\"text-align: right;\">\n",
              "      <th></th>\n",
              "      <th>id_estado</th>\n",
              "      <th>estado</th>\n",
              "      <th>sigla_estado</th>\n",
              "      <th>pais</th>\n",
              "    </tr>\n",
              "  </thead>\n",
              "  <tbody>\n",
              "    <tr>\n",
              "      <th>0</th>\n",
              "      <td>1</td>\n",
              "      <td>Acre</td>\n",
              "      <td>ac</td>\n",
              "      <td>Brasil</td>\n",
              "    </tr>\n",
              "    <tr>\n",
              "      <th>1</th>\n",
              "      <td>2</td>\n",
              "      <td>Alagoas</td>\n",
              "      <td>al</td>\n",
              "      <td>Brasil</td>\n",
              "    </tr>\n",
              "    <tr>\n",
              "      <th>2</th>\n",
              "      <td>3</td>\n",
              "      <td>Amapá</td>\n",
              "      <td>ap</td>\n",
              "      <td>Brasil</td>\n",
              "    </tr>\n",
              "    <tr>\n",
              "      <th>3</th>\n",
              "      <td>4</td>\n",
              "      <td>Amazonas</td>\n",
              "      <td>am</td>\n",
              "      <td>Brasil</td>\n",
              "    </tr>\n",
              "    <tr>\n",
              "      <th>4</th>\n",
              "      <td>5</td>\n",
              "      <td>Bahia</td>\n",
              "      <td>ba</td>\n",
              "      <td>Brasil</td>\n",
              "    </tr>\n",
              "  </tbody>\n",
              "</table>\n",
              "</div>"
            ],
            "text/plain": [
              "   id_estado    estado sigla_estado    pais\n",
              "0          1      Acre           ac  Brasil\n",
              "1          2   Alagoas           al  Brasil\n",
              "2          3     Amapá           ap  Brasil\n",
              "3          4  Amazonas           am  Brasil\n",
              "4          5     Bahia           ba  Brasil"
            ]
          },
          "metadata": {},
          "execution_count": 2
        }
      ]
    },
    {
      "cell_type": "markdown",
      "metadata": {
        "id": "IiuxfXDkobmP"
      },
      "source": [
        "#Coletando dado dos clientes"
      ]
    },
    {
      "cell_type": "code",
      "metadata": {
        "colab": {
          "base_uri": "https://localhost:8080/",
          "height": 200
        },
        "id": "b-FAYXuoi9AY",
        "outputId": "0da34f0b-8002-429a-ee28-9909ca2f7baf"
      },
      "source": [
        "clients = pd.read_excel('dados_clientes.xlsx')\n",
        "clients.head()"
      ],
      "execution_count": null,
      "outputs": [
        {
          "output_type": "execute_result",
          "data": {
            "text/html": [
              "<div>\n",
              "<style scoped>\n",
              "    .dataframe tbody tr th:only-of-type {\n",
              "        vertical-align: middle;\n",
              "    }\n",
              "\n",
              "    .dataframe tbody tr th {\n",
              "        vertical-align: top;\n",
              "    }\n",
              "\n",
              "    .dataframe thead th {\n",
              "        text-align: right;\n",
              "    }\n",
              "</style>\n",
              "<table border=\"1\" class=\"dataframe\">\n",
              "  <thead>\n",
              "    <tr style=\"text-align: right;\">\n",
              "      <th></th>\n",
              "      <th>id_cliente</th>\n",
              "      <th>peso</th>\n",
              "      <th>colesterol</th>\n",
              "      <th>genero</th>\n",
              "      <th>id_estado</th>\n",
              "    </tr>\n",
              "  </thead>\n",
              "  <tbody>\n",
              "    <tr>\n",
              "      <th>0</th>\n",
              "      <td>1</td>\n",
              "      <td>102</td>\n",
              "      <td>111</td>\n",
              "      <td>Masculino</td>\n",
              "      <td>23</td>\n",
              "    </tr>\n",
              "    <tr>\n",
              "      <th>1</th>\n",
              "      <td>2</td>\n",
              "      <td>115</td>\n",
              "      <td>135</td>\n",
              "      <td>Masculino</td>\n",
              "      <td>7</td>\n",
              "    </tr>\n",
              "    <tr>\n",
              "      <th>2</th>\n",
              "      <td>3</td>\n",
              "      <td>115</td>\n",
              "      <td>136</td>\n",
              "      <td>Masculino</td>\n",
              "      <td>4</td>\n",
              "    </tr>\n",
              "    <tr>\n",
              "      <th>3</th>\n",
              "      <td>4</td>\n",
              "      <td>140</td>\n",
              "      <td>167</td>\n",
              "      <td>Feminino</td>\n",
              "      <td>24</td>\n",
              "    </tr>\n",
              "    <tr>\n",
              "      <th>4</th>\n",
              "      <td>5</td>\n",
              "      <td>130</td>\n",
              "      <td>158</td>\n",
              "      <td>Masculino</td>\n",
              "      <td>26</td>\n",
              "    </tr>\n",
              "  </tbody>\n",
              "</table>\n",
              "</div>"
            ],
            "text/plain": [
              "   id_cliente  peso  colesterol     genero  id_estado\n",
              "0           1   102         111  Masculino         23\n",
              "1           2   115         135  Masculino          7\n",
              "2           3   115         136  Masculino          4\n",
              "3           4   140         167   Feminino         24\n",
              "4           5   130         158  Masculino         26"
            ]
          },
          "metadata": {},
          "execution_count": 3
        }
      ]
    },
    {
      "cell_type": "markdown",
      "metadata": {
        "id": "Pvy0Ds2qpg9m"
      },
      "source": [
        "#Coletando a idade dos clientes"
      ]
    },
    {
      "cell_type": "code",
      "metadata": {
        "colab": {
          "base_uri": "https://localhost:8080/",
          "height": 200
        },
        "id": "IqeZRRucpkE1",
        "outputId": "1df19fb5-8cf5-4f98-b8fe-73266a0fdb54"
      },
      "source": [
        "age = pd.read_csv('idade_clientes.csv', sep=';',encoding='latin-1')\n",
        "age.head()"
      ],
      "execution_count": null,
      "outputs": [
        {
          "output_type": "execute_result",
          "data": {
            "text/html": [
              "<div>\n",
              "<style scoped>\n",
              "    .dataframe tbody tr th:only-of-type {\n",
              "        vertical-align: middle;\n",
              "    }\n",
              "\n",
              "    .dataframe tbody tr th {\n",
              "        vertical-align: top;\n",
              "    }\n",
              "\n",
              "    .dataframe thead th {\n",
              "        text-align: right;\n",
              "    }\n",
              "</style>\n",
              "<table border=\"1\" class=\"dataframe\">\n",
              "  <thead>\n",
              "    <tr style=\"text-align: right;\">\n",
              "      <th></th>\n",
              "      <th>id_cliente</th>\n",
              "      <th>idade</th>\n",
              "    </tr>\n",
              "  </thead>\n",
              "  <tbody>\n",
              "    <tr>\n",
              "      <th>0</th>\n",
              "      <td>1</td>\n",
              "      <td>17</td>\n",
              "    </tr>\n",
              "    <tr>\n",
              "      <th>1</th>\n",
              "      <td>2</td>\n",
              "      <td>28</td>\n",
              "    </tr>\n",
              "    <tr>\n",
              "      <th>2</th>\n",
              "      <td>3</td>\n",
              "      <td>62</td>\n",
              "    </tr>\n",
              "    <tr>\n",
              "      <th>3</th>\n",
              "      <td>4</td>\n",
              "      <td>55</td>\n",
              "    </tr>\n",
              "    <tr>\n",
              "      <th>4</th>\n",
              "      <td>5</td>\n",
              "      <td>44</td>\n",
              "    </tr>\n",
              "  </tbody>\n",
              "</table>\n",
              "</div>"
            ],
            "text/plain": [
              "   id_cliente  idade\n",
              "0           1     17\n",
              "1           2     28\n",
              "2           3     62\n",
              "3           4     55\n",
              "4           5     44"
            ]
          },
          "metadata": {},
          "execution_count": 4
        }
      ]
    },
    {
      "cell_type": "markdown",
      "metadata": {
        "id": "_f-edJSyqIMi"
      },
      "source": [
        "#Preparação de dados\n",
        "## É a etapa aonde os dados são limpos e se tornam aptos a analise. Essa etapa tem como objetivo de reduzir descrepancias, evitar valores nulos  indicar anomalias e preencher lacunas, "
      ]
    },
    {
      "cell_type": "markdown",
      "metadata": {
        "id": "QTsnwLQMqnTO"
      },
      "source": [
        "#Analizando  as variaveis das base de dados"
      ]
    },
    {
      "cell_type": "code",
      "metadata": {
        "colab": {
          "base_uri": "https://localhost:8080/"
        },
        "id": "ZsiiXTajqmDl",
        "outputId": "11605e8a-6938-4ad1-891d-4b9d95ee53af"
      },
      "source": [
        "clients.info()"
      ],
      "execution_count": null,
      "outputs": [
        {
          "output_type": "stream",
          "text": [
            "<class 'pandas.core.frame.DataFrame'>\n",
            "RangeIndex: 547 entries, 0 to 546\n",
            "Data columns (total 5 columns):\n",
            " #   Column      Non-Null Count  Dtype \n",
            "---  ------      --------------  ----- \n",
            " 0   id_cliente  547 non-null    int64 \n",
            " 1   peso        547 non-null    int64 \n",
            " 2   colesterol  547 non-null    int64 \n",
            " 3   genero      547 non-null    object\n",
            " 4   id_estado   547 non-null    int64 \n",
            "dtypes: int64(4), object(1)\n",
            "memory usage: 21.5+ KB\n"
          ],
          "name": "stdout"
        }
      ]
    },
    {
      "cell_type": "code",
      "metadata": {
        "colab": {
          "base_uri": "https://localhost:8080/",
          "height": 290
        },
        "id": "H2JWfL3RqvwH",
        "outputId": "f65d26ed-c3b8-4684-e4d9-f5903b3afbbb"
      },
      "source": [
        "clients.describe()"
      ],
      "execution_count": null,
      "outputs": [
        {
          "output_type": "execute_result",
          "data": {
            "text/html": [
              "<div>\n",
              "<style scoped>\n",
              "    .dataframe tbody tr th:only-of-type {\n",
              "        vertical-align: middle;\n",
              "    }\n",
              "\n",
              "    .dataframe tbody tr th {\n",
              "        vertical-align: top;\n",
              "    }\n",
              "\n",
              "    .dataframe thead th {\n",
              "        text-align: right;\n",
              "    }\n",
              "</style>\n",
              "<table border=\"1\" class=\"dataframe\">\n",
              "  <thead>\n",
              "    <tr style=\"text-align: right;\">\n",
              "      <th></th>\n",
              "      <th>id_cliente</th>\n",
              "      <th>peso</th>\n",
              "      <th>colesterol</th>\n",
              "      <th>id_estado</th>\n",
              "    </tr>\n",
              "  </thead>\n",
              "  <tbody>\n",
              "    <tr>\n",
              "      <th>count</th>\n",
              "      <td>547.00000</td>\n",
              "      <td>547.000000</td>\n",
              "      <td>547.000000</td>\n",
              "      <td>547.000000</td>\n",
              "    </tr>\n",
              "    <tr>\n",
              "      <th>mean</th>\n",
              "      <td>274.00000</td>\n",
              "      <td>143.572212</td>\n",
              "      <td>170.433272</td>\n",
              "      <td>13.833638</td>\n",
              "    </tr>\n",
              "    <tr>\n",
              "      <th>std</th>\n",
              "      <td>158.04957</td>\n",
              "      <td>30.837275</td>\n",
              "      <td>39.147189</td>\n",
              "      <td>7.593117</td>\n",
              "    </tr>\n",
              "    <tr>\n",
              "      <th>min</th>\n",
              "      <td>1.00000</td>\n",
              "      <td>95.000000</td>\n",
              "      <td>102.000000</td>\n",
              "      <td>1.000000</td>\n",
              "    </tr>\n",
              "    <tr>\n",
              "      <th>25%</th>\n",
              "      <td>137.50000</td>\n",
              "      <td>116.000000</td>\n",
              "      <td>136.000000</td>\n",
              "      <td>7.000000</td>\n",
              "    </tr>\n",
              "    <tr>\n",
              "      <th>50%</th>\n",
              "      <td>274.00000</td>\n",
              "      <td>140.000000</td>\n",
              "      <td>169.000000</td>\n",
              "      <td>13.000000</td>\n",
              "    </tr>\n",
              "    <tr>\n",
              "      <th>75%</th>\n",
              "      <td>410.50000</td>\n",
              "      <td>171.000000</td>\n",
              "      <td>208.000000</td>\n",
              "      <td>20.000000</td>\n",
              "    </tr>\n",
              "    <tr>\n",
              "      <th>max</th>\n",
              "      <td>547.00000</td>\n",
              "      <td>203.000000</td>\n",
              "      <td>235.000000</td>\n",
              "      <td>27.000000</td>\n",
              "    </tr>\n",
              "  </tbody>\n",
              "</table>\n",
              "</div>"
            ],
            "text/plain": [
              "       id_cliente        peso  colesterol   id_estado\n",
              "count   547.00000  547.000000  547.000000  547.000000\n",
              "mean    274.00000  143.572212  170.433272   13.833638\n",
              "std     158.04957   30.837275   39.147189    7.593117\n",
              "min       1.00000   95.000000  102.000000    1.000000\n",
              "25%     137.50000  116.000000  136.000000    7.000000\n",
              "50%     274.00000  140.000000  169.000000   13.000000\n",
              "75%     410.50000  171.000000  208.000000   20.000000\n",
              "max     547.00000  203.000000  235.000000   27.000000"
            ]
          },
          "metadata": {},
          "execution_count": 6
        }
      ]
    },
    {
      "cell_type": "code",
      "metadata": {
        "colab": {
          "base_uri": "https://localhost:8080/"
        },
        "id": "E7bxcFCqqyDS",
        "outputId": "2a693ad9-70e8-4c7c-82ae-fb2382ebb132"
      },
      "source": [
        "  estados.info()"
      ],
      "execution_count": null,
      "outputs": [
        {
          "output_type": "stream",
          "text": [
            "<class 'pandas.core.frame.DataFrame'>\n",
            "RangeIndex: 27 entries, 0 to 26\n",
            "Data columns (total 4 columns):\n",
            " #   Column        Non-Null Count  Dtype \n",
            "---  ------        --------------  ----- \n",
            " 0   id_estado     27 non-null     int64 \n",
            " 1   estado        27 non-null     object\n",
            " 2   sigla_estado  27 non-null     object\n",
            " 3   pais          25 non-null     object\n",
            "dtypes: int64(1), object(3)\n",
            "memory usage: 992.0+ bytes\n"
          ],
          "name": "stdout"
        }
      ]
    },
    {
      "cell_type": "code",
      "metadata": {
        "colab": {
          "base_uri": "https://localhost:8080/"
        },
        "id": "VSa0im1-q4Kf",
        "outputId": "75fb2ecd-c47d-4f62-9049-0fbeac8028fe"
      },
      "source": [
        "age.info()"
      ],
      "execution_count": null,
      "outputs": [
        {
          "output_type": "stream",
          "text": [
            "<class 'pandas.core.frame.DataFrame'>\n",
            "RangeIndex: 547 entries, 0 to 546\n",
            "Data columns (total 2 columns):\n",
            " #   Column      Non-Null Count  Dtype\n",
            "---  ------      --------------  -----\n",
            " 0   id_cliente  547 non-null    int64\n",
            " 1   idade       547 non-null    int64\n",
            "dtypes: int64(2)\n",
            "memory usage: 8.7 KB\n"
          ],
          "name": "stdout"
        }
      ]
    },
    {
      "cell_type": "code",
      "metadata": {
        "colab": {
          "base_uri": "https://localhost:8080/",
          "height": 290
        },
        "id": "IcCeAby2q9Pg",
        "outputId": "8ed97db4-1862-4c22-fa05-3736d8cc4b39"
      },
      "source": [
        "age.describe()"
      ],
      "execution_count": null,
      "outputs": [
        {
          "output_type": "execute_result",
          "data": {
            "text/html": [
              "<div>\n",
              "<style scoped>\n",
              "    .dataframe tbody tr th:only-of-type {\n",
              "        vertical-align: middle;\n",
              "    }\n",
              "\n",
              "    .dataframe tbody tr th {\n",
              "        vertical-align: top;\n",
              "    }\n",
              "\n",
              "    .dataframe thead th {\n",
              "        text-align: right;\n",
              "    }\n",
              "</style>\n",
              "<table border=\"1\" class=\"dataframe\">\n",
              "  <thead>\n",
              "    <tr style=\"text-align: right;\">\n",
              "      <th></th>\n",
              "      <th>id_cliente</th>\n",
              "      <th>idade</th>\n",
              "    </tr>\n",
              "  </thead>\n",
              "  <tbody>\n",
              "    <tr>\n",
              "      <th>count</th>\n",
              "      <td>547.00000</td>\n",
              "      <td>547.000000</td>\n",
              "    </tr>\n",
              "    <tr>\n",
              "      <th>mean</th>\n",
              "      <td>274.00000</td>\n",
              "      <td>42.791590</td>\n",
              "    </tr>\n",
              "    <tr>\n",
              "      <th>std</th>\n",
              "      <td>158.04957</td>\n",
              "      <td>15.160209</td>\n",
              "    </tr>\n",
              "    <tr>\n",
              "      <th>min</th>\n",
              "      <td>1.00000</td>\n",
              "      <td>16.000000</td>\n",
              "    </tr>\n",
              "    <tr>\n",
              "      <th>25%</th>\n",
              "      <td>137.50000</td>\n",
              "      <td>30.000000</td>\n",
              "    </tr>\n",
              "    <tr>\n",
              "      <th>50%</th>\n",
              "      <td>274.00000</td>\n",
              "      <td>42.000000</td>\n",
              "    </tr>\n",
              "    <tr>\n",
              "      <th>75%</th>\n",
              "      <td>410.50000</td>\n",
              "      <td>55.000000</td>\n",
              "    </tr>\n",
              "    <tr>\n",
              "      <th>max</th>\n",
              "      <td>547.00000</td>\n",
              "      <td>70.000000</td>\n",
              "    </tr>\n",
              "  </tbody>\n",
              "</table>\n",
              "</div>"
            ],
            "text/plain": [
              "       id_cliente       idade\n",
              "count   547.00000  547.000000\n",
              "mean    274.00000   42.791590\n",
              "std     158.04957   15.160209\n",
              "min       1.00000   16.000000\n",
              "25%     137.50000   30.000000\n",
              "50%     274.00000   42.000000\n",
              "75%     410.50000   55.000000\n",
              "max     547.00000   70.000000"
            ]
          },
          "metadata": {},
          "execution_count": 9
        }
      ]
    },
    {
      "cell_type": "markdown",
      "metadata": {
        "id": "bKku7yt2sn2b"
      },
      "source": [
        ""
      ]
    },
    {
      "cell_type": "markdown",
      "metadata": {
        "id": "S5bdh-SgsB-P"
      },
      "source": [
        "# Analisando dados ausentes"
      ]
    },
    {
      "cell_type": "code",
      "metadata": {
        "colab": {
          "base_uri": "https://localhost:8080/"
        },
        "id": "-07xxaRZsKui",
        "outputId": "180029c6-3f88-4515-e9c3-af681fc41aca"
      },
      "source": [
        "#verificando os valores nulos da base\n",
        "estados.isna().sum()"
      ],
      "execution_count": null,
      "outputs": [
        {
          "output_type": "execute_result",
          "data": {
            "text/plain": [
              "id_estado       0\n",
              "estado          0\n",
              "sigla_estado    0\n",
              "pais            2\n",
              "dtype: int64"
            ]
          },
          "metadata": {},
          "execution_count": 10
        }
      ]
    },
    {
      "cell_type": "code",
      "metadata": {
        "colab": {
          "base_uri": "https://localhost:8080/"
        },
        "id": "DcDhCZFHsP0S",
        "outputId": "e5957c40-5f4e-4066-90a0-2b0a89681d0d"
      },
      "source": [
        "clients.isna().sum()"
      ],
      "execution_count": null,
      "outputs": [
        {
          "output_type": "execute_result",
          "data": {
            "text/plain": [
              "id_cliente    0\n",
              "peso          0\n",
              "colesterol    0\n",
              "genero        0\n",
              "id_estado     0\n",
              "dtype: int64"
            ]
          },
          "metadata": {},
          "execution_count": 11
        }
      ]
    },
    {
      "cell_type": "code",
      "metadata": {
        "colab": {
          "base_uri": "https://localhost:8080/"
        },
        "id": "FlftlMgUsXlY",
        "outputId": "0515251c-c3d7-4636-8a12-b2fc87f775f3"
      },
      "source": [
        "age.isna().sum()"
      ],
      "execution_count": null,
      "outputs": [
        {
          "output_type": "execute_result",
          "data": {
            "text/plain": [
              "id_cliente    0\n",
              "idade         0\n",
              "dtype: int64"
            ]
          },
          "metadata": {},
          "execution_count": 12
        }
      ]
    },
    {
      "cell_type": "code",
      "metadata": {
        "colab": {
          "base_uri": "https://localhost:8080/",
          "height": 48
        },
        "id": "E0VwVJDCsgRH",
        "outputId": "905aee62-4fac-4dfd-f7a1-790602d0daf5"
      },
      "source": [
        "#Verificando os valores registros de valores  nulos\n",
        "clients.loc[clients['peso'].isnull()]"
      ],
      "execution_count": null,
      "outputs": [
        {
          "output_type": "execute_result",
          "data": {
            "text/html": [
              "<div>\n",
              "<style scoped>\n",
              "    .dataframe tbody tr th:only-of-type {\n",
              "        vertical-align: middle;\n",
              "    }\n",
              "\n",
              "    .dataframe tbody tr th {\n",
              "        vertical-align: top;\n",
              "    }\n",
              "\n",
              "    .dataframe thead th {\n",
              "        text-align: right;\n",
              "    }\n",
              "</style>\n",
              "<table border=\"1\" class=\"dataframe\">\n",
              "  <thead>\n",
              "    <tr style=\"text-align: right;\">\n",
              "      <th></th>\n",
              "      <th>id_cliente</th>\n",
              "      <th>peso</th>\n",
              "      <th>colesterol</th>\n",
              "      <th>genero</th>\n",
              "      <th>id_estado</th>\n",
              "    </tr>\n",
              "  </thead>\n",
              "  <tbody>\n",
              "  </tbody>\n",
              "</table>\n",
              "</div>"
            ],
            "text/plain": [
              "Empty DataFrame\n",
              "Columns: [id_cliente, peso, colesterol, genero, id_estado]\n",
              "Index: []"
            ]
          },
          "metadata": {},
          "execution_count": 13
        }
      ]
    },
    {
      "cell_type": "markdown",
      "metadata": {
        "id": "DgXpQXMfyHYr"
      },
      "source": [
        "#eliminando dados ausentes"
      ]
    },
    {
      "cell_type": "code",
      "metadata": {
        "id": "ayCnQJCGt9oC"
      },
      "source": [
        "clients.dropna(subset=['peso'],inplace=True) #para eliminar o registro. implace = true siginifica que quer alterar aquele frame"
      ],
      "execution_count": null,
      "outputs": []
    },
    {
      "cell_type": "code",
      "metadata": {
        "colab": {
          "base_uri": "https://localhost:8080/"
        },
        "id": "8kT6_lqbzEFE",
        "outputId": "99afd468-093e-4027-ab7e-a36aec746d2c"
      },
      "source": [
        "clients.isna().sum()"
      ],
      "execution_count": null,
      "outputs": [
        {
          "output_type": "execute_result",
          "data": {
            "text/plain": [
              "id_cliente    0\n",
              "peso          0\n",
              "colesterol    0\n",
              "genero        0\n",
              "id_estado     0\n",
              "dtype: int64"
            ]
          },
          "metadata": {},
          "execution_count": 15
        }
      ]
    },
    {
      "cell_type": "code",
      "metadata": {
        "colab": {
          "base_uri": "https://localhost:8080/"
        },
        "id": "2mzrMaAJzMQz",
        "outputId": "0942a685-e449-41f8-8ded-4e06162e8c07"
      },
      "source": [
        "clients.count()"
      ],
      "execution_count": null,
      "outputs": [
        {
          "output_type": "execute_result",
          "data": {
            "text/plain": [
              "id_cliente    547\n",
              "peso          547\n",
              "colesterol    547\n",
              "genero        547\n",
              "id_estado     547\n",
              "dtype: int64"
            ]
          },
          "metadata": {},
          "execution_count": 16
        }
      ]
    },
    {
      "cell_type": "markdown",
      "metadata": {
        "id": "arE74IHBzUCB"
      },
      "source": [
        "###alterando dados  por outras medidas"
      ]
    },
    {
      "cell_type": "code",
      "metadata": {
        "colab": {
          "base_uri": "https://localhost:8080/"
        },
        "id": "4JHlOYyFzRGB",
        "outputId": "fd518aec-839e-407f-e75b-8105dc50b25d"
      },
      "source": [
        "clients.describe"
      ],
      "execution_count": null,
      "outputs": [
        {
          "output_type": "execute_result",
          "data": {
            "text/plain": [
              "<bound method NDFrame.describe of      id_cliente  peso  colesterol     genero  id_estado\n",
              "0             1   102         111  Masculino         23\n",
              "1             2   115         135  Masculino          7\n",
              "2             3   115         136  Masculino          4\n",
              "3             4   140         167   Feminino         24\n",
              "4             5   130         158  Masculino         26\n",
              "..          ...   ...         ...        ...        ...\n",
              "542         543   172         207  Masculino         22\n",
              "543         544   129         157  Masculino          1\n",
              "544         545   107         115  Masculino          6\n",
              "545         546   117         147  Masculino         20\n",
              "546         547   148         176  Masculino          8\n",
              "\n",
              "[547 rows x 5 columns]>"
            ]
          },
          "metadata": {},
          "execution_count": 17
        }
      ]
    },
    {
      "cell_type": "code",
      "metadata": {
        "id": "p6V_BKGnzZ15"
      },
      "source": [
        "# realizando a média e  mediana da variavel peso\n",
        "media=clients.peso.mean()\n",
        "mediana =clients.peso.median()"
      ],
      "execution_count": null,
      "outputs": []
    },
    {
      "cell_type": "code",
      "metadata": {
        "colab": {
          "base_uri": "https://localhost:8080/"
        },
        "id": "b2KjiBih0EM5",
        "outputId": "35effb83-2f4f-47cd-8266-97490c21b800"
      },
      "source": [
        " print(f\"O valor das medias dos pesos é {media} \\n o valor da mediana é {mediana}\")"
      ],
      "execution_count": null,
      "outputs": [
        {
          "output_type": "stream",
          "text": [
            "O valor das medias dos pesos é 143.57221206581352 \n",
            " o valor da mediana é 140.0\n"
          ],
          "name": "stdout"
        }
      ]
    },
    {
      "cell_type": "code",
      "metadata": {
        "colab": {
          "base_uri": "https://localhost:8080/"
        },
        "id": "4AWDe0UKAakb",
        "outputId": "3b93d6da-8eb9-401c-aa65-125428523b95"
      },
      "source": [
        "round(media,2) #arredondamento da variavel media para 2 casas pós virgula"
      ],
      "execution_count": null,
      "outputs": [
        {
          "output_type": "execute_result",
          "data": {
            "text/plain": [
              "143.57"
            ]
          },
          "metadata": {},
          "execution_count": 20
        }
      ]
    },
    {
      "cell_type": "code",
      "metadata": {
        "id": "mTdqZ_A9AkLi"
      },
      "source": [
        "#preencher valores auzentes pela média\n",
        "clients.peso.fillna(round(media,2),inplace=True)"
      ],
      "execution_count": null,
      "outputs": []
    },
    {
      "cell_type": "code",
      "metadata": {
        "colab": {
          "base_uri": "https://localhost:8080/"
        },
        "id": "i0CH_zuWA2jB",
        "outputId": "9e9df222-fa4d-4cbb-88ac-b260d2c8e2a2"
      },
      "source": [
        "clients.isna().sum() #verificando se tem algum valor null"
      ],
      "execution_count": null,
      "outputs": [
        {
          "output_type": "execute_result",
          "data": {
            "text/plain": [
              "id_cliente    0\n",
              "peso          0\n",
              "colesterol    0\n",
              "genero        0\n",
              "id_estado     0\n",
              "dtype: int64"
            ]
          },
          "metadata": {},
          "execution_count": 22
        }
      ]
    },
    {
      "cell_type": "code",
      "metadata": {
        "colab": {
          "base_uri": "https://localhost:8080/"
        },
        "id": "3tRm133yBZq6",
        "outputId": "98b3452d-7c56-4990-b3a9-5a4f42191db1"
      },
      "source": [
        "clients.count()"
      ],
      "execution_count": null,
      "outputs": [
        {
          "output_type": "execute_result",
          "data": {
            "text/plain": [
              "id_cliente    547\n",
              "peso          547\n",
              "colesterol    547\n",
              "genero        547\n",
              "id_estado     547\n",
              "dtype: int64"
            ]
          },
          "metadata": {},
          "execution_count": 23
        }
      ]
    },
    {
      "cell_type": "markdown",
      "metadata": {
        "id": "Zsy_QYjUFaOT"
      },
      "source": [
        "#Substituindo variavel categorica\n",
        "###Quando temos uma variavel categorica o que fazemos é substituir pela variavle mais usada"
      ]
    },
    {
      "cell_type": "code",
      "metadata": {
        "colab": {
          "base_uri": "https://localhost:8080/"
        },
        "id": "pVJyaBGtFdzp",
        "outputId": "59b48abc-6b17-440f-de12-d64d8a2a05da"
      },
      "source": [
        "  print(estados.pais.value_counts())"
      ],
      "execution_count": null,
      "outputs": [
        {
          "output_type": "stream",
          "text": [
            "Brasil    25\n",
            "Name: pais, dtype: int64\n"
          ],
          "name": "stdout"
        }
      ]
    },
    {
      "cell_type": "code",
      "metadata": {
        "id": "N6w6jxEVGw-M"
      },
      "source": [
        "estados.pais.fillna('Brasil',inplace=True)"
      ],
      "execution_count": null,
      "outputs": []
    },
    {
      "cell_type": "code",
      "metadata": {
        "colab": {
          "base_uri": "https://localhost:8080/"
        },
        "id": "N-ufirrlGLx7",
        "outputId": "7259c3a2-25b7-471e-aece-a690239051ac"
      },
      "source": [
        "estados.isna().sum()"
      ],
      "execution_count": null,
      "outputs": [
        {
          "output_type": "execute_result",
          "data": {
            "text/plain": [
              "id_estado       0\n",
              "estado          0\n",
              "sigla_estado    0\n",
              "pais            0\n",
              "dtype: int64"
            ]
          },
          "metadata": {},
          "execution_count": 26
        }
      ]
    },
    {
      "cell_type": "markdown",
      "metadata": {
        "id": "iqneoLRrGf-s"
      },
      "source": [
        "#Analizando a  distribuição de dados"
      ]
    },
    {
      "cell_type": "code",
      "metadata": {
        "id": "9OQ4M05fHUUA"
      },
      "source": [
        "import matplotlib.pyplot as plt"
      ],
      "execution_count": null,
      "outputs": []
    },
    {
      "cell_type": "code",
      "metadata": {
        "colab": {
          "base_uri": "https://localhost:8080/",
          "height": 443
        },
        "id": "Jgo3H8p6HbdC",
        "outputId": "b7e3a9ec-34ba-4278-ebd3-22bc54447265"
      },
      "source": [
        "clients.hist(column='peso',figsize=(15,7))\n",
        "plt.show()"
      ],
      "execution_count": null,
      "outputs": [
        {
          "output_type": "display_data",
          "data": {
            "image/png": "[encoded data removed]",
            "text/plain": [
              "<Figure size 1080x504 with 1 Axes>"
            ]
          },
          "metadata": {
            "needs_background": "light"
          }
        }
      ]
    },
    {
      "cell_type": "code",
      "metadata": {
        "colab": {
          "base_uri": "https://localhost:8080/",
          "height": 476
        },
        "id": "5EWSBsSVH8PK",
        "outputId": "2bad77ab-b884-4e59-ebf1-38125befebbb"
      },
      "source": [
        "clients.hist(column='peso',figsize=(15,7),bins=100)"
      ],
      "execution_count": null,
      "outputs": [
        {
          "output_type": "execute_result",
          "data": {
            "text/plain": [
              "array([[<matplotlib.axes._subplots.AxesSubplot object at 0x7f61b652d350>]],\n",
              "      dtype=object)"
            ]
          },
          "metadata": {},
          "execution_count": 29
        },
        {
          "output_type": "display_data",
          "data": {
            "image/png": "[encoded data removed]",
            "text/plain": [
              "<Figure size 1080x504 with 1 Axes>"
            ]
          },
          "metadata": {
            "needs_background": "light"
          }
        }
      ]
    },
    {
      "cell_type": "code",
      "metadata": {
        "colab": {
          "base_uri": "https://localhost:8080/",
          "height": 476
        },
        "id": "0FkS_rbhIO03",
        "outputId": "9445864c-9034-4e10-87bc-0de377b92bf2"
      },
      "source": [
        "clients.hist(column='colesterol',figsize=(15,7),bins=100)"
      ],
      "execution_count": null,
      "outputs": [
        {
          "output_type": "execute_result",
          "data": {
            "text/plain": [
              "array([[<matplotlib.axes._subplots.AxesSubplot object at 0x7f61b63bd2d0>]],\n",
              "      dtype=object)"
            ]
          },
          "metadata": {},
          "execution_count": 30
        },
        {
          "output_type": "display_data",
          "data": {
            "image/png": "[encoded data removed]",
            "text/plain": [
              "<Figure size 1080x504 with 1 Axes>"
            ]
          },
          "metadata": {
            "needs_background": "light"
          }
        }
      ]
    },
    {
      "cell_type": "code",
      "metadata": {
        "id": "jTG5kTGNIsqY"
      },
      "source": [
        "#Criando um identificador para a váriavel genero\n",
        "from sklearn.preprocessing import LabelEncoder\n",
        "\n",
        "LE = LabelEncoder()\n",
        "clients['genero_number'] = LE.fit_transform(clients['genero']) "
      ],
      "execution_count": null,
      "outputs": []
    },
    {
      "cell_type": "code",
      "metadata": {
        "colab": {
          "base_uri": "https://localhost:8080/",
          "height": 408
        },
        "id": "jzQMKvFpJWnK",
        "outputId": "6d5feb3d-b01a-4767-dc32-b000b9710527"
      },
      "source": [
        "clients"
      ],
      "execution_count": null,
      "outputs": [
        {
          "output_type": "execute_result",
          "data": {
            "text/html": [
              "<div>\n",
              "<style scoped>\n",
              "    .dataframe tbody tr th:only-of-type {\n",
              "        vertical-align: middle;\n",
              "    }\n",
              "\n",
              "    .dataframe tbody tr th {\n",
              "        vertical-align: top;\n",
              "    }\n",
              "\n",
              "    .dataframe thead th {\n",
              "        text-align: right;\n",
              "    }\n",
              "</style>\n",
              "<table border=\"1\" class=\"dataframe\">\n",
              "  <thead>\n",
              "    <tr style=\"text-align: right;\">\n",
              "      <th></th>\n",
              "      <th>id_cliente</th>\n",
              "      <th>peso</th>\n",
              "      <th>colesterol</th>\n",
              "      <th>genero</th>\n",
              "      <th>id_estado</th>\n",
              "      <th>genero_number</th>\n",
              "    </tr>\n",
              "  </thead>\n",
              "  <tbody>\n",
              "    <tr>\n",
              "      <th>0</th>\n",
              "      <td>1</td>\n",
              "      <td>102</td>\n",
              "      <td>111</td>\n",
              "      <td>Masculino</td>\n",
              "      <td>23</td>\n",
              "      <td>1</td>\n",
              "    </tr>\n",
              "    <tr>\n",
              "      <th>1</th>\n",
              "      <td>2</td>\n",
              "      <td>115</td>\n",
              "      <td>135</td>\n",
              "      <td>Masculino</td>\n",
              "      <td>7</td>\n",
              "      <td>1</td>\n",
              "    </tr>\n",
              "    <tr>\n",
              "      <th>2</th>\n",
              "      <td>3</td>\n",
              "      <td>115</td>\n",
              "      <td>136</td>\n",
              "      <td>Masculino</td>\n",
              "      <td>4</td>\n",
              "      <td>1</td>\n",
              "    </tr>\n",
              "    <tr>\n",
              "      <th>3</th>\n",
              "      <td>4</td>\n",
              "      <td>140</td>\n",
              "      <td>167</td>\n",
              "      <td>Feminino</td>\n",
              "      <td>24</td>\n",
              "      <td>0</td>\n",
              "    </tr>\n",
              "    <tr>\n",
              "      <th>4</th>\n",
              "      <td>5</td>\n",
              "      <td>130</td>\n",
              "      <td>158</td>\n",
              "      <td>Masculino</td>\n",
              "      <td>26</td>\n",
              "      <td>1</td>\n",
              "    </tr>\n",
              "    <tr>\n",
              "      <th>...</th>\n",
              "      <td>...</td>\n",
              "      <td>...</td>\n",
              "      <td>...</td>\n",
              "      <td>...</td>\n",
              "      <td>...</td>\n",
              "      <td>...</td>\n",
              "    </tr>\n",
              "    <tr>\n",
              "      <th>542</th>\n",
              "      <td>543</td>\n",
              "      <td>172</td>\n",
              "      <td>207</td>\n",
              "      <td>Masculino</td>\n",
              "      <td>22</td>\n",
              "      <td>1</td>\n",
              "    </tr>\n",
              "    <tr>\n",
              "      <th>543</th>\n",
              "      <td>544</td>\n",
              "      <td>129</td>\n",
              "      <td>157</td>\n",
              "      <td>Masculino</td>\n",
              "      <td>1</td>\n",
              "      <td>1</td>\n",
              "    </tr>\n",
              "    <tr>\n",
              "      <th>544</th>\n",
              "      <td>545</td>\n",
              "      <td>107</td>\n",
              "      <td>115</td>\n",
              "      <td>Masculino</td>\n",
              "      <td>6</td>\n",
              "      <td>1</td>\n",
              "    </tr>\n",
              "    <tr>\n",
              "      <th>545</th>\n",
              "      <td>546</td>\n",
              "      <td>117</td>\n",
              "      <td>147</td>\n",
              "      <td>Masculino</td>\n",
              "      <td>20</td>\n",
              "      <td>1</td>\n",
              "    </tr>\n",
              "    <tr>\n",
              "      <th>546</th>\n",
              "      <td>547</td>\n",
              "      <td>148</td>\n",
              "      <td>176</td>\n",
              "      <td>Masculino</td>\n",
              "      <td>8</td>\n",
              "      <td>1</td>\n",
              "    </tr>\n",
              "  </tbody>\n",
              "</table>\n",
              "<p>547 rows × 6 columns</p>\n",
              "</div>"
            ],
            "text/plain": [
              "     id_cliente  peso  colesterol     genero  id_estado  genero_number\n",
              "0             1   102         111  Masculino         23              1\n",
              "1             2   115         135  Masculino          7              1\n",
              "2             3   115         136  Masculino          4              1\n",
              "3             4   140         167   Feminino         24              0\n",
              "4             5   130         158  Masculino         26              1\n",
              "..          ...   ...         ...        ...        ...            ...\n",
              "542         543   172         207  Masculino         22              1\n",
              "543         544   129         157  Masculino          1              1\n",
              "544         545   107         115  Masculino          6              1\n",
              "545         546   117         147  Masculino         20              1\n",
              "546         547   148         176  Masculino          8              1\n",
              "\n",
              "[547 rows x 6 columns]"
            ]
          },
          "metadata": {},
          "execution_count": 32
        }
      ]
    },
    {
      "cell_type": "code",
      "metadata": {
        "colab": {
          "base_uri": "https://localhost:8080/",
          "height": 476
        },
        "id": "2oA07gRXJrlx",
        "outputId": "c2ee384d-b48f-4181-9f7d-ff9b14fc5411"
      },
      "source": [
        "clients.hist(column='genero_number',figsize=(15,7), bins=3)"
      ],
      "execution_count": null,
      "outputs": [
        {
          "output_type": "execute_result",
          "data": {
            "text/plain": [
              "array([[<matplotlib.axes._subplots.AxesSubplot object at 0x7f61a6dd5210>]],\n",
              "      dtype=object)"
            ]
          },
          "metadata": {},
          "execution_count": 33
        },
        {
          "output_type": "display_data",
          "data": {
            "image/png": "[encoded data removed]",
            "text/plain": [
              "<Figure size 1080x504 with 1 Axes>"
            ]
          },
          "metadata": {
            "needs_background": "light"
          }
        }
      ]
    },
    {
      "cell_type": "markdown",
      "metadata": {
        "id": "QOqazuL1J9bK"
      },
      "source": [
        "#junções de dados coletados"
      ]
    },
    {
      "cell_type": "code",
      "metadata": {
        "colab": {
          "base_uri": "https://localhost:8080/",
          "height": 200
        },
        "id": "JFfcAt9iRadg",
        "outputId": "24946202-3135-455b-b2a5-cc4ef4ee6f38"
      },
      "source": [
        "estados[:5]"
      ],
      "execution_count": null,
      "outputs": [
        {
          "output_type": "execute_result",
          "data": {
            "text/html": [
              "<div>\n",
              "<style scoped>\n",
              "    .dataframe tbody tr th:only-of-type {\n",
              "        vertical-align: middle;\n",
              "    }\n",
              "\n",
              "    .dataframe tbody tr th {\n",
              "        vertical-align: top;\n",
              "    }\n",
              "\n",
              "    .dataframe thead th {\n",
              "        text-align: right;\n",
              "    }\n",
              "</style>\n",
              "<table border=\"1\" class=\"dataframe\">\n",
              "  <thead>\n",
              "    <tr style=\"text-align: right;\">\n",
              "      <th></th>\n",
              "      <th>id_estado</th>\n",
              "      <th>estado</th>\n",
              "      <th>sigla_estado</th>\n",
              "      <th>pais</th>\n",
              "    </tr>\n",
              "  </thead>\n",
              "  <tbody>\n",
              "    <tr>\n",
              "      <th>0</th>\n",
              "      <td>1</td>\n",
              "      <td>Acre</td>\n",
              "      <td>ac</td>\n",
              "      <td>Brasil</td>\n",
              "    </tr>\n",
              "    <tr>\n",
              "      <th>1</th>\n",
              "      <td>2</td>\n",
              "      <td>Alagoas</td>\n",
              "      <td>al</td>\n",
              "      <td>Brasil</td>\n",
              "    </tr>\n",
              "    <tr>\n",
              "      <th>2</th>\n",
              "      <td>3</td>\n",
              "      <td>Amapá</td>\n",
              "      <td>ap</td>\n",
              "      <td>Brasil</td>\n",
              "    </tr>\n",
              "    <tr>\n",
              "      <th>3</th>\n",
              "      <td>4</td>\n",
              "      <td>Amazonas</td>\n",
              "      <td>am</td>\n",
              "      <td>Brasil</td>\n",
              "    </tr>\n",
              "    <tr>\n",
              "      <th>4</th>\n",
              "      <td>5</td>\n",
              "      <td>Bahia</td>\n",
              "      <td>ba</td>\n",
              "      <td>Brasil</td>\n",
              "    </tr>\n",
              "  </tbody>\n",
              "</table>\n",
              "</div>"
            ],
            "text/plain": [
              "   id_estado    estado sigla_estado    pais\n",
              "0          1      Acre           ac  Brasil\n",
              "1          2   Alagoas           al  Brasil\n",
              "2          3     Amapá           ap  Brasil\n",
              "3          4  Amazonas           am  Brasil\n",
              "4          5     Bahia           ba  Brasil"
            ]
          },
          "metadata": {},
          "execution_count": 34
        }
      ]
    },
    {
      "cell_type": "code",
      "metadata": {
        "colab": {
          "base_uri": "https://localhost:8080/",
          "height": 200
        },
        "id": "8rMDurWWRetu",
        "outputId": "ac696fb9-56ce-40a0-c6fe-404ab21eb7ee"
      },
      "source": [
        "clients[:5]"
      ],
      "execution_count": null,
      "outputs": [
        {
          "output_type": "execute_result",
          "data": {
            "text/html": [
              "<div>\n",
              "<style scoped>\n",
              "    .dataframe tbody tr th:only-of-type {\n",
              "        vertical-align: middle;\n",
              "    }\n",
              "\n",
              "    .dataframe tbody tr th {\n",
              "        vertical-align: top;\n",
              "    }\n",
              "\n",
              "    .dataframe thead th {\n",
              "        text-align: right;\n",
              "    }\n",
              "</style>\n",
              "<table border=\"1\" class=\"dataframe\">\n",
              "  <thead>\n",
              "    <tr style=\"text-align: right;\">\n",
              "      <th></th>\n",
              "      <th>id_cliente</th>\n",
              "      <th>peso</th>\n",
              "      <th>colesterol</th>\n",
              "      <th>genero</th>\n",
              "      <th>id_estado</th>\n",
              "      <th>genero_number</th>\n",
              "    </tr>\n",
              "  </thead>\n",
              "  <tbody>\n",
              "    <tr>\n",
              "      <th>0</th>\n",
              "      <td>1</td>\n",
              "      <td>102</td>\n",
              "      <td>111</td>\n",
              "      <td>Masculino</td>\n",
              "      <td>23</td>\n",
              "      <td>1</td>\n",
              "    </tr>\n",
              "    <tr>\n",
              "      <th>1</th>\n",
              "      <td>2</td>\n",
              "      <td>115</td>\n",
              "      <td>135</td>\n",
              "      <td>Masculino</td>\n",
              "      <td>7</td>\n",
              "      <td>1</td>\n",
              "    </tr>\n",
              "    <tr>\n",
              "      <th>2</th>\n",
              "      <td>3</td>\n",
              "      <td>115</td>\n",
              "      <td>136</td>\n",
              "      <td>Masculino</td>\n",
              "      <td>4</td>\n",
              "      <td>1</td>\n",
              "    </tr>\n",
              "    <tr>\n",
              "      <th>3</th>\n",
              "      <td>4</td>\n",
              "      <td>140</td>\n",
              "      <td>167</td>\n",
              "      <td>Feminino</td>\n",
              "      <td>24</td>\n",
              "      <td>0</td>\n",
              "    </tr>\n",
              "    <tr>\n",
              "      <th>4</th>\n",
              "      <td>5</td>\n",
              "      <td>130</td>\n",
              "      <td>158</td>\n",
              "      <td>Masculino</td>\n",
              "      <td>26</td>\n",
              "      <td>1</td>\n",
              "    </tr>\n",
              "  </tbody>\n",
              "</table>\n",
              "</div>"
            ],
            "text/plain": [
              "   id_cliente  peso  colesterol     genero  id_estado  genero_number\n",
              "0           1   102         111  Masculino         23              1\n",
              "1           2   115         135  Masculino          7              1\n",
              "2           3   115         136  Masculino          4              1\n",
              "3           4   140         167   Feminino         24              0\n",
              "4           5   130         158  Masculino         26              1"
            ]
          },
          "metadata": {},
          "execution_count": 35
        }
      ]
    },
    {
      "cell_type": "code",
      "metadata": {
        "colab": {
          "base_uri": "https://localhost:8080/",
          "height": 408
        },
        "id": "0H62c-OeRiVY",
        "outputId": "2e4a8387-69ed-4b40-8bbf-8edf073d5a45"
      },
      "source": [
        "clients_estados = pd.merge(clients,estados,on='id_estado')\n",
        "clients_estados.sort_values('id_cliente')"
      ],
      "execution_count": null,
      "outputs": [
        {
          "output_type": "execute_result",
          "data": {
            "text/html": [
              "<div>\n",
              "<style scoped>\n",
              "    .dataframe tbody tr th:only-of-type {\n",
              "        vertical-align: middle;\n",
              "    }\n",
              "\n",
              "    .dataframe tbody tr th {\n",
              "        vertical-align: top;\n",
              "    }\n",
              "\n",
              "    .dataframe thead th {\n",
              "        text-align: right;\n",
              "    }\n",
              "</style>\n",
              "<table border=\"1\" class=\"dataframe\">\n",
              "  <thead>\n",
              "    <tr style=\"text-align: right;\">\n",
              "      <th></th>\n",
              "      <th>id_cliente</th>\n",
              "      <th>peso</th>\n",
              "      <th>colesterol</th>\n",
              "      <th>genero</th>\n",
              "      <th>id_estado</th>\n",
              "      <th>genero_number</th>\n",
              "      <th>estado</th>\n",
              "      <th>sigla_estado</th>\n",
              "      <th>pais</th>\n",
              "    </tr>\n",
              "  </thead>\n",
              "  <tbody>\n",
              "    <tr>\n",
              "      <th>0</th>\n",
              "      <td>1</td>\n",
              "      <td>102</td>\n",
              "      <td>111</td>\n",
              "      <td>Masculino</td>\n",
              "      <td>23</td>\n",
              "      <td>1</td>\n",
              "      <td>Roraima</td>\n",
              "      <td>rr</td>\n",
              "      <td>Brasil</td>\n",
              "    </tr>\n",
              "    <tr>\n",
              "      <th>18</th>\n",
              "      <td>2</td>\n",
              "      <td>115</td>\n",
              "      <td>135</td>\n",
              "      <td>Masculino</td>\n",
              "      <td>7</td>\n",
              "      <td>1</td>\n",
              "      <td>Distrito Federal</td>\n",
              "      <td>df</td>\n",
              "      <td>Brasil</td>\n",
              "    </tr>\n",
              "    <tr>\n",
              "      <th>40</th>\n",
              "      <td>3</td>\n",
              "      <td>115</td>\n",
              "      <td>136</td>\n",
              "      <td>Masculino</td>\n",
              "      <td>4</td>\n",
              "      <td>1</td>\n",
              "      <td>Amazonas</td>\n",
              "      <td>am</td>\n",
              "      <td>Brasil</td>\n",
              "    </tr>\n",
              "    <tr>\n",
              "      <th>65</th>\n",
              "      <td>4</td>\n",
              "      <td>140</td>\n",
              "      <td>167</td>\n",
              "      <td>Feminino</td>\n",
              "      <td>24</td>\n",
              "      <td>0</td>\n",
              "      <td>Santa Catarina</td>\n",
              "      <td>sc</td>\n",
              "      <td>Brasil</td>\n",
              "    </tr>\n",
              "    <tr>\n",
              "      <th>87</th>\n",
              "      <td>5</td>\n",
              "      <td>130</td>\n",
              "      <td>158</td>\n",
              "      <td>Masculino</td>\n",
              "      <td>26</td>\n",
              "      <td>1</td>\n",
              "      <td>Sergipe</td>\n",
              "      <td>se</td>\n",
              "      <td>Brasil</td>\n",
              "    </tr>\n",
              "    <tr>\n",
              "      <th>...</th>\n",
              "      <td>...</td>\n",
              "      <td>...</td>\n",
              "      <td>...</td>\n",
              "      <td>...</td>\n",
              "      <td>...</td>\n",
              "      <td>...</td>\n",
              "      <td>...</td>\n",
              "      <td>...</td>\n",
              "      <td>...</td>\n",
              "    </tr>\n",
              "    <tr>\n",
              "      <th>443</th>\n",
              "      <td>543</td>\n",
              "      <td>172</td>\n",
              "      <td>207</td>\n",
              "      <td>Masculino</td>\n",
              "      <td>22</td>\n",
              "      <td>1</td>\n",
              "      <td>Rondônia</td>\n",
              "      <td>ro</td>\n",
              "      <td>Brasil</td>\n",
              "    </tr>\n",
              "    <tr>\n",
              "      <th>478</th>\n",
              "      <td>544</td>\n",
              "      <td>129</td>\n",
              "      <td>157</td>\n",
              "      <td>Masculino</td>\n",
              "      <td>1</td>\n",
              "      <td>1</td>\n",
              "      <td>Acre</td>\n",
              "      <td>ac</td>\n",
              "      <td>Brasil</td>\n",
              "    </tr>\n",
              "    <tr>\n",
              "      <th>178</th>\n",
              "      <td>545</td>\n",
              "      <td>107</td>\n",
              "      <td>115</td>\n",
              "      <td>Masculino</td>\n",
              "      <td>6</td>\n",
              "      <td>1</td>\n",
              "      <td>Ceará</td>\n",
              "      <td>ce</td>\n",
              "      <td>Brasil</td>\n",
              "    </tr>\n",
              "    <tr>\n",
              "      <th>396</th>\n",
              "      <td>546</td>\n",
              "      <td>117</td>\n",
              "      <td>147</td>\n",
              "      <td>Masculino</td>\n",
              "      <td>20</td>\n",
              "      <td>1</td>\n",
              "      <td>Rio Grande do Norte</td>\n",
              "      <td>rn</td>\n",
              "      <td>Brasil</td>\n",
              "    </tr>\n",
              "    <tr>\n",
              "      <th>123</th>\n",
              "      <td>547</td>\n",
              "      <td>148</td>\n",
              "      <td>176</td>\n",
              "      <td>Masculino</td>\n",
              "      <td>8</td>\n",
              "      <td>1</td>\n",
              "      <td>Espírito Santo</td>\n",
              "      <td>es</td>\n",
              "      <td>Brasil</td>\n",
              "    </tr>\n",
              "  </tbody>\n",
              "</table>\n",
              "<p>547 rows × 9 columns</p>\n",
              "</div>"
            ],
            "text/plain": [
              "     id_cliente  peso  colesterol  ...               estado  sigla_estado    pais\n",
              "0             1   102         111  ...              Roraima            rr  Brasil\n",
              "18            2   115         135  ...     Distrito Federal            df  Brasil\n",
              "40            3   115         136  ...             Amazonas            am  Brasil\n",
              "65            4   140         167  ...       Santa Catarina            sc  Brasil\n",
              "87            5   130         158  ...              Sergipe            se  Brasil\n",
              "..          ...   ...         ...  ...                  ...           ...     ...\n",
              "443         543   172         207  ...             Rondônia            ro  Brasil\n",
              "478         544   129         157  ...                 Acre            ac  Brasil\n",
              "178         545   107         115  ...                Ceará            ce  Brasil\n",
              "396         546   117         147  ...  Rio Grande do Norte            rn  Brasil\n",
              "123         547   148         176  ...       Espírito Santo            es  Brasil\n",
              "\n",
              "[547 rows x 9 columns]"
            ]
          },
          "metadata": {},
          "execution_count": 36
        }
      ]
    },
    {
      "cell_type": "code",
      "metadata": {
        "id": "VLgnrbNnR42Y"
      },
      "source": [
        "#realiza  junção entre  clientes e  idades\n",
        "base_completa = pd.merge(clients_estados,age,on='id_cliente').sort_values('id_cliente')"
      ],
      "execution_count": null,
      "outputs": []
    },
    {
      "cell_type": "code",
      "metadata": {
        "colab": {
          "base_uri": "https://localhost:8080/",
          "height": 408
        },
        "id": "gkuPF9OtTVKl",
        "outputId": "adb35fcc-abfa-4090-f817-87f10ef957ae"
      },
      "source": [
        "base_completa"
      ],
      "execution_count": null,
      "outputs": [
        {
          "output_type": "execute_result",
          "data": {
            "text/html": [
              "<div>\n",
              "<style scoped>\n",
              "    .dataframe tbody tr th:only-of-type {\n",
              "        vertical-align: middle;\n",
              "    }\n",
              "\n",
              "    .dataframe tbody tr th {\n",
              "        vertical-align: top;\n",
              "    }\n",
              "\n",
              "    .dataframe thead th {\n",
              "        text-align: right;\n",
              "    }\n",
              "</style>\n",
              "<table border=\"1\" class=\"dataframe\">\n",
              "  <thead>\n",
              "    <tr style=\"text-align: right;\">\n",
              "      <th></th>\n",
              "      <th>id_cliente</th>\n",
              "      <th>peso</th>\n",
              "      <th>colesterol</th>\n",
              "      <th>genero</th>\n",
              "      <th>id_estado</th>\n",
              "      <th>genero_number</th>\n",
              "      <th>estado</th>\n",
              "      <th>sigla_estado</th>\n",
              "      <th>pais</th>\n",
              "      <th>idade</th>\n",
              "    </tr>\n",
              "  </thead>\n",
              "  <tbody>\n",
              "    <tr>\n",
              "      <th>0</th>\n",
              "      <td>1</td>\n",
              "      <td>102</td>\n",
              "      <td>111</td>\n",
              "      <td>Masculino</td>\n",
              "      <td>23</td>\n",
              "      <td>1</td>\n",
              "      <td>Roraima</td>\n",
              "      <td>rr</td>\n",
              "      <td>Brasil</td>\n",
              "      <td>17</td>\n",
              "    </tr>\n",
              "    <tr>\n",
              "      <th>18</th>\n",
              "      <td>2</td>\n",
              "      <td>115</td>\n",
              "      <td>135</td>\n",
              "      <td>Masculino</td>\n",
              "      <td>7</td>\n",
              "      <td>1</td>\n",
              "      <td>Distrito Federal</td>\n",
              "      <td>df</td>\n",
              "      <td>Brasil</td>\n",
              "      <td>28</td>\n",
              "    </tr>\n",
              "    <tr>\n",
              "      <th>40</th>\n",
              "      <td>3</td>\n",
              "      <td>115</td>\n",
              "      <td>136</td>\n",
              "      <td>Masculino</td>\n",
              "      <td>4</td>\n",
              "      <td>1</td>\n",
              "      <td>Amazonas</td>\n",
              "      <td>am</td>\n",
              "      <td>Brasil</td>\n",
              "      <td>62</td>\n",
              "    </tr>\n",
              "    <tr>\n",
              "      <th>65</th>\n",
              "      <td>4</td>\n",
              "      <td>140</td>\n",
              "      <td>167</td>\n",
              "      <td>Feminino</td>\n",
              "      <td>24</td>\n",
              "      <td>0</td>\n",
              "      <td>Santa Catarina</td>\n",
              "      <td>sc</td>\n",
              "      <td>Brasil</td>\n",
              "      <td>55</td>\n",
              "    </tr>\n",
              "    <tr>\n",
              "      <th>87</th>\n",
              "      <td>5</td>\n",
              "      <td>130</td>\n",
              "      <td>158</td>\n",
              "      <td>Masculino</td>\n",
              "      <td>26</td>\n",
              "      <td>1</td>\n",
              "      <td>Sergipe</td>\n",
              "      <td>se</td>\n",
              "      <td>Brasil</td>\n",
              "      <td>44</td>\n",
              "    </tr>\n",
              "    <tr>\n",
              "      <th>...</th>\n",
              "      <td>...</td>\n",
              "      <td>...</td>\n",
              "      <td>...</td>\n",
              "      <td>...</td>\n",
              "      <td>...</td>\n",
              "      <td>...</td>\n",
              "      <td>...</td>\n",
              "      <td>...</td>\n",
              "      <td>...</td>\n",
              "      <td>...</td>\n",
              "    </tr>\n",
              "    <tr>\n",
              "      <th>443</th>\n",
              "      <td>543</td>\n",
              "      <td>172</td>\n",
              "      <td>207</td>\n",
              "      <td>Masculino</td>\n",
              "      <td>22</td>\n",
              "      <td>1</td>\n",
              "      <td>Rondônia</td>\n",
              "      <td>ro</td>\n",
              "      <td>Brasil</td>\n",
              "      <td>20</td>\n",
              "    </tr>\n",
              "    <tr>\n",
              "      <th>478</th>\n",
              "      <td>544</td>\n",
              "      <td>129</td>\n",
              "      <td>157</td>\n",
              "      <td>Masculino</td>\n",
              "      <td>1</td>\n",
              "      <td>1</td>\n",
              "      <td>Acre</td>\n",
              "      <td>ac</td>\n",
              "      <td>Brasil</td>\n",
              "      <td>66</td>\n",
              "    </tr>\n",
              "    <tr>\n",
              "      <th>178</th>\n",
              "      <td>545</td>\n",
              "      <td>107</td>\n",
              "      <td>115</td>\n",
              "      <td>Masculino</td>\n",
              "      <td>6</td>\n",
              "      <td>1</td>\n",
              "      <td>Ceará</td>\n",
              "      <td>ce</td>\n",
              "      <td>Brasil</td>\n",
              "      <td>36</td>\n",
              "    </tr>\n",
              "    <tr>\n",
              "      <th>396</th>\n",
              "      <td>546</td>\n",
              "      <td>117</td>\n",
              "      <td>147</td>\n",
              "      <td>Masculino</td>\n",
              "      <td>20</td>\n",
              "      <td>1</td>\n",
              "      <td>Rio Grande do Norte</td>\n",
              "      <td>rn</td>\n",
              "      <td>Brasil</td>\n",
              "      <td>57</td>\n",
              "    </tr>\n",
              "    <tr>\n",
              "      <th>123</th>\n",
              "      <td>547</td>\n",
              "      <td>148</td>\n",
              "      <td>176</td>\n",
              "      <td>Masculino</td>\n",
              "      <td>8</td>\n",
              "      <td>1</td>\n",
              "      <td>Espírito Santo</td>\n",
              "      <td>es</td>\n",
              "      <td>Brasil</td>\n",
              "      <td>61</td>\n",
              "    </tr>\n",
              "  </tbody>\n",
              "</table>\n",
              "<p>547 rows × 10 columns</p>\n",
              "</div>"
            ],
            "text/plain": [
              "     id_cliente  peso  colesterol  ... sigla_estado    pais  idade\n",
              "0             1   102         111  ...           rr  Brasil     17\n",
              "18            2   115         135  ...           df  Brasil     28\n",
              "40            3   115         136  ...           am  Brasil     62\n",
              "65            4   140         167  ...           sc  Brasil     55\n",
              "87            5   130         158  ...           se  Brasil     44\n",
              "..          ...   ...         ...  ...          ...     ...    ...\n",
              "443         543   172         207  ...           ro  Brasil     20\n",
              "478         544   129         157  ...           ac  Brasil     66\n",
              "178         545   107         115  ...           ce  Brasil     36\n",
              "396         546   117         147  ...           rn  Brasil     57\n",
              "123         547   148         176  ...           es  Brasil     61\n",
              "\n",
              "[547 rows x 10 columns]"
            ]
          },
          "metadata": {},
          "execution_count": 38
        }
      ]
    },
    {
      "cell_type": "code",
      "metadata": {
        "colab": {
          "base_uri": "https://localhost:8080/",
          "height": 408
        },
        "id": "yUKhxiKUTW0E",
        "outputId": "366c2462-317b-4bdd-e325-e15bd146d352"
      },
      "source": [
        "base_completa.reset_index(drop=True)"
      ],
      "execution_count": null,
      "outputs": [
        {
          "output_type": "execute_result",
          "data": {
            "text/html": [
              "<div>\n",
              "<style scoped>\n",
              "    .dataframe tbody tr th:only-of-type {\n",
              "        vertical-align: middle;\n",
              "    }\n",
              "\n",
              "    .dataframe tbody tr th {\n",
              "        vertical-align: top;\n",
              "    }\n",
              "\n",
              "    .dataframe thead th {\n",
              "        text-align: right;\n",
              "    }\n",
              "</style>\n",
              "<table border=\"1\" class=\"dataframe\">\n",
              "  <thead>\n",
              "    <tr style=\"text-align: right;\">\n",
              "      <th></th>\n",
              "      <th>id_cliente</th>\n",
              "      <th>peso</th>\n",
              "      <th>colesterol</th>\n",
              "      <th>genero</th>\n",
              "      <th>id_estado</th>\n",
              "      <th>genero_number</th>\n",
              "      <th>estado</th>\n",
              "      <th>sigla_estado</th>\n",
              "      <th>pais</th>\n",
              "      <th>idade</th>\n",
              "    </tr>\n",
              "  </thead>\n",
              "  <tbody>\n",
              "    <tr>\n",
              "      <th>0</th>\n",
              "      <td>1</td>\n",
              "      <td>102</td>\n",
              "      <td>111</td>\n",
              "      <td>Masculino</td>\n",
              "      <td>23</td>\n",
              "      <td>1</td>\n",
              "      <td>Roraima</td>\n",
              "      <td>rr</td>\n",
              "      <td>Brasil</td>\n",
              "      <td>17</td>\n",
              "    </tr>\n",
              "    <tr>\n",
              "      <th>1</th>\n",
              "      <td>2</td>\n",
              "      <td>115</td>\n",
              "      <td>135</td>\n",
              "      <td>Masculino</td>\n",
              "      <td>7</td>\n",
              "      <td>1</td>\n",
              "      <td>Distrito Federal</td>\n",
              "      <td>df</td>\n",
              "      <td>Brasil</td>\n",
              "      <td>28</td>\n",
              "    </tr>\n",
              "    <tr>\n",
              "      <th>2</th>\n",
              "      <td>3</td>\n",
              "      <td>115</td>\n",
              "      <td>136</td>\n",
              "      <td>Masculino</td>\n",
              "      <td>4</td>\n",
              "      <td>1</td>\n",
              "      <td>Amazonas</td>\n",
              "      <td>am</td>\n",
              "      <td>Brasil</td>\n",
              "      <td>62</td>\n",
              "    </tr>\n",
              "    <tr>\n",
              "      <th>3</th>\n",
              "      <td>4</td>\n",
              "      <td>140</td>\n",
              "      <td>167</td>\n",
              "      <td>Feminino</td>\n",
              "      <td>24</td>\n",
              "      <td>0</td>\n",
              "      <td>Santa Catarina</td>\n",
              "      <td>sc</td>\n",
              "      <td>Brasil</td>\n",
              "      <td>55</td>\n",
              "    </tr>\n",
              "    <tr>\n",
              "      <th>4</th>\n",
              "      <td>5</td>\n",
              "      <td>130</td>\n",
              "      <td>158</td>\n",
              "      <td>Masculino</td>\n",
              "      <td>26</td>\n",
              "      <td>1</td>\n",
              "      <td>Sergipe</td>\n",
              "      <td>se</td>\n",
              "      <td>Brasil</td>\n",
              "      <td>44</td>\n",
              "    </tr>\n",
              "    <tr>\n",
              "      <th>...</th>\n",
              "      <td>...</td>\n",
              "      <td>...</td>\n",
              "      <td>...</td>\n",
              "      <td>...</td>\n",
              "      <td>...</td>\n",
              "      <td>...</td>\n",
              "      <td>...</td>\n",
              "      <td>...</td>\n",
              "      <td>...</td>\n",
              "      <td>...</td>\n",
              "    </tr>\n",
              "    <tr>\n",
              "      <th>542</th>\n",
              "      <td>543</td>\n",
              "      <td>172</td>\n",
              "      <td>207</td>\n",
              "      <td>Masculino</td>\n",
              "      <td>22</td>\n",
              "      <td>1</td>\n",
              "      <td>Rondônia</td>\n",
              "      <td>ro</td>\n",
              "      <td>Brasil</td>\n",
              "      <td>20</td>\n",
              "    </tr>\n",
              "    <tr>\n",
              "      <th>543</th>\n",
              "      <td>544</td>\n",
              "      <td>129</td>\n",
              "      <td>157</td>\n",
              "      <td>Masculino</td>\n",
              "      <td>1</td>\n",
              "      <td>1</td>\n",
              "      <td>Acre</td>\n",
              "      <td>ac</td>\n",
              "      <td>Brasil</td>\n",
              "      <td>66</td>\n",
              "    </tr>\n",
              "    <tr>\n",
              "      <th>544</th>\n",
              "      <td>545</td>\n",
              "      <td>107</td>\n",
              "      <td>115</td>\n",
              "      <td>Masculino</td>\n",
              "      <td>6</td>\n",
              "      <td>1</td>\n",
              "      <td>Ceará</td>\n",
              "      <td>ce</td>\n",
              "      <td>Brasil</td>\n",
              "      <td>36</td>\n",
              "    </tr>\n",
              "    <tr>\n",
              "      <th>545</th>\n",
              "      <td>546</td>\n",
              "      <td>117</td>\n",
              "      <td>147</td>\n",
              "      <td>Masculino</td>\n",
              "      <td>20</td>\n",
              "      <td>1</td>\n",
              "      <td>Rio Grande do Norte</td>\n",
              "      <td>rn</td>\n",
              "      <td>Brasil</td>\n",
              "      <td>57</td>\n",
              "    </tr>\n",
              "    <tr>\n",
              "      <th>546</th>\n",
              "      <td>547</td>\n",
              "      <td>148</td>\n",
              "      <td>176</td>\n",
              "      <td>Masculino</td>\n",
              "      <td>8</td>\n",
              "      <td>1</td>\n",
              "      <td>Espírito Santo</td>\n",
              "      <td>es</td>\n",
              "      <td>Brasil</td>\n",
              "      <td>61</td>\n",
              "    </tr>\n",
              "  </tbody>\n",
              "</table>\n",
              "<p>547 rows × 10 columns</p>\n",
              "</div>"
            ],
            "text/plain": [
              "     id_cliente  peso  colesterol  ... sigla_estado    pais  idade\n",
              "0             1   102         111  ...           rr  Brasil     17\n",
              "1             2   115         135  ...           df  Brasil     28\n",
              "2             3   115         136  ...           am  Brasil     62\n",
              "3             4   140         167  ...           sc  Brasil     55\n",
              "4             5   130         158  ...           se  Brasil     44\n",
              "..          ...   ...         ...  ...          ...     ...    ...\n",
              "542         543   172         207  ...           ro  Brasil     20\n",
              "543         544   129         157  ...           ac  Brasil     66\n",
              "544         545   107         115  ...           ce  Brasil     36\n",
              "545         546   117         147  ...           rn  Brasil     57\n",
              "546         547   148         176  ...           es  Brasil     61\n",
              "\n",
              "[547 rows x 10 columns]"
            ]
          },
          "metadata": {},
          "execution_count": 39
        }
      ]
    },
    {
      "cell_type": "markdown",
      "metadata": {
        "id": "aqRNx8CwGnar"
      },
      "source": [
        "#Organizando a base de dados\n",
        "###podemos realizar varias alterações na base de dados a fim de melhorar o entendimento e disposição das colunas"
      ]
    },
    {
      "cell_type": "code",
      "metadata": {
        "colab": {
          "base_uri": "https://localhost:8080/",
          "height": 408
        },
        "id": "aggrDeE5Vt4i",
        "outputId": "c28f45bb-ec52-4abf-81f3-c0e0d3650064"
      },
      "source": [
        "#Alterando nome das colunas\n",
        "base_completa.rename(columns={'id_cliente': 'cod_cliente', 'genero_number':'cod_genero'},  inplace=True)\n",
        "base_completa\n"
      ],
      "execution_count": null,
      "outputs": [
        {
          "output_type": "execute_result",
          "data": {
            "text/html": [
              "<div>\n",
              "<style scoped>\n",
              "    .dataframe tbody tr th:only-of-type {\n",
              "        vertical-align: middle;\n",
              "    }\n",
              "\n",
              "    .dataframe tbody tr th {\n",
              "        vertical-align: top;\n",
              "    }\n",
              "\n",
              "    .dataframe thead th {\n",
              "        text-align: right;\n",
              "    }\n",
              "</style>\n",
              "<table border=\"1\" class=\"dataframe\">\n",
              "  <thead>\n",
              "    <tr style=\"text-align: right;\">\n",
              "      <th></th>\n",
              "      <th>cod_cliente</th>\n",
              "      <th>peso</th>\n",
              "      <th>colesterol</th>\n",
              "      <th>genero</th>\n",
              "      <th>id_estado</th>\n",
              "      <th>cod_genero</th>\n",
              "      <th>estado</th>\n",
              "      <th>sigla_estado</th>\n",
              "      <th>pais</th>\n",
              "      <th>idade</th>\n",
              "    </tr>\n",
              "  </thead>\n",
              "  <tbody>\n",
              "    <tr>\n",
              "      <th>0</th>\n",
              "      <td>1</td>\n",
              "      <td>102</td>\n",
              "      <td>111</td>\n",
              "      <td>Masculino</td>\n",
              "      <td>23</td>\n",
              "      <td>1</td>\n",
              "      <td>Roraima</td>\n",
              "      <td>rr</td>\n",
              "      <td>Brasil</td>\n",
              "      <td>17</td>\n",
              "    </tr>\n",
              "    <tr>\n",
              "      <th>18</th>\n",
              "      <td>2</td>\n",
              "      <td>115</td>\n",
              "      <td>135</td>\n",
              "      <td>Masculino</td>\n",
              "      <td>7</td>\n",
              "      <td>1</td>\n",
              "      <td>Distrito Federal</td>\n",
              "      <td>df</td>\n",
              "      <td>Brasil</td>\n",
              "      <td>28</td>\n",
              "    </tr>\n",
              "    <tr>\n",
              "      <th>40</th>\n",
              "      <td>3</td>\n",
              "      <td>115</td>\n",
              "      <td>136</td>\n",
              "      <td>Masculino</td>\n",
              "      <td>4</td>\n",
              "      <td>1</td>\n",
              "      <td>Amazonas</td>\n",
              "      <td>am</td>\n",
              "      <td>Brasil</td>\n",
              "      <td>62</td>\n",
              "    </tr>\n",
              "    <tr>\n",
              "      <th>65</th>\n",
              "      <td>4</td>\n",
              "      <td>140</td>\n",
              "      <td>167</td>\n",
              "      <td>Feminino</td>\n",
              "      <td>24</td>\n",
              "      <td>0</td>\n",
              "      <td>Santa Catarina</td>\n",
              "      <td>sc</td>\n",
              "      <td>Brasil</td>\n",
              "      <td>55</td>\n",
              "    </tr>\n",
              "    <tr>\n",
              "      <th>87</th>\n",
              "      <td>5</td>\n",
              "      <td>130</td>\n",
              "      <td>158</td>\n",
              "      <td>Masculino</td>\n",
              "      <td>26</td>\n",
              "      <td>1</td>\n",
              "      <td>Sergipe</td>\n",
              "      <td>se</td>\n",
              "      <td>Brasil</td>\n",
              "      <td>44</td>\n",
              "    </tr>\n",
              "    <tr>\n",
              "      <th>...</th>\n",
              "      <td>...</td>\n",
              "      <td>...</td>\n",
              "      <td>...</td>\n",
              "      <td>...</td>\n",
              "      <td>...</td>\n",
              "      <td>...</td>\n",
              "      <td>...</td>\n",
              "      <td>...</td>\n",
              "      <td>...</td>\n",
              "      <td>...</td>\n",
              "    </tr>\n",
              "    <tr>\n",
              "      <th>443</th>\n",
              "      <td>543</td>\n",
              "      <td>172</td>\n",
              "      <td>207</td>\n",
              "      <td>Masculino</td>\n",
              "      <td>22</td>\n",
              "      <td>1</td>\n",
              "      <td>Rondônia</td>\n",
              "      <td>ro</td>\n",
              "      <td>Brasil</td>\n",
              "      <td>20</td>\n",
              "    </tr>\n",
              "    <tr>\n",
              "      <th>478</th>\n",
              "      <td>544</td>\n",
              "      <td>129</td>\n",
              "      <td>157</td>\n",
              "      <td>Masculino</td>\n",
              "      <td>1</td>\n",
              "      <td>1</td>\n",
              "      <td>Acre</td>\n",
              "      <td>ac</td>\n",
              "      <td>Brasil</td>\n",
              "      <td>66</td>\n",
              "    </tr>\n",
              "    <tr>\n",
              "      <th>178</th>\n",
              "      <td>545</td>\n",
              "      <td>107</td>\n",
              "      <td>115</td>\n",
              "      <td>Masculino</td>\n",
              "      <td>6</td>\n",
              "      <td>1</td>\n",
              "      <td>Ceará</td>\n",
              "      <td>ce</td>\n",
              "      <td>Brasil</td>\n",
              "      <td>36</td>\n",
              "    </tr>\n",
              "    <tr>\n",
              "      <th>396</th>\n",
              "      <td>546</td>\n",
              "      <td>117</td>\n",
              "      <td>147</td>\n",
              "      <td>Masculino</td>\n",
              "      <td>20</td>\n",
              "      <td>1</td>\n",
              "      <td>Rio Grande do Norte</td>\n",
              "      <td>rn</td>\n",
              "      <td>Brasil</td>\n",
              "      <td>57</td>\n",
              "    </tr>\n",
              "    <tr>\n",
              "      <th>123</th>\n",
              "      <td>547</td>\n",
              "      <td>148</td>\n",
              "      <td>176</td>\n",
              "      <td>Masculino</td>\n",
              "      <td>8</td>\n",
              "      <td>1</td>\n",
              "      <td>Espírito Santo</td>\n",
              "      <td>es</td>\n",
              "      <td>Brasil</td>\n",
              "      <td>61</td>\n",
              "    </tr>\n",
              "  </tbody>\n",
              "</table>\n",
              "<p>547 rows × 10 columns</p>\n",
              "</div>"
            ],
            "text/plain": [
              "     cod_cliente  peso  colesterol  ... sigla_estado    pais  idade\n",
              "0              1   102         111  ...           rr  Brasil     17\n",
              "18             2   115         135  ...           df  Brasil     28\n",
              "40             3   115         136  ...           am  Brasil     62\n",
              "65             4   140         167  ...           sc  Brasil     55\n",
              "87             5   130         158  ...           se  Brasil     44\n",
              "..           ...   ...         ...  ...          ...     ...    ...\n",
              "443          543   172         207  ...           ro  Brasil     20\n",
              "478          544   129         157  ...           ac  Brasil     66\n",
              "178          545   107         115  ...           ce  Brasil     36\n",
              "396          546   117         147  ...           rn  Brasil     57\n",
              "123          547   148         176  ...           es  Brasil     61\n",
              "\n",
              "[547 rows x 10 columns]"
            ]
          },
          "metadata": {},
          "execution_count": 40
        }
      ]
    },
    {
      "cell_type": "code",
      "metadata": {
        "colab": {
          "base_uri": "https://localhost:8080/"
        },
        "id": "hurgh-LgYUtW",
        "outputId": "8c68279d-f720-4bfc-9b95-5183383028bc"
      },
      "source": [
        "#Alterando as linhas da variavel sigla_estado para maiusculo\n",
        "base_completa.sigla_estado.str.upper()"
      ],
      "execution_count": null,
      "outputs": [
        {
          "output_type": "execute_result",
          "data": {
            "text/plain": [
              "0      RR\n",
              "18     DF\n",
              "40     AM\n",
              "65     SC\n",
              "87     SE\n",
              "       ..\n",
              "443    RO\n",
              "478    AC\n",
              "178    CE\n",
              "396    RN\n",
              "123    ES\n",
              "Name: sigla_estado, Length: 547, dtype: object"
            ]
          },
          "metadata": {},
          "execution_count": 41
        }
      ]
    },
    {
      "cell_type": "code",
      "metadata": {
        "id": "iCU_rWM_YvaD"
      },
      "source": [
        "#inserindo a alteração realizada\n",
        "base_completa['sigla_estado']= base_completa.sigla_estado.str.upper()"
      ],
      "execution_count": null,
      "outputs": []
    },
    {
      "cell_type": "markdown",
      "metadata": {
        "id": "IQldlWiIZjKS"
      },
      "source": [
        "#Alterando disposição das colunas do arquivo de dados\n",
        "###Vamos  alterar as disposições das colunas no nosso conjunto de dados a fim de facilitar a visualização\n"
      ]
    },
    {
      "cell_type": "code",
      "metadata": {
        "id": "WIfbpwWRaCnt",
        "colab": {
          "base_uri": "https://localhost:8080/",
          "height": 408
        },
        "outputId": "592b8d73-a989-4ba9-8daf-35786b1e8978"
      },
      "source": [
        "base_completa[['cod_cliente','genero','idade', 'peso','colesterol', 'id_estado','estado','sigla_estado','pais']]"
      ],
      "execution_count": null,
      "outputs": [
        {
          "output_type": "execute_result",
          "data": {
            "text/html": [
              "<div>\n",
              "<style scoped>\n",
              "    .dataframe tbody tr th:only-of-type {\n",
              "        vertical-align: middle;\n",
              "    }\n",
              "\n",
              "    .dataframe tbody tr th {\n",
              "        vertical-align: top;\n",
              "    }\n",
              "\n",
              "    .dataframe thead th {\n",
              "        text-align: right;\n",
              "    }\n",
              "</style>\n",
              "<table border=\"1\" class=\"dataframe\">\n",
              "  <thead>\n",
              "    <tr style=\"text-align: right;\">\n",
              "      <th></th>\n",
              "      <th>cod_cliente</th>\n",
              "      <th>genero</th>\n",
              "      <th>idade</th>\n",
              "      <th>peso</th>\n",
              "      <th>colesterol</th>\n",
              "      <th>id_estado</th>\n",
              "      <th>estado</th>\n",
              "      <th>sigla_estado</th>\n",
              "      <th>pais</th>\n",
              "    </tr>\n",
              "  </thead>\n",
              "  <tbody>\n",
              "    <tr>\n",
              "      <th>0</th>\n",
              "      <td>1</td>\n",
              "      <td>Masculino</td>\n",
              "      <td>17</td>\n",
              "      <td>102</td>\n",
              "      <td>111</td>\n",
              "      <td>23</td>\n",
              "      <td>Roraima</td>\n",
              "      <td>RR</td>\n",
              "      <td>Brasil</td>\n",
              "    </tr>\n",
              "    <tr>\n",
              "      <th>18</th>\n",
              "      <td>2</td>\n",
              "      <td>Masculino</td>\n",
              "      <td>28</td>\n",
              "      <td>115</td>\n",
              "      <td>135</td>\n",
              "      <td>7</td>\n",
              "      <td>Distrito Federal</td>\n",
              "      <td>DF</td>\n",
              "      <td>Brasil</td>\n",
              "    </tr>\n",
              "    <tr>\n",
              "      <th>40</th>\n",
              "      <td>3</td>\n",
              "      <td>Masculino</td>\n",
              "      <td>62</td>\n",
              "      <td>115</td>\n",
              "      <td>136</td>\n",
              "      <td>4</td>\n",
              "      <td>Amazonas</td>\n",
              "      <td>AM</td>\n",
              "      <td>Brasil</td>\n",
              "    </tr>\n",
              "    <tr>\n",
              "      <th>65</th>\n",
              "      <td>4</td>\n",
              "      <td>Feminino</td>\n",
              "      <td>55</td>\n",
              "      <td>140</td>\n",
              "      <td>167</td>\n",
              "      <td>24</td>\n",
              "      <td>Santa Catarina</td>\n",
              "      <td>SC</td>\n",
              "      <td>Brasil</td>\n",
              "    </tr>\n",
              "    <tr>\n",
              "      <th>87</th>\n",
              "      <td>5</td>\n",
              "      <td>Masculino</td>\n",
              "      <td>44</td>\n",
              "      <td>130</td>\n",
              "      <td>158</td>\n",
              "      <td>26</td>\n",
              "      <td>Sergipe</td>\n",
              "      <td>SE</td>\n",
              "      <td>Brasil</td>\n",
              "    </tr>\n",
              "    <tr>\n",
              "      <th>...</th>\n",
              "      <td>...</td>\n",
              "      <td>...</td>\n",
              "      <td>...</td>\n",
              "      <td>...</td>\n",
              "      <td>...</td>\n",
              "      <td>...</td>\n",
              "      <td>...</td>\n",
              "      <td>...</td>\n",
              "      <td>...</td>\n",
              "    </tr>\n",
              "    <tr>\n",
              "      <th>443</th>\n",
              "      <td>543</td>\n",
              "      <td>Masculino</td>\n",
              "      <td>20</td>\n",
              "      <td>172</td>\n",
              "      <td>207</td>\n",
              "      <td>22</td>\n",
              "      <td>Rondônia</td>\n",
              "      <td>RO</td>\n",
              "      <td>Brasil</td>\n",
              "    </tr>\n",
              "    <tr>\n",
              "      <th>478</th>\n",
              "      <td>544</td>\n",
              "      <td>Masculino</td>\n",
              "      <td>66</td>\n",
              "      <td>129</td>\n",
              "      <td>157</td>\n",
              "      <td>1</td>\n",
              "      <td>Acre</td>\n",
              "      <td>AC</td>\n",
              "      <td>Brasil</td>\n",
              "    </tr>\n",
              "    <tr>\n",
              "      <th>178</th>\n",
              "      <td>545</td>\n",
              "      <td>Masculino</td>\n",
              "      <td>36</td>\n",
              "      <td>107</td>\n",
              "      <td>115</td>\n",
              "      <td>6</td>\n",
              "      <td>Ceará</td>\n",
              "      <td>CE</td>\n",
              "      <td>Brasil</td>\n",
              "    </tr>\n",
              "    <tr>\n",
              "      <th>396</th>\n",
              "      <td>546</td>\n",
              "      <td>Masculino</td>\n",
              "      <td>57</td>\n",
              "      <td>117</td>\n",
              "      <td>147</td>\n",
              "      <td>20</td>\n",
              "      <td>Rio Grande do Norte</td>\n",
              "      <td>RN</td>\n",
              "      <td>Brasil</td>\n",
              "    </tr>\n",
              "    <tr>\n",
              "      <th>123</th>\n",
              "      <td>547</td>\n",
              "      <td>Masculino</td>\n",
              "      <td>61</td>\n",
              "      <td>148</td>\n",
              "      <td>176</td>\n",
              "      <td>8</td>\n",
              "      <td>Espírito Santo</td>\n",
              "      <td>ES</td>\n",
              "      <td>Brasil</td>\n",
              "    </tr>\n",
              "  </tbody>\n",
              "</table>\n",
              "<p>547 rows × 9 columns</p>\n",
              "</div>"
            ],
            "text/plain": [
              "     cod_cliente     genero  idade  ...               estado  sigla_estado    pais\n",
              "0              1  Masculino     17  ...              Roraima            RR  Brasil\n",
              "18             2  Masculino     28  ...     Distrito Federal            DF  Brasil\n",
              "40             3  Masculino     62  ...             Amazonas            AM  Brasil\n",
              "65             4   Feminino     55  ...       Santa Catarina            SC  Brasil\n",
              "87             5  Masculino     44  ...              Sergipe            SE  Brasil\n",
              "..           ...        ...    ...  ...                  ...           ...     ...\n",
              "443          543  Masculino     20  ...             Rondônia            RO  Brasil\n",
              "478          544  Masculino     66  ...                 Acre            AC  Brasil\n",
              "178          545  Masculino     36  ...                Ceará            CE  Brasil\n",
              "396          546  Masculino     57  ...  Rio Grande do Norte            RN  Brasil\n",
              "123          547  Masculino     61  ...       Espírito Santo            ES  Brasil\n",
              "\n",
              "[547 rows x 9 columns]"
            ]
          },
          "metadata": {},
          "execution_count": 43
        }
      ]
    },
    {
      "cell_type": "code",
      "metadata": {
        "id": "WFzIyjObOdnC"
      },
      "source": [
        "base_completa = base_completa[['cod_cliente','genero','idade','peso','colesterol','id_estado' ,'estado','sigla_estado','pais']].reset_index(drop=True)"
      ],
      "execution_count": null,
      "outputs": []
    },
    {
      "cell_type": "code",
      "metadata": {
        "colab": {
          "base_uri": "https://localhost:8080/",
          "height": 200
        },
        "id": "o3XDIRlTwLKu",
        "outputId": "45a600a1-c721-487f-f6ac-a3860648c3c5"
      },
      "source": [
        "base_completa[:5]\n"
      ],
      "execution_count": null,
      "outputs": [
        {
          "output_type": "execute_result",
          "data": {
            "text/html": [
              "<div>\n",
              "<style scoped>\n",
              "    .dataframe tbody tr th:only-of-type {\n",
              "        vertical-align: middle;\n",
              "    }\n",
              "\n",
              "    .dataframe tbody tr th {\n",
              "        vertical-align: top;\n",
              "    }\n",
              "\n",
              "    .dataframe thead th {\n",
              "        text-align: right;\n",
              "    }\n",
              "</style>\n",
              "<table border=\"1\" class=\"dataframe\">\n",
              "  <thead>\n",
              "    <tr style=\"text-align: right;\">\n",
              "      <th></th>\n",
              "      <th>cod_cliente</th>\n",
              "      <th>genero</th>\n",
              "      <th>idade</th>\n",
              "      <th>peso</th>\n",
              "      <th>colesterol</th>\n",
              "      <th>id_estado</th>\n",
              "      <th>estado</th>\n",
              "      <th>sigla_estado</th>\n",
              "      <th>pais</th>\n",
              "    </tr>\n",
              "  </thead>\n",
              "  <tbody>\n",
              "    <tr>\n",
              "      <th>0</th>\n",
              "      <td>1</td>\n",
              "      <td>Masculino</td>\n",
              "      <td>17</td>\n",
              "      <td>102</td>\n",
              "      <td>111</td>\n",
              "      <td>23</td>\n",
              "      <td>Roraima</td>\n",
              "      <td>RR</td>\n",
              "      <td>Brasil</td>\n",
              "    </tr>\n",
              "    <tr>\n",
              "      <th>1</th>\n",
              "      <td>2</td>\n",
              "      <td>Masculino</td>\n",
              "      <td>28</td>\n",
              "      <td>115</td>\n",
              "      <td>135</td>\n",
              "      <td>7</td>\n",
              "      <td>Distrito Federal</td>\n",
              "      <td>DF</td>\n",
              "      <td>Brasil</td>\n",
              "    </tr>\n",
              "    <tr>\n",
              "      <th>2</th>\n",
              "      <td>3</td>\n",
              "      <td>Masculino</td>\n",
              "      <td>62</td>\n",
              "      <td>115</td>\n",
              "      <td>136</td>\n",
              "      <td>4</td>\n",
              "      <td>Amazonas</td>\n",
              "      <td>AM</td>\n",
              "      <td>Brasil</td>\n",
              "    </tr>\n",
              "    <tr>\n",
              "      <th>3</th>\n",
              "      <td>4</td>\n",
              "      <td>Feminino</td>\n",
              "      <td>55</td>\n",
              "      <td>140</td>\n",
              "      <td>167</td>\n",
              "      <td>24</td>\n",
              "      <td>Santa Catarina</td>\n",
              "      <td>SC</td>\n",
              "      <td>Brasil</td>\n",
              "    </tr>\n",
              "    <tr>\n",
              "      <th>4</th>\n",
              "      <td>5</td>\n",
              "      <td>Masculino</td>\n",
              "      <td>44</td>\n",
              "      <td>130</td>\n",
              "      <td>158</td>\n",
              "      <td>26</td>\n",
              "      <td>Sergipe</td>\n",
              "      <td>SE</td>\n",
              "      <td>Brasil</td>\n",
              "    </tr>\n",
              "  </tbody>\n",
              "</table>\n",
              "</div>"
            ],
            "text/plain": [
              "   cod_cliente     genero  idade  ...            estado  sigla_estado    pais\n",
              "0            1  Masculino     17  ...           Roraima            RR  Brasil\n",
              "1            2  Masculino     28  ...  Distrito Federal            DF  Brasil\n",
              "2            3  Masculino     62  ...          Amazonas            AM  Brasil\n",
              "3            4   Feminino     55  ...    Santa Catarina            SC  Brasil\n",
              "4            5  Masculino     44  ...           Sergipe            SE  Brasil\n",
              "\n",
              "[5 rows x 9 columns]"
            ]
          },
          "metadata": {},
          "execution_count": 45
        }
      ]
    },
    {
      "cell_type": "markdown",
      "metadata": {
        "id": "hCRHQ_Fz5cv_"
      },
      "source": [
        "#Analise de dado "
      ]
    },
    {
      "cell_type": "markdown",
      "metadata": {
        "id": "CCCKYtX56LnU"
      },
      "source": [
        "##É a parte  da etapa aonde selecionamos os algoritimos de machine learning que serão inseridos para alcançar o resultado\n",
        "##Para esse trabalho, vamos realizar um agrupamento  de pessoas com base no colesterol,peso e idade das pessoas"
      ]
    },
    {
      "cell_type": "markdown",
      "metadata": {
        "id": "-eQ2yJKl7emZ"
      },
      "source": [
        "#Aplicando o metodo cotovelo\n",
        "###Vamos inicializar o número de clusters necessarios para  realizaro agrupamentp"
      ]
    },
    {
      "cell_type": "code",
      "metadata": {
        "id": "zSUunY327xQi"
      },
      "source": [
        "from sklearn.cluster import KMeans"
      ],
      "execution_count": null,
      "outputs": []
    },
    {
      "cell_type": "code",
      "metadata": {
        "id": "KqcQ8Hay72Gf"
      },
      "source": [
        "def calcular_wcss(dados_cliente):\n",
        "  wcss= []\n",
        "  for k in range(1,11):\n",
        "    kmeans = KMeans(n_clusters= k)\n",
        "    kmeans.fit(X = dados_cliente)\n",
        "    wcss.append(kmeans.inertia_)\n",
        "  return wcss\n",
        "  wcss.show()"
      ],
      "execution_count": null,
      "outputs": []
    },
    {
      "cell_type": "code",
      "metadata": {
        "colab": {
          "base_uri": "https://localhost:8080/",
          "height": 200
        },
        "id": "0Sv_GX-E83PH",
        "outputId": "2bbdb6a3-a602-44cf-f7e8-495999c35af0"
      },
      "source": [
        "dados_cliente = base_completa [['peso','colesterol']]\n",
        "dados_cliente.head()"
      ],
      "execution_count": null,
      "outputs": [
        {
          "output_type": "execute_result",
          "data": {
            "text/html": [
              "<div>\n",
              "<style scoped>\n",
              "    .dataframe tbody tr th:only-of-type {\n",
              "        vertical-align: middle;\n",
              "    }\n",
              "\n",
              "    .dataframe tbody tr th {\n",
              "        vertical-align: top;\n",
              "    }\n",
              "\n",
              "    .dataframe thead th {\n",
              "        text-align: right;\n",
              "    }\n",
              "</style>\n",
              "<table border=\"1\" class=\"dataframe\">\n",
              "  <thead>\n",
              "    <tr style=\"text-align: right;\">\n",
              "      <th></th>\n",
              "      <th>peso</th>\n",
              "      <th>colesterol</th>\n",
              "    </tr>\n",
              "  </thead>\n",
              "  <tbody>\n",
              "    <tr>\n",
              "      <th>0</th>\n",
              "      <td>102</td>\n",
              "      <td>111</td>\n",
              "    </tr>\n",
              "    <tr>\n",
              "      <th>1</th>\n",
              "      <td>115</td>\n",
              "      <td>135</td>\n",
              "    </tr>\n",
              "    <tr>\n",
              "      <th>2</th>\n",
              "      <td>115</td>\n",
              "      <td>136</td>\n",
              "    </tr>\n",
              "    <tr>\n",
              "      <th>3</th>\n",
              "      <td>140</td>\n",
              "      <td>167</td>\n",
              "    </tr>\n",
              "    <tr>\n",
              "      <th>4</th>\n",
              "      <td>130</td>\n",
              "      <td>158</td>\n",
              "    </tr>\n",
              "  </tbody>\n",
              "</table>\n",
              "</div>"
            ],
            "text/plain": [
              "   peso  colesterol\n",
              "0   102         111\n",
              "1   115         135\n",
              "2   115         136\n",
              "3   140         167\n",
              "4   130         158"
            ]
          },
          "metadata": {},
          "execution_count": 82
        }
      ]
    },
    {
      "cell_type": "code",
      "metadata": {
        "id": "3ZI9AX-F_wAg"
      },
      "source": [
        "wcss_clientes = calcular_wcss(dados_cliente) "
      ],
      "execution_count": null,
      "outputs": []
    },
    {
      "cell_type": "code",
      "metadata": {
        "colab": {
          "base_uri": "https://localhost:8080/"
        },
        "id": "QG_SgEWrTIGs",
        "outputId": "a3757b34-6313-419d-c59d-5aebb1ec5e29"
      },
      "source": [
        "wcss_clientes"
      ],
      "execution_count": null,
      "outputs": [
        {
          "output_type": "execute_result",
          "data": {
            "text/plain": [
              "[1355958.2120658136,\n",
              " 330523.8957979569,\n",
              " 139730.7998295347,\n",
              " 81333.6550778757,\n",
              " 53820.54620122939,\n",
              " 37432.54594135556,\n",
              " 27634.302325594916,\n",
              " 22010.37735538258,\n",
              " 17198.997682760277,\n",
              " 14626.665699080997]"
            ]
          },
          "metadata": {},
          "execution_count": 84
        }
      ]
    },
    {
      "cell_type": "code",
      "metadata": {
        "colab": {
          "base_uri": "https://localhost:8080/"
        },
        "id": "EBMdZH4qBVRt",
        "outputId": "be535a50-7596-4d87-8ede-f1857da078a3"
      },
      "source": [
        "#Vizualizando os dados  obtidos por WCSS\n",
        "for i in range(len(wcss_clientes)):\n",
        "  print(f'O cluster{i} possui o valor wcss de {wcss_clientes[i]}')"
      ],
      "execution_count": null,
      "outputs": [
        {
          "output_type": "stream",
          "text": [
            "O cluster0 possui o valor wcss de 1355958.2120658136\n",
            "O cluster1 possui o valor wcss de 330523.8957979569\n",
            "O cluster2 possui o valor wcss de 139730.7998295347\n",
            "O cluster3 possui o valor wcss de 81333.6550778757\n",
            "O cluster4 possui o valor wcss de 53820.54620122939\n",
            "O cluster5 possui o valor wcss de 37432.54594135556\n",
            "O cluster6 possui o valor wcss de 27634.302325594916\n",
            "O cluster7 possui o valor wcss de 22010.37735538258\n",
            "O cluster8 possui o valor wcss de 17198.997682760277\n",
            "O cluster9 possui o valor wcss de 14626.665699080997\n"
          ],
          "name": "stdout"
        }
      ]
    },
    {
      "cell_type": "markdown",
      "metadata": {
        "id": "eu82H4SsFXhI"
      },
      "source": [
        "#Visualizando o Gráfico cotovelo"
      ]
    },
    {
      "cell_type": "code",
      "metadata": {
        "id": "cZd5lM99Fy9i"
      },
      "source": [
        "import plotly.express as px #grafico de pixels\n",
        "import plotly.offline as py\n",
        "import plotly.graph_objects as go #Para criação e caracterização de graficos"
      ],
      "execution_count": null,
      "outputs": []
    },
    {
      "cell_type": "code",
      "metadata": {
        "colab": {
          "base_uri": "https://localhost:8080/",
          "height": 542
        },
        "id": "cgbxPZNPLm0v",
        "outputId": "42c39a69-d5c1-4ebd-d5a3-848f7c12e8a3"
      },
      "source": [
        "grafico_wcss= px.line(x= range(1,11),y=wcss_clientes)\n",
        "fig = go.Figure(grafico_wcss)\n",
        "fig.update_layout(title='Calculo de wcss',\n",
        "                  xaxis_title='Numero de clusters',\n",
        "                  yaxis_title = 'Valor do WCSS',\n",
        "                  template = 'plotly_white'\n",
        "                  )\n",
        "fig.show()"
      ],
      "execution_count": null,
      "outputs": [
        {
          "output_type": "display_data",
          "data": {
            "text/html": [
              "<html>\n",
              "<head><meta charset=\"utf-8\" /></head>\n",
              "<body>\n",
              "    <div>\n",
              "            <script src=\"https://cdnjs.cloudflare.com/ajax/libs/mathjax/2.7.5/MathJax.js?config=TeX-AMS-MML_SVG\"></script><script type=\"text/javascript\">if (window.MathJax) {MathJax.Hub.Config({SVG: {font: \"STIX-Web\"}});}</script>\n",
              "                <script type=\"text/javascript\">window.PlotlyConfig = {MathJaxConfig: 'local'};</script>\n",
              "        <script src=\"https://cdn.plot.ly/plotly-latest.min.js\"></script>    \n",
              "            <div id=\"a7f3d597-b4d0-4332-9bd8-8ff8ad5cf76b\" class=\"plotly-graph-div\" style=\"height:525px; width:100%;\"></div>\n",
              "            <script type=\"text/javascript\">\n",
              "                \n",
              "                    window.PLOTLYENV=window.PLOTLYENV || {};\n",
              "                    \n",
              "                if (document.getElementById(\"a7f3d597-b4d0-4332-9bd8-8ff8ad5cf76b\")) {\n",
              "                    Plotly.newPlot(\n",
              "                        'a7f3d597-b4d0-4332-9bd8-8ff8ad5cf76b',\n",
              "                        [{\"hoverlabel\": {\"namelength\": 0}, \"hovertemplate\": \"x=%{x}<br>y=%{y}\", \"legendgroup\": \"\", \"line\": {\"color\": \"#636efa\", \"dash\": \"solid\"}, \"mode\": \"lines\", \"name\": \"\", \"showlegend\": false, \"type\": \"scatter\", \"x\": [1, 2, 3, 4, 5, 6, 7, 8, 9, 10], \"xaxis\": \"x\", \"y\": [1355958.2120658136, 330523.8957979569, 139730.7998295347, 81333.6550778757, 53820.54620122939, 37432.54594135556, 27634.302325594916, 22010.37735538258, 17198.997682760277, 14626.665699080997], \"yaxis\": \"y\"}],\n",
              "                        {\"legend\": {\"tracegroupgap\": 0}, \"margin\": {\"t\": 60}, \"template\": {\"data\": {\"bar\": [{\"error_x\": {\"color\": \"#2a3f5f\"}, \"error_y\": {\"color\": \"#2a3f5f\"}, \"marker\": {\"line\": {\"color\": \"white\", \"width\": 0.5}}, \"type\": \"bar\"}], \"barpolar\": [{\"marker\": {\"line\": {\"color\": \"white\", \"width\": 0.5}}, \"type\": \"barpolar\"}], \"carpet\": [{\"aaxis\": {\"endlinecolor\": \"#2a3f5f\", \"gridcolor\": \"#C8D4E3\", \"linecolor\": \"#C8D4E3\", \"minorgridcolor\": \"#C8D4E3\", \"startlinecolor\": \"#2a3f5f\"}, \"baxis\": {\"endlinecolor\": \"#2a3f5f\", \"gridcolor\": \"#C8D4E3\", \"linecolor\": \"#C8D4E3\", \"minorgridcolor\": \"#C8D4E3\", \"startlinecolor\": \"#2a3f5f\"}, \"type\": \"carpet\"}], \"choropleth\": [{\"colorbar\": {\"outlinewidth\": 0, \"ticks\": \"\"}, \"type\": \"choropleth\"}], \"contour\": [{\"colorbar\": {\"outlinewidth\": 0, \"ticks\": \"\"}, \"colorscale\": [[0.0, \"#0d0887\"], [0.1111111111111111, \"#46039f\"], [0.2222222222222222, \"#7201a8\"], [0.3333333333333333, \"#9c179e\"], [0.4444444444444444, \"#bd3786\"], [0.5555555555555556, \"#d8576b\"], [0.6666666666666666, \"#ed7953\"], [0.7777777777777778, \"#fb9f3a\"], [0.8888888888888888, \"#fdca26\"], [1.0, \"#f0f921\"]], \"type\": \"contour\"}], \"contourcarpet\": [{\"colorbar\": {\"outlinewidth\": 0, \"ticks\": \"\"}, \"type\": \"contourcarpet\"}], \"heatmap\": [{\"colorbar\": {\"outlinewidth\": 0, \"ticks\": \"\"}, \"colorscale\": [[0.0, \"#0d0887\"], [0.1111111111111111, \"#46039f\"], [0.2222222222222222, \"#7201a8\"], [0.3333333333333333, \"#9c179e\"], [0.4444444444444444, \"#bd3786\"], [0.5555555555555556, \"#d8576b\"], [0.6666666666666666, \"#ed7953\"], [0.7777777777777778, \"#fb9f3a\"], [0.8888888888888888, \"#fdca26\"], [1.0, \"#f0f921\"]], \"type\": \"heatmap\"}], \"heatmapgl\": [{\"colorbar\": {\"outlinewidth\": 0, \"ticks\": \"\"}, \"colorscale\": [[0.0, \"#0d0887\"], [0.1111111111111111, \"#46039f\"], [0.2222222222222222, \"#7201a8\"], [0.3333333333333333, \"#9c179e\"], [0.4444444444444444, \"#bd3786\"], [0.5555555555555556, \"#d8576b\"], [0.6666666666666666, \"#ed7953\"], [0.7777777777777778, \"#fb9f3a\"], [0.8888888888888888, \"#fdca26\"], [1.0, \"#f0f921\"]], \"type\": \"heatmapgl\"}], \"histogram\": [{\"marker\": {\"colorbar\": {\"outlinewidth\": 0, \"ticks\": \"\"}}, \"type\": \"histogram\"}], \"histogram2d\": [{\"colorbar\": {\"outlinewidth\": 0, \"ticks\": \"\"}, \"colorscale\": [[0.0, \"#0d0887\"], [0.1111111111111111, \"#46039f\"], [0.2222222222222222, \"#7201a8\"], [0.3333333333333333, \"#9c179e\"], [0.4444444444444444, \"#bd3786\"], [0.5555555555555556, \"#d8576b\"], [0.6666666666666666, \"#ed7953\"], [0.7777777777777778, \"#fb9f3a\"], [0.8888888888888888, \"#fdca26\"], [1.0, \"#f0f921\"]], \"type\": \"histogram2d\"}], \"histogram2dcontour\": [{\"colorbar\": {\"outlinewidth\": 0, \"ticks\": \"\"}, \"colorscale\": [[0.0, \"#0d0887\"], [0.1111111111111111, \"#46039f\"], [0.2222222222222222, \"#7201a8\"], [0.3333333333333333, \"#9c179e\"], [0.4444444444444444, \"#bd3786\"], [0.5555555555555556, \"#d8576b\"], [0.6666666666666666, \"#ed7953\"], [0.7777777777777778, \"#fb9f3a\"], [0.8888888888888888, \"#fdca26\"], [1.0, \"#f0f921\"]], \"type\": \"histogram2dcontour\"}], \"mesh3d\": [{\"colorbar\": {\"outlinewidth\": 0, \"ticks\": \"\"}, \"type\": \"mesh3d\"}], \"parcoords\": [{\"line\": {\"colorbar\": {\"outlinewidth\": 0, \"ticks\": \"\"}}, \"type\": \"parcoords\"}], \"pie\": [{\"automargin\": true, \"type\": \"pie\"}], \"scatter\": [{\"marker\": {\"colorbar\": {\"outlinewidth\": 0, \"ticks\": \"\"}}, \"type\": \"scatter\"}], \"scatter3d\": [{\"line\": {\"colorbar\": {\"outlinewidth\": 0, \"ticks\": \"\"}}, \"marker\": {\"colorbar\": {\"outlinewidth\": 0, \"ticks\": \"\"}}, \"type\": \"scatter3d\"}], \"scattercarpet\": [{\"marker\": {\"colorbar\": {\"outlinewidth\": 0, \"ticks\": \"\"}}, \"type\": \"scattercarpet\"}], \"scattergeo\": [{\"marker\": {\"colorbar\": {\"outlinewidth\": 0, \"ticks\": \"\"}}, \"type\": \"scattergeo\"}], \"scattergl\": [{\"marker\": {\"colorbar\": {\"outlinewidth\": 0, \"ticks\": \"\"}}, \"type\": \"scattergl\"}], \"scattermapbox\": [{\"marker\": {\"colorbar\": {\"outlinewidth\": 0, \"ticks\": \"\"}}, \"type\": \"scattermapbox\"}], \"scatterpolar\": [{\"marker\": {\"colorbar\": {\"outlinewidth\": 0, \"ticks\": \"\"}}, \"type\": \"scatterpolar\"}], \"scatterpolargl\": [{\"marker\": {\"colorbar\": {\"outlinewidth\": 0, \"ticks\": \"\"}}, \"type\": \"scatterpolargl\"}], \"scatterternary\": [{\"marker\": {\"colorbar\": {\"outlinewidth\": 0, \"ticks\": \"\"}}, \"type\": \"scatterternary\"}], \"surface\": [{\"colorbar\": {\"outlinewidth\": 0, \"ticks\": \"\"}, \"colorscale\": [[0.0, \"#0d0887\"], [0.1111111111111111, \"#46039f\"], [0.2222222222222222, \"#7201a8\"], [0.3333333333333333, \"#9c179e\"], [0.4444444444444444, \"#bd3786\"], [0.5555555555555556, \"#d8576b\"], [0.6666666666666666, \"#ed7953\"], [0.7777777777777778, \"#fb9f3a\"], [0.8888888888888888, \"#fdca26\"], [1.0, \"#f0f921\"]], \"type\": \"surface\"}], \"table\": [{\"cells\": {\"fill\": {\"color\": \"#EBF0F8\"}, \"line\": {\"color\": \"white\"}}, \"header\": {\"fill\": {\"color\": \"#C8D4E3\"}, \"line\": {\"color\": \"white\"}}, \"type\": \"table\"}]}, \"layout\": {\"annotationdefaults\": {\"arrowcolor\": \"#2a3f5f\", \"arrowhead\": 0, \"arrowwidth\": 1}, \"coloraxis\": {\"colorbar\": {\"outlinewidth\": 0, \"ticks\": \"\"}}, \"colorscale\": {\"diverging\": [[0, \"#8e0152\"], [0.1, \"#c51b7d\"], [0.2, \"#de77ae\"], [0.3, \"#f1b6da\"], [0.4, \"#fde0ef\"], [0.5, \"#f7f7f7\"], [0.6, \"#e6f5d0\"], [0.7, \"#b8e186\"], [0.8, \"#7fbc41\"], [0.9, \"#4d9221\"], [1, \"#276419\"]], \"sequential\": [[0.0, \"#0d0887\"], [0.1111111111111111, \"#46039f\"], [0.2222222222222222, \"#7201a8\"], [0.3333333333333333, \"#9c179e\"], [0.4444444444444444, \"#bd3786\"], [0.5555555555555556, \"#d8576b\"], [0.6666666666666666, \"#ed7953\"], [0.7777777777777778, \"#fb9f3a\"], [0.8888888888888888, \"#fdca26\"], [1.0, \"#f0f921\"]], \"sequentialminus\": [[0.0, \"#0d0887\"], [0.1111111111111111, \"#46039f\"], [0.2222222222222222, \"#7201a8\"], [0.3333333333333333, \"#9c179e\"], [0.4444444444444444, \"#bd3786\"], [0.5555555555555556, \"#d8576b\"], [0.6666666666666666, \"#ed7953\"], [0.7777777777777778, \"#fb9f3a\"], [0.8888888888888888, \"#fdca26\"], [1.0, \"#f0f921\"]]}, \"colorway\": [\"#636efa\", \"#EF553B\", \"#00cc96\", \"#ab63fa\", \"#FFA15A\", \"#19d3f3\", \"#FF6692\", \"#B6E880\", \"#FF97FF\", \"#FECB52\"], \"font\": {\"color\": \"#2a3f5f\"}, \"geo\": {\"bgcolor\": \"white\", \"lakecolor\": \"white\", \"landcolor\": \"white\", \"showlakes\": true, \"showland\": true, \"subunitcolor\": \"#C8D4E3\"}, \"hoverlabel\": {\"align\": \"left\"}, \"hovermode\": \"closest\", \"mapbox\": {\"style\": \"light\"}, \"paper_bgcolor\": \"white\", \"plot_bgcolor\": \"white\", \"polar\": {\"angularaxis\": {\"gridcolor\": \"#EBF0F8\", \"linecolor\": \"#EBF0F8\", \"ticks\": \"\"}, \"bgcolor\": \"white\", \"radialaxis\": {\"gridcolor\": \"#EBF0F8\", \"linecolor\": \"#EBF0F8\", \"ticks\": \"\"}}, \"scene\": {\"xaxis\": {\"backgroundcolor\": \"white\", \"gridcolor\": \"#DFE8F3\", \"gridwidth\": 2, \"linecolor\": \"#EBF0F8\", \"showbackground\": true, \"ticks\": \"\", \"zerolinecolor\": \"#EBF0F8\"}, \"yaxis\": {\"backgroundcolor\": \"white\", \"gridcolor\": \"#DFE8F3\", \"gridwidth\": 2, \"linecolor\": \"#EBF0F8\", \"showbackground\": true, \"ticks\": \"\", \"zerolinecolor\": \"#EBF0F8\"}, \"zaxis\": {\"backgroundcolor\": \"white\", \"gridcolor\": \"#DFE8F3\", \"gridwidth\": 2, \"linecolor\": \"#EBF0F8\", \"showbackground\": true, \"ticks\": \"\", \"zerolinecolor\": \"#EBF0F8\"}}, \"shapedefaults\": {\"line\": {\"color\": \"#2a3f5f\"}}, \"ternary\": {\"aaxis\": {\"gridcolor\": \"#DFE8F3\", \"linecolor\": \"#A2B1C6\", \"ticks\": \"\"}, \"baxis\": {\"gridcolor\": \"#DFE8F3\", \"linecolor\": \"#A2B1C6\", \"ticks\": \"\"}, \"bgcolor\": \"white\", \"caxis\": {\"gridcolor\": \"#DFE8F3\", \"linecolor\": \"#A2B1C6\", \"ticks\": \"\"}}, \"title\": {\"x\": 0.05}, \"xaxis\": {\"automargin\": true, \"gridcolor\": \"#EBF0F8\", \"linecolor\": \"#EBF0F8\", \"ticks\": \"\", \"title\": {\"standoff\": 15}, \"zerolinecolor\": \"#EBF0F8\", \"zerolinewidth\": 2}, \"yaxis\": {\"automargin\": true, \"gridcolor\": \"#EBF0F8\", \"linecolor\": \"#EBF0F8\", \"ticks\": \"\", \"title\": {\"standoff\": 15}, \"zerolinecolor\": \"#EBF0F8\", \"zerolinewidth\": 2}}}, \"title\": {\"text\": \"Calculo de wcss\"}, \"xaxis\": {\"anchor\": \"y\", \"domain\": [0.0, 1.0], \"title\": {\"text\": \"Numero de clusters\"}}, \"yaxis\": {\"anchor\": \"x\", \"domain\": [0.0, 1.0], \"title\": {\"text\": \"Valor do WCSS\"}}},\n",
              "                        {\"responsive\": true}\n",
              "                    ).then(function(){\n",
              "                            \n",
              "var gd = document.getElementById('a7f3d597-b4d0-4332-9bd8-8ff8ad5cf76b');\n",
              "var x = new MutationObserver(function (mutations, observer) {{\n",
              "        var display = window.getComputedStyle(gd).display;\n",
              "        if (!display || display === 'none') {{\n",
              "            console.log([gd, 'removed!']);\n",
              "            Plotly.purge(gd);\n",
              "            observer.disconnect();\n",
              "        }}\n",
              "}});\n",
              "\n",
              "// Listen for the removal of the full notebook cells\n",
              "var notebookContainer = gd.closest('#notebook-container');\n",
              "if (notebookContainer) {{\n",
              "    x.observe(notebookContainer, {childList: true});\n",
              "}}\n",
              "\n",
              "// Listen for the clearing of the current output cell\n",
              "var outputEl = gd.closest('.output');\n",
              "if (outputEl) {{\n",
              "    x.observe(outputEl, {childList: true});\n",
              "}}\n",
              "\n",
              "                        })\n",
              "                };\n",
              "                \n",
              "            </script>\n",
              "        </div>\n",
              "</body>\n",
              "</html>"
            ]
          },
          "metadata": {}
        }
      ]
    },
    {
      "cell_type": "code",
      "metadata": {
        "id": "8-Gv8ew1OQ_s"
      },
      "source": [
        "kmeans_clientes = KMeans(n_clusters=4, random_state=0)\n",
        "base_completa['cluster'] = kmeans_clientes.fit_predict(dados_cliente)"
      ],
      "execution_count": null,
      "outputs": []
    },
    {
      "cell_type": "code",
      "metadata": {
        "colab": {
          "base_uri": "https://localhost:8080/",
          "height": 408
        },
        "id": "Ik8Wx2z6TDgW",
        "outputId": "199bb01d-6ddd-476e-a327-ed3ef73f9599"
      },
      "source": [
        "base_completa"
      ],
      "execution_count": null,
      "outputs": [
        {
          "output_type": "execute_result",
          "data": {
            "text/html": [
              "<div>\n",
              "<style scoped>\n",
              "    .dataframe tbody tr th:only-of-type {\n",
              "        vertical-align: middle;\n",
              "    }\n",
              "\n",
              "    .dataframe tbody tr th {\n",
              "        vertical-align: top;\n",
              "    }\n",
              "\n",
              "    .dataframe thead th {\n",
              "        text-align: right;\n",
              "    }\n",
              "</style>\n",
              "<table border=\"1\" class=\"dataframe\">\n",
              "  <thead>\n",
              "    <tr style=\"text-align: right;\">\n",
              "      <th></th>\n",
              "      <th>cod_cliente</th>\n",
              "      <th>genero</th>\n",
              "      <th>idade</th>\n",
              "      <th>peso</th>\n",
              "      <th>colesterol</th>\n",
              "      <th>id_estado</th>\n",
              "      <th>estado</th>\n",
              "      <th>sigla_estado</th>\n",
              "      <th>pais</th>\n",
              "      <th>cluster</th>\n",
              "      <th>nome_cluster</th>\n",
              "    </tr>\n",
              "  </thead>\n",
              "  <tbody>\n",
              "    <tr>\n",
              "      <th>0</th>\n",
              "      <td>1</td>\n",
              "      <td>Masculino</td>\n",
              "      <td>17</td>\n",
              "      <td>102</td>\n",
              "      <td>111</td>\n",
              "      <td>23</td>\n",
              "      <td>Roraima</td>\n",
              "      <td>RR</td>\n",
              "      <td>Brasil</td>\n",
              "      <td>3</td>\n",
              "      <td>Baixo risco</td>\n",
              "    </tr>\n",
              "    <tr>\n",
              "      <th>1</th>\n",
              "      <td>2</td>\n",
              "      <td>Masculino</td>\n",
              "      <td>28</td>\n",
              "      <td>115</td>\n",
              "      <td>135</td>\n",
              "      <td>7</td>\n",
              "      <td>Distrito Federal</td>\n",
              "      <td>DF</td>\n",
              "      <td>Brasil</td>\n",
              "      <td>3</td>\n",
              "      <td>Baixo risco</td>\n",
              "    </tr>\n",
              "    <tr>\n",
              "      <th>2</th>\n",
              "      <td>3</td>\n",
              "      <td>Masculino</td>\n",
              "      <td>62</td>\n",
              "      <td>115</td>\n",
              "      <td>136</td>\n",
              "      <td>4</td>\n",
              "      <td>Amazonas</td>\n",
              "      <td>AM</td>\n",
              "      <td>Brasil</td>\n",
              "      <td>3</td>\n",
              "      <td>Baixo risco</td>\n",
              "    </tr>\n",
              "    <tr>\n",
              "      <th>3</th>\n",
              "      <td>4</td>\n",
              "      <td>Feminino</td>\n",
              "      <td>55</td>\n",
              "      <td>140</td>\n",
              "      <td>167</td>\n",
              "      <td>24</td>\n",
              "      <td>Santa Catarina</td>\n",
              "      <td>SC</td>\n",
              "      <td>Brasil</td>\n",
              "      <td>1</td>\n",
              "      <td>Alto risco</td>\n",
              "    </tr>\n",
              "    <tr>\n",
              "      <th>4</th>\n",
              "      <td>5</td>\n",
              "      <td>Masculino</td>\n",
              "      <td>44</td>\n",
              "      <td>130</td>\n",
              "      <td>158</td>\n",
              "      <td>26</td>\n",
              "      <td>Sergipe</td>\n",
              "      <td>SE</td>\n",
              "      <td>Brasil</td>\n",
              "      <td>1</td>\n",
              "      <td>Alto risco</td>\n",
              "    </tr>\n",
              "    <tr>\n",
              "      <th>...</th>\n",
              "      <td>...</td>\n",
              "      <td>...</td>\n",
              "      <td>...</td>\n",
              "      <td>...</td>\n",
              "      <td>...</td>\n",
              "      <td>...</td>\n",
              "      <td>...</td>\n",
              "      <td>...</td>\n",
              "      <td>...</td>\n",
              "      <td>...</td>\n",
              "      <td>...</td>\n",
              "    </tr>\n",
              "    <tr>\n",
              "      <th>542</th>\n",
              "      <td>543</td>\n",
              "      <td>Masculino</td>\n",
              "      <td>20</td>\n",
              "      <td>172</td>\n",
              "      <td>207</td>\n",
              "      <td>22</td>\n",
              "      <td>Rondônia</td>\n",
              "      <td>RO</td>\n",
              "      <td>Brasil</td>\n",
              "      <td>0</td>\n",
              "      <td>Medio risco</td>\n",
              "    </tr>\n",
              "    <tr>\n",
              "      <th>543</th>\n",
              "      <td>544</td>\n",
              "      <td>Masculino</td>\n",
              "      <td>66</td>\n",
              "      <td>129</td>\n",
              "      <td>157</td>\n",
              "      <td>1</td>\n",
              "      <td>Acre</td>\n",
              "      <td>AC</td>\n",
              "      <td>Brasil</td>\n",
              "      <td>1</td>\n",
              "      <td>Alto risco</td>\n",
              "    </tr>\n",
              "    <tr>\n",
              "      <th>544</th>\n",
              "      <td>545</td>\n",
              "      <td>Masculino</td>\n",
              "      <td>36</td>\n",
              "      <td>107</td>\n",
              "      <td>115</td>\n",
              "      <td>6</td>\n",
              "      <td>Ceará</td>\n",
              "      <td>CE</td>\n",
              "      <td>Brasil</td>\n",
              "      <td>3</td>\n",
              "      <td>Baixo risco</td>\n",
              "    </tr>\n",
              "    <tr>\n",
              "      <th>545</th>\n",
              "      <td>546</td>\n",
              "      <td>Masculino</td>\n",
              "      <td>57</td>\n",
              "      <td>117</td>\n",
              "      <td>147</td>\n",
              "      <td>20</td>\n",
              "      <td>Rio Grande do Norte</td>\n",
              "      <td>RN</td>\n",
              "      <td>Brasil</td>\n",
              "      <td>1</td>\n",
              "      <td>Baixo risco</td>\n",
              "    </tr>\n",
              "    <tr>\n",
              "      <th>546</th>\n",
              "      <td>547</td>\n",
              "      <td>Masculino</td>\n",
              "      <td>61</td>\n",
              "      <td>148</td>\n",
              "      <td>176</td>\n",
              "      <td>8</td>\n",
              "      <td>Espírito Santo</td>\n",
              "      <td>ES</td>\n",
              "      <td>Brasil</td>\n",
              "      <td>2</td>\n",
              "      <td>Alto risco</td>\n",
              "    </tr>\n",
              "  </tbody>\n",
              "</table>\n",
              "<p>547 rows × 11 columns</p>\n",
              "</div>"
            ],
            "text/plain": [
              "     cod_cliente     genero  idade  ...    pais  cluster  nome_cluster\n",
              "0              1  Masculino     17  ...  Brasil        3   Baixo risco\n",
              "1              2  Masculino     28  ...  Brasil        3   Baixo risco\n",
              "2              3  Masculino     62  ...  Brasil        3   Baixo risco\n",
              "3              4   Feminino     55  ...  Brasil        1    Alto risco\n",
              "4              5  Masculino     44  ...  Brasil        1    Alto risco\n",
              "..           ...        ...    ...  ...     ...      ...           ...\n",
              "542          543  Masculino     20  ...  Brasil        0   Medio risco\n",
              "543          544  Masculino     66  ...  Brasil        1    Alto risco\n",
              "544          545  Masculino     36  ...  Brasil        3   Baixo risco\n",
              "545          546  Masculino     57  ...  Brasil        1   Baixo risco\n",
              "546          547  Masculino     61  ...  Brasil        2    Alto risco\n",
              "\n",
              "[547 rows x 11 columns]"
            ]
          },
          "metadata": {},
          "execution_count": 88
        }
      ]
    },
    {
      "cell_type": "markdown",
      "metadata": {
        "id": "N-d1E-BfYKdt"
      },
      "source": [
        "#Calculando os centroides dos clusters"
      ]
    },
    {
      "cell_type": "code",
      "metadata": {
        "colab": {
          "base_uri": "https://localhost:8080/"
        },
        "id": "Ul6uYK1yYTv9",
        "outputId": "7f366131-8815-4be3-ffbf-fecc7b99a7ca"
      },
      "source": [
        "centroide_clusters = kmeans_clientes.cluster_centers_\n",
        "centroide_clusters"
      ],
      "execution_count": null,
      "outputs": [
        {
          "output_type": "execute_result",
          "data": {
            "text/plain": [
              "array([[184.97297297, 219.52027027,  42.84459459],\n",
              "       [129.19858156, 156.21985816,  41.62411348],\n",
              "       [153.98230088, 188.34513274,  43.15929204],\n",
              "       [107.17931034, 120.19310345,  43.5862069 ]])"
            ]
          },
          "metadata": {},
          "execution_count": 93
        }
      ]
    },
    {
      "cell_type": "code",
      "metadata": {
        "colab": {
          "base_uri": "https://localhost:8080/",
          "height": 408
        },
        "id": "y9KodAOaYf_8",
        "outputId": "e9f6dfcc-f946-4dbb-9795-448007db6f57"
      },
      "source": [
        "dados_cliente"
      ],
      "execution_count": null,
      "outputs": [
        {
          "output_type": "execute_result",
          "data": {
            "text/html": [
              "<div>\n",
              "<style scoped>\n",
              "    .dataframe tbody tr th:only-of-type {\n",
              "        vertical-align: middle;\n",
              "    }\n",
              "\n",
              "    .dataframe tbody tr th {\n",
              "        vertical-align: top;\n",
              "    }\n",
              "\n",
              "    .dataframe thead th {\n",
              "        text-align: right;\n",
              "    }\n",
              "</style>\n",
              "<table border=\"1\" class=\"dataframe\">\n",
              "  <thead>\n",
              "    <tr style=\"text-align: right;\">\n",
              "      <th></th>\n",
              "      <th>peso</th>\n",
              "      <th>colesterol</th>\n",
              "    </tr>\n",
              "  </thead>\n",
              "  <tbody>\n",
              "    <tr>\n",
              "      <th>0</th>\n",
              "      <td>102</td>\n",
              "      <td>111</td>\n",
              "    </tr>\n",
              "    <tr>\n",
              "      <th>1</th>\n",
              "      <td>115</td>\n",
              "      <td>135</td>\n",
              "    </tr>\n",
              "    <tr>\n",
              "      <th>2</th>\n",
              "      <td>115</td>\n",
              "      <td>136</td>\n",
              "    </tr>\n",
              "    <tr>\n",
              "      <th>3</th>\n",
              "      <td>140</td>\n",
              "      <td>167</td>\n",
              "    </tr>\n",
              "    <tr>\n",
              "      <th>4</th>\n",
              "      <td>130</td>\n",
              "      <td>158</td>\n",
              "    </tr>\n",
              "    <tr>\n",
              "      <th>...</th>\n",
              "      <td>...</td>\n",
              "      <td>...</td>\n",
              "    </tr>\n",
              "    <tr>\n",
              "      <th>542</th>\n",
              "      <td>172</td>\n",
              "      <td>207</td>\n",
              "    </tr>\n",
              "    <tr>\n",
              "      <th>543</th>\n",
              "      <td>129</td>\n",
              "      <td>157</td>\n",
              "    </tr>\n",
              "    <tr>\n",
              "      <th>544</th>\n",
              "      <td>107</td>\n",
              "      <td>115</td>\n",
              "    </tr>\n",
              "    <tr>\n",
              "      <th>545</th>\n",
              "      <td>117</td>\n",
              "      <td>147</td>\n",
              "    </tr>\n",
              "    <tr>\n",
              "      <th>546</th>\n",
              "      <td>148</td>\n",
              "      <td>176</td>\n",
              "    </tr>\n",
              "  </tbody>\n",
              "</table>\n",
              "<p>547 rows × 2 columns</p>\n",
              "</div>"
            ],
            "text/plain": [
              "     peso  colesterol\n",
              "0     102         111\n",
              "1     115         135\n",
              "2     115         136\n",
              "3     140         167\n",
              "4     130         158\n",
              "..    ...         ...\n",
              "542   172         207\n",
              "543   129         157\n",
              "544   107         115\n",
              "545   117         147\n",
              "546   148         176\n",
              "\n",
              "[547 rows x 2 columns]"
            ]
          },
          "metadata": {},
          "execution_count": 94
        }
      ]
    },
    {
      "cell_type": "markdown",
      "metadata": {
        "id": "44y-rHgEY82V"
      },
      "source": [
        "#Aqui temos os centroides dos 3 cluster de acordo com os atributos. Nesse exemplo vemos os centroides  de 'peso' 'colesterol' 'idade' respectivamente"
      ]
    },
    {
      "cell_type": "code",
      "metadata": {
        "colab": {
          "base_uri": "https://localhost:8080/",
          "height": 542
        },
        "id": "8eZ1R_jyZTVc",
        "outputId": "73be4bd8-f38e-49cc-c3b6-3e4db0ba8009"
      },
      "source": [
        "grafico = px.scatter(x=base_completa['peso'], y= base_completa['colesterol'],color= base_completa['cluster'])\n",
        "grafico_centroide = px.scatter(x= centroide_clusters[:,0], y= centroide_clusters[:,1], size=[7,7,7,7])\n",
        "grafico_final =go.Figure(data = grafico.data + grafico_centroide.data)\n",
        "grafico_final.show()"
      ],
      "execution_count": null,
      "outputs": [
        {
          "output_type": "display_data",
          "data": {
            "text/html": [
              "<html>\n",
              "<head><meta charset=\"utf-8\" /></head>\n",
              "<body>\n",
              "    <div>\n",
              "            <script src=\"https://cdnjs.cloudflare.com/ajax/libs/mathjax/2.7.5/MathJax.js?config=TeX-AMS-MML_SVG\"></script><script type=\"text/javascript\">if (window.MathJax) {MathJax.Hub.Config({SVG: {font: \"STIX-Web\"}});}</script>\n",
              "                <script type=\"text/javascript\">window.PlotlyConfig = {MathJaxConfig: 'local'};</script>\n",
              "        <script src=\"https://cdn.plot.ly/plotly-latest.min.js\"></script>    \n",
              "            <div id=\"0a67a758-2244-4ef0-9f10-6b2395c4d6aa\" class=\"plotly-graph-div\" style=\"height:525px; width:100%;\"></div>\n",
              "            <script type=\"text/javascript\">\n",
              "                \n",
              "                    window.PLOTLYENV=window.PLOTLYENV || {};\n",
              "                    \n",
              "                if (document.getElementById(\"0a67a758-2244-4ef0-9f10-6b2395c4d6aa\")) {\n",
              "                    Plotly.newPlot(\n",
              "                        '0a67a758-2244-4ef0-9f10-6b2395c4d6aa',\n",
              "                        [{\"hoverlabel\": {\"namelength\": 0}, \"hovertemplate\": \"x=%{x}<br>y=%{y}<br>color=%{marker.color}\", \"legendgroup\": \"\", \"marker\": {\"color\": [3, 3, 3, 1, 1, 0, 3, 2, 0, 0, 3, 0, 3, 2, 1, 0, 3, 2, 2, 1, 2, 3, 0, 1, 3, 0, 3, 0, 0, 2, 2, 1, 2, 3, 0, 3, 0, 3, 1, 2, 0, 2, 3, 0, 0, 1, 0, 1, 1, 3, 3, 2, 0, 2, 3, 2, 2, 0, 1, 2, 3, 2, 3, 0, 1, 2, 3, 2, 0, 1, 1, 1, 1, 2, 0, 3, 1, 0, 3, 1, 1, 3, 2, 1, 3, 3, 2, 1, 1, 3, 2, 0, 3, 3, 3, 1, 1, 2, 3, 3, 2, 0, 3, 1, 0, 0, 3, 1, 3, 0, 1, 0, 1, 3, 0, 3, 1, 1, 1, 1, 0, 3, 2, 0, 0, 3, 0, 3, 2, 1, 0, 3, 0, 2, 1, 2, 3, 0, 1, 3, 0, 3, 0, 0, 2, 0, 1, 2, 3, 0, 3, 0, 3, 1, 2, 0, 2, 1, 0, 0, 1, 0, 1, 1, 3, 1, 2, 0, 2, 3, 2, 2, 0, 1, 2, 3, 2, 3, 0, 1, 2, 3, 2, 0, 1, 1, 1, 1, 2, 0, 3, 1, 0, 3, 1, 1, 3, 0, 1, 3, 1, 2, 2, 1, 3, 2, 0, 3, 3, 3, 1, 1, 2, 3, 3, 2, 0, 3, 1, 0, 0, 3, 1, 3, 0, 1, 0, 1, 3, 0, 3, 1, 1, 2, 1, 0, 3, 2, 0, 0, 3, 0, 3, 2, 1, 0, 3, 0, 2, 1, 2, 3, 0, 1, 3, 0, 3, 0, 0, 2, 0, 1, 2, 3, 0, 3, 0, 3, 1, 0, 0, 2, 1, 0, 0, 1, 0, 1, 1, 3, 1, 0, 0, 2, 3, 2, 2, 0, 1, 2, 3, 2, 3, 0, 1, 2, 3, 2, 0, 1, 1, 1, 1, 2, 0, 3, 1, 0, 3, 1, 1, 3, 2, 1, 3, 1, 2, 2, 1, 3, 2, 0, 3, 3, 3, 1, 1, 2, 3, 3, 2, 0, 3, 1, 0, 0, 3, 2, 3, 0, 1, 0, 1, 3, 0, 3, 1, 1, 2, 1, 0, 3, 2, 0, 0, 3, 0, 3, 2, 1, 0, 3, 0, 2, 1, 2, 3, 0, 2, 3, 0, 3, 0, 0, 2, 0, 1, 2, 3, 0, 3, 0, 3, 1, 0, 0, 2, 1, 0, 0, 1, 0, 1, 1, 3, 1, 2, 0, 2, 3, 2, 2, 0, 1, 2, 3, 2, 3, 0, 1, 2, 3, 2, 0, 1, 1, 1, 1, 2, 0, 3, 1, 0, 3, 1, 1, 3, 0, 1, 3, 1, 2, 1, 1, 3, 2, 0, 3, 3, 3, 1, 1, 2, 3, 3, 2, 0, 3, 1, 0, 0, 3, 2, 3, 0, 1, 0, 1, 3, 0, 3, 3, 1, 2, 1, 0, 1, 2, 0, 0, 3, 0, 3, 2, 1, 0, 3, 0, 2, 1, 2, 3, 0, 2, 3, 0, 3, 0, 0, 2, 0, 2, 2, 3, 0, 3, 0, 3, 1, 0, 0, 2, 1, 0, 0, 1, 0, 1, 1, 3, 1, 2, 0, 2, 3, 2, 2, 0, 1, 2, 3, 2, 3, 0, 1, 2, 3, 2, 0, 2, 1, 1, 1, 2, 0, 3, 1, 0, 3, 1, 1, 3, 0, 1, 3, 1, 2], \"coloraxis\": \"coloraxis\", \"symbol\": \"circle\"}, \"mode\": \"markers\", \"name\": \"\", \"showlegend\": false, \"type\": \"scatter\", \"x\": [102, 115, 115, 140, 130, 198, 114, 145, 191, 186, 104, 188, 96, 156, 125, 178, 109, 168, 152, 133, 153, 107, 199, 140, 95, 183, 108, 190, 174, 149, 169, 138, 151, 109, 178, 106, 195, 96, 129, 166, 197, 148, 117, 193, 170, 130, 183, 134, 128, 105, 115, 166, 183, 149, 110, 164, 157, 170, 124, 145, 113, 150, 100, 178, 139, 150, 101, 157, 187, 137, 121, 132, 130, 156, 180, 100, 122, 185, 113, 123, 119, 113, 168, 126, 102, 116, 144, 140, 124, 108, 154, 185, 106, 97, 96, 129, 124, 149, 97, 102, 146, 199, 100, 118, 179, 179, 113, 142, 101, 174, 131, 179, 122, 105, 176, 103, 120, 118, 143, 134, 203, 116, 150, 192, 187, 107, 192, 97, 157, 128, 183, 112, 173, 156, 137, 156, 112, 203, 141, 97, 186, 113, 195, 175, 154, 173, 141, 152, 114, 181, 111, 200, 100, 134, 167, 198, 151, 121, 196, 171, 135, 186, 138, 133, 107, 120, 168, 184, 154, 115, 168, 161, 171, 129, 150, 118, 154, 103, 180, 141, 152, 104, 159, 191, 142, 123, 135, 132, 158, 181, 105, 126, 186, 116, 124, 122, 115, 173, 128, 103, 120, 146, 145, 125, 109, 156, 187, 110, 100, 97, 133, 128, 154, 100, 104, 149, 203, 104, 119, 181, 180, 116, 144, 102, 176, 135, 184, 124, 110, 180, 103, 117, 120, 145, 133, 201, 117, 146, 195, 188, 108, 191, 100, 158, 127, 181, 113, 171, 153, 137, 154, 112, 201, 141, 100, 185, 111, 191, 176, 150, 171, 140, 153, 111, 180, 107, 197, 101, 132, 168, 200, 150, 119, 197, 172, 134, 185, 135, 132, 109, 116, 170, 187, 154, 111, 169, 161, 174, 125, 148, 117, 154, 104, 183, 142, 155, 105, 160, 191, 140, 123, 136, 132, 158, 182, 104, 126, 188, 118, 127, 123, 118, 169, 128, 106, 119, 147, 141, 125, 109, 158, 190, 110, 99, 98, 134, 129, 154, 100, 107, 149, 203, 101, 119, 182, 181, 115, 145, 102, 176, 134, 183, 123, 108, 177, 104, 117, 117, 145, 134, 199, 115, 149, 192, 188, 107, 190, 98, 158, 128, 180, 110, 172, 157, 137, 158, 110, 203, 145, 96, 186, 110, 194, 177, 152, 172, 140, 154, 113, 179, 111, 196, 101, 131, 171, 199, 151, 121, 196, 174, 135, 184, 137, 129, 108, 116, 168, 184, 151, 114, 167, 160, 175, 127, 146, 118, 151, 105, 180, 140, 155, 106, 160, 192, 138, 122, 135, 132, 158, 184, 101, 126, 188, 118, 127, 123, 117, 172, 127, 104, 121, 148, 141, 128, 113, 155, 189, 108, 98, 100, 134, 125, 151, 100, 107, 147, 200, 101, 120, 181, 182, 117, 145, 106, 179, 134, 180, 126, 110, 180, 103, 116, 119, 144, 133, 199, 115, 150, 192, 188, 109, 189, 101, 159, 128, 182, 111, 171, 154, 134, 157, 112, 203, 142, 97, 187, 111, 194, 176, 153, 171, 142, 153, 113, 183, 108, 200, 99, 131, 171, 200, 152, 119, 196, 173, 132, 185, 138, 132, 110, 119, 167, 188, 151, 112, 166, 158, 172, 127, 150, 115, 151, 103, 181, 141, 152, 105, 162, 190, 141, 122, 136, 131, 157, 181, 103, 127, 189, 114, 125, 123, 116, 172, 129, 107, 117, 148], \"xaxis\": \"x\", \"y\": [111, 135, 136, 167, 158, 227, 131, 176, 223, 221, 116, 222, 102, 192, 152, 213, 125, 204, 189, 163, 189, 122, 228, 168, 102, 218, 123, 222, 208, 183, 204, 167, 188, 126, 213, 122, 225, 105, 155, 203, 225, 177, 139, 224, 207, 158, 218, 164, 154, 118, 138, 199, 219, 183, 128, 197, 196, 208, 152, 175, 129, 185, 107, 211, 167, 185, 110, 194, 221, 166, 143, 163, 158, 191, 216, 106, 146, 220, 131, 147, 141, 130, 204, 152, 111, 139, 172, 168, 148, 123, 189, 220, 120, 106, 105, 157, 149, 185, 106, 115, 177, 230, 108, 140, 214, 216, 130, 169, 110, 209, 162, 214, 145, 116, 209, 116, 139, 143, 168, 158, 232, 136, 180, 228, 222, 117, 224, 104, 195, 156, 213, 133, 208, 195, 163, 195, 124, 231, 172, 104, 221, 128, 222, 214, 184, 204, 171, 195, 132, 214, 123, 233, 107, 162, 204, 227, 185, 142, 225, 212, 161, 220, 168, 155, 125, 144, 201, 222, 189, 132, 204, 201, 211, 156, 179, 129, 185, 107, 213, 172, 193, 114, 202, 222, 168, 146, 170, 165, 196, 224, 108, 149, 224, 136, 152, 143, 135, 211, 156, 115, 143, 179, 173, 148, 127, 194, 225, 127, 106, 112, 164, 151, 191, 110, 116, 180, 235, 108, 141, 219, 219, 138, 169, 116, 212, 162, 220, 151, 119, 212, 111, 142, 138, 172, 158, 228, 134, 181, 231, 223, 121, 222, 102, 195, 156, 214, 132, 204, 190, 167, 195, 127, 235, 171, 110, 221, 128, 226, 208, 191, 205, 173, 191, 128, 220, 126, 232, 108, 159, 211, 232, 182, 145, 224, 209, 160, 219, 170, 161, 122, 141, 204, 226, 187, 129, 199, 199, 214, 159, 176, 129, 187, 109, 212, 170, 191, 116, 202, 226, 166, 151, 170, 166, 193, 218, 109, 152, 220, 133, 152, 142, 131, 204, 153, 114, 144, 172, 176, 150, 129, 190, 226, 128, 106, 107, 159, 157, 192, 110, 115, 183, 233, 112, 146, 222, 216, 134, 174, 114, 211, 167, 214, 145, 120, 217, 113, 141, 140, 171, 163, 232, 131, 184, 225, 223, 121, 223, 105, 197, 160, 218, 131, 211, 194, 169, 189, 128, 228, 169, 108, 219, 124, 224, 214, 190, 205, 167, 190, 128, 217, 126, 228, 105, 162, 211, 227, 178, 146, 227, 208, 163, 225, 167, 162, 125, 144, 199, 226, 183, 136, 199, 204, 215, 155, 179, 133, 186, 111, 219, 173, 185, 118, 199, 226, 169, 144, 166, 166, 198, 222, 110, 154, 226, 135, 151, 146, 133, 205, 154, 116, 145, 174, 168, 156, 124, 196, 227, 122, 106, 110, 158, 154, 190, 110, 120, 180, 232, 110, 142, 222, 218, 138, 176, 115, 211, 168, 216, 147, 124, 215, 117, 139, 138, 171, 158, 232, 139, 178, 224, 224, 116, 223, 109, 193, 155, 221, 130, 212, 190, 169, 191, 122, 234, 175, 108, 220, 126, 227, 216, 188, 205, 172, 192, 129, 219, 127, 228, 105, 159, 205, 228, 178, 139, 232, 212, 162, 226, 171, 159, 120, 143, 200, 221, 184, 134, 200, 201, 210, 159, 178, 137, 190, 110, 213, 170, 193, 113, 196, 222, 174, 143, 169, 165, 194, 217, 113, 150, 223, 133, 149, 149, 130, 207, 157, 115, 147, 176], \"yaxis\": \"y\"}, {\"hoverlabel\": {\"namelength\": 0}, \"hovertemplate\": \"x=%{x}<br>y=%{y}<br>size=%{marker.size}\", \"legendgroup\": \"\", \"marker\": {\"color\": \"#636efa\", \"size\": [7, 7, 7, 7], \"sizemode\": \"area\", \"sizeref\": 0.0175, \"symbol\": \"circle\"}, \"mode\": \"markers\", \"name\": \"\", \"showlegend\": false, \"type\": \"scatter\", \"x\": [184.9729729729729, 129.19858156028366, 153.98230088495572, 107.17931034482757], \"xaxis\": \"x\", \"y\": [219.52027027027037, 156.21985815602832, 188.3451327433628, 120.19310344827596], \"yaxis\": \"y\"}],\n",
              "                        {\"template\": {\"data\": {\"bar\": [{\"error_x\": {\"color\": \"#2a3f5f\"}, \"error_y\": {\"color\": \"#2a3f5f\"}, \"marker\": {\"line\": {\"color\": \"#E5ECF6\", \"width\": 0.5}}, \"type\": \"bar\"}], \"barpolar\": [{\"marker\": {\"line\": {\"color\": \"#E5ECF6\", \"width\": 0.5}}, \"type\": \"barpolar\"}], \"carpet\": [{\"aaxis\": {\"endlinecolor\": \"#2a3f5f\", \"gridcolor\": \"white\", \"linecolor\": \"white\", \"minorgridcolor\": \"white\", \"startlinecolor\": \"#2a3f5f\"}, \"baxis\": {\"endlinecolor\": \"#2a3f5f\", \"gridcolor\": \"white\", \"linecolor\": \"white\", \"minorgridcolor\": \"white\", \"startlinecolor\": \"#2a3f5f\"}, \"type\": \"carpet\"}], \"choropleth\": [{\"colorbar\": {\"outlinewidth\": 0, \"ticks\": \"\"}, \"type\": \"choropleth\"}], \"contour\": [{\"colorbar\": {\"outlinewidth\": 0, \"ticks\": \"\"}, \"colorscale\": [[0.0, \"#0d0887\"], [0.1111111111111111, \"#46039f\"], [0.2222222222222222, \"#7201a8\"], [0.3333333333333333, \"#9c179e\"], [0.4444444444444444, \"#bd3786\"], [0.5555555555555556, \"#d8576b\"], [0.6666666666666666, \"#ed7953\"], [0.7777777777777778, \"#fb9f3a\"], [0.8888888888888888, \"#fdca26\"], [1.0, \"#f0f921\"]], \"type\": \"contour\"}], \"contourcarpet\": [{\"colorbar\": {\"outlinewidth\": 0, \"ticks\": \"\"}, \"type\": \"contourcarpet\"}], \"heatmap\": [{\"colorbar\": {\"outlinewidth\": 0, \"ticks\": \"\"}, \"colorscale\": [[0.0, \"#0d0887\"], [0.1111111111111111, \"#46039f\"], [0.2222222222222222, \"#7201a8\"], [0.3333333333333333, \"#9c179e\"], [0.4444444444444444, \"#bd3786\"], [0.5555555555555556, \"#d8576b\"], [0.6666666666666666, \"#ed7953\"], [0.7777777777777778, \"#fb9f3a\"], [0.8888888888888888, \"#fdca26\"], [1.0, \"#f0f921\"]], \"type\": \"heatmap\"}], \"heatmapgl\": [{\"colorbar\": {\"outlinewidth\": 0, \"ticks\": \"\"}, \"colorscale\": [[0.0, \"#0d0887\"], [0.1111111111111111, \"#46039f\"], [0.2222222222222222, \"#7201a8\"], [0.3333333333333333, \"#9c179e\"], [0.4444444444444444, \"#bd3786\"], [0.5555555555555556, \"#d8576b\"], [0.6666666666666666, \"#ed7953\"], [0.7777777777777778, \"#fb9f3a\"], [0.8888888888888888, \"#fdca26\"], [1.0, \"#f0f921\"]], \"type\": \"heatmapgl\"}], \"histogram\": [{\"marker\": {\"colorbar\": {\"outlinewidth\": 0, \"ticks\": \"\"}}, \"type\": \"histogram\"}], \"histogram2d\": [{\"colorbar\": {\"outlinewidth\": 0, \"ticks\": \"\"}, \"colorscale\": [[0.0, \"#0d0887\"], [0.1111111111111111, \"#46039f\"], [0.2222222222222222, \"#7201a8\"], [0.3333333333333333, \"#9c179e\"], [0.4444444444444444, \"#bd3786\"], [0.5555555555555556, \"#d8576b\"], [0.6666666666666666, \"#ed7953\"], [0.7777777777777778, \"#fb9f3a\"], [0.8888888888888888, \"#fdca26\"], [1.0, \"#f0f921\"]], \"type\": \"histogram2d\"}], \"histogram2dcontour\": [{\"colorbar\": {\"outlinewidth\": 0, \"ticks\": \"\"}, \"colorscale\": [[0.0, \"#0d0887\"], [0.1111111111111111, \"#46039f\"], [0.2222222222222222, \"#7201a8\"], [0.3333333333333333, \"#9c179e\"], [0.4444444444444444, \"#bd3786\"], [0.5555555555555556, \"#d8576b\"], [0.6666666666666666, \"#ed7953\"], [0.7777777777777778, \"#fb9f3a\"], [0.8888888888888888, \"#fdca26\"], [1.0, \"#f0f921\"]], \"type\": \"histogram2dcontour\"}], \"mesh3d\": [{\"colorbar\": {\"outlinewidth\": 0, \"ticks\": \"\"}, \"type\": \"mesh3d\"}], \"parcoords\": [{\"line\": {\"colorbar\": {\"outlinewidth\": 0, \"ticks\": \"\"}}, \"type\": \"parcoords\"}], \"pie\": [{\"automargin\": true, \"type\": \"pie\"}], \"scatter\": [{\"marker\": {\"colorbar\": {\"outlinewidth\": 0, \"ticks\": \"\"}}, \"type\": \"scatter\"}], \"scatter3d\": [{\"line\": {\"colorbar\": {\"outlinewidth\": 0, \"ticks\": \"\"}}, \"marker\": {\"colorbar\": {\"outlinewidth\": 0, \"ticks\": \"\"}}, \"type\": \"scatter3d\"}], \"scattercarpet\": [{\"marker\": {\"colorbar\": {\"outlinewidth\": 0, \"ticks\": \"\"}}, \"type\": \"scattercarpet\"}], \"scattergeo\": [{\"marker\": {\"colorbar\": {\"outlinewidth\": 0, \"ticks\": \"\"}}, \"type\": \"scattergeo\"}], \"scattergl\": [{\"marker\": {\"colorbar\": {\"outlinewidth\": 0, \"ticks\": \"\"}}, \"type\": \"scattergl\"}], \"scattermapbox\": [{\"marker\": {\"colorbar\": {\"outlinewidth\": 0, \"ticks\": \"\"}}, \"type\": \"scattermapbox\"}], \"scatterpolar\": [{\"marker\": {\"colorbar\": {\"outlinewidth\": 0, \"ticks\": \"\"}}, \"type\": \"scatterpolar\"}], \"scatterpolargl\": [{\"marker\": {\"colorbar\": {\"outlinewidth\": 0, \"ticks\": \"\"}}, \"type\": \"scatterpolargl\"}], \"scatterternary\": [{\"marker\": {\"colorbar\": {\"outlinewidth\": 0, \"ticks\": \"\"}}, \"type\": \"scatterternary\"}], \"surface\": [{\"colorbar\": {\"outlinewidth\": 0, \"ticks\": \"\"}, \"colorscale\": [[0.0, \"#0d0887\"], [0.1111111111111111, \"#46039f\"], [0.2222222222222222, \"#7201a8\"], [0.3333333333333333, \"#9c179e\"], [0.4444444444444444, \"#bd3786\"], [0.5555555555555556, \"#d8576b\"], [0.6666666666666666, \"#ed7953\"], [0.7777777777777778, \"#fb9f3a\"], [0.8888888888888888, \"#fdca26\"], [1.0, \"#f0f921\"]], \"type\": \"surface\"}], \"table\": [{\"cells\": {\"fill\": {\"color\": \"#EBF0F8\"}, \"line\": {\"color\": \"white\"}}, \"header\": {\"fill\": {\"color\": \"#C8D4E3\"}, \"line\": {\"color\": \"white\"}}, \"type\": \"table\"}]}, \"layout\": {\"annotationdefaults\": {\"arrowcolor\": \"#2a3f5f\", \"arrowhead\": 0, \"arrowwidth\": 1}, \"coloraxis\": {\"colorbar\": {\"outlinewidth\": 0, \"ticks\": \"\"}}, \"colorscale\": {\"diverging\": [[0, \"#8e0152\"], [0.1, \"#c51b7d\"], [0.2, \"#de77ae\"], [0.3, \"#f1b6da\"], [0.4, \"#fde0ef\"], [0.5, \"#f7f7f7\"], [0.6, \"#e6f5d0\"], [0.7, \"#b8e186\"], [0.8, \"#7fbc41\"], [0.9, \"#4d9221\"], [1, \"#276419\"]], \"sequential\": [[0.0, \"#0d0887\"], [0.1111111111111111, \"#46039f\"], [0.2222222222222222, \"#7201a8\"], [0.3333333333333333, \"#9c179e\"], [0.4444444444444444, \"#bd3786\"], [0.5555555555555556, \"#d8576b\"], [0.6666666666666666, \"#ed7953\"], [0.7777777777777778, \"#fb9f3a\"], [0.8888888888888888, \"#fdca26\"], [1.0, \"#f0f921\"]], \"sequentialminus\": [[0.0, \"#0d0887\"], [0.1111111111111111, \"#46039f\"], [0.2222222222222222, \"#7201a8\"], [0.3333333333333333, \"#9c179e\"], [0.4444444444444444, \"#bd3786\"], [0.5555555555555556, \"#d8576b\"], [0.6666666666666666, \"#ed7953\"], [0.7777777777777778, \"#fb9f3a\"], [0.8888888888888888, \"#fdca26\"], [1.0, \"#f0f921\"]]}, \"colorway\": [\"#636efa\", \"#EF553B\", \"#00cc96\", \"#ab63fa\", \"#FFA15A\", \"#19d3f3\", \"#FF6692\", \"#B6E880\", \"#FF97FF\", \"#FECB52\"], \"font\": {\"color\": \"#2a3f5f\"}, \"geo\": {\"bgcolor\": \"white\", \"lakecolor\": \"white\", \"landcolor\": \"#E5ECF6\", \"showlakes\": true, \"showland\": true, \"subunitcolor\": \"white\"}, \"hoverlabel\": {\"align\": \"left\"}, \"hovermode\": \"closest\", \"mapbox\": {\"style\": \"light\"}, \"paper_bgcolor\": \"white\", \"plot_bgcolor\": \"#E5ECF6\", \"polar\": {\"angularaxis\": {\"gridcolor\": \"white\", \"linecolor\": \"white\", \"ticks\": \"\"}, \"bgcolor\": \"#E5ECF6\", \"radialaxis\": {\"gridcolor\": \"white\", \"linecolor\": \"white\", \"ticks\": \"\"}}, \"scene\": {\"xaxis\": {\"backgroundcolor\": \"#E5ECF6\", \"gridcolor\": \"white\", \"gridwidth\": 2, \"linecolor\": \"white\", \"showbackground\": true, \"ticks\": \"\", \"zerolinecolor\": \"white\"}, \"yaxis\": {\"backgroundcolor\": \"#E5ECF6\", \"gridcolor\": \"white\", \"gridwidth\": 2, \"linecolor\": \"white\", \"showbackground\": true, \"ticks\": \"\", \"zerolinecolor\": \"white\"}, \"zaxis\": {\"backgroundcolor\": \"#E5ECF6\", \"gridcolor\": \"white\", \"gridwidth\": 2, \"linecolor\": \"white\", \"showbackground\": true, \"ticks\": \"\", \"zerolinecolor\": \"white\"}}, \"shapedefaults\": {\"line\": {\"color\": \"#2a3f5f\"}}, \"ternary\": {\"aaxis\": {\"gridcolor\": \"white\", \"linecolor\": \"white\", \"ticks\": \"\"}, \"baxis\": {\"gridcolor\": \"white\", \"linecolor\": \"white\", \"ticks\": \"\"}, \"bgcolor\": \"#E5ECF6\", \"caxis\": {\"gridcolor\": \"white\", \"linecolor\": \"white\", \"ticks\": \"\"}}, \"title\": {\"x\": 0.05}, \"xaxis\": {\"automargin\": true, \"gridcolor\": \"white\", \"linecolor\": \"white\", \"ticks\": \"\", \"title\": {\"standoff\": 15}, \"zerolinecolor\": \"white\", \"zerolinewidth\": 2}, \"yaxis\": {\"automargin\": true, \"gridcolor\": \"white\", \"linecolor\": \"white\", \"ticks\": \"\", \"title\": {\"standoff\": 15}, \"zerolinecolor\": \"white\", \"zerolinewidth\": 2}}}},\n",
              "                        {\"responsive\": true}\n",
              "                    ).then(function(){\n",
              "                            \n",
              "var gd = document.getElementById('0a67a758-2244-4ef0-9f10-6b2395c4d6aa');\n",
              "var x = new MutationObserver(function (mutations, observer) {{\n",
              "        var display = window.getComputedStyle(gd).display;\n",
              "        if (!display || display === 'none') {{\n",
              "            console.log([gd, 'removed!']);\n",
              "            Plotly.purge(gd);\n",
              "            observer.disconnect();\n",
              "        }}\n",
              "}});\n",
              "\n",
              "// Listen for the removal of the full notebook cells\n",
              "var notebookContainer = gd.closest('#notebook-container');\n",
              "if (notebookContainer) {{\n",
              "    x.observe(notebookContainer, {childList: true});\n",
              "}}\n",
              "\n",
              "// Listen for the clearing of the current output cell\n",
              "var outputEl = gd.closest('.output');\n",
              "if (outputEl) {{\n",
              "    x.observe(outputEl, {childList: true});\n",
              "}}\n",
              "\n",
              "                        })\n",
              "                };\n",
              "                \n",
              "            </script>\n",
              "        </div>\n",
              "</body>\n",
              "</html>"
            ]
          },
          "metadata": {}
        }
      ]
    },
    {
      "cell_type": "markdown",
      "metadata": {
        "id": "XeqFzEOxbBXN"
      },
      "source": [
        "#Vizualizando e alterando o layout do grafico"
      ]
    },
    {
      "cell_type": "code",
      "metadata": {
        "colab": {
          "base_uri": "https://localhost:8080/",
          "height": 542
        },
        "id": "VNeYTqjUbKFd",
        "outputId": "ee5b2a2e-06d2-4aa8-c25c-b3e1ff302a12"
      },
      "source": [
        "grafico = px.scatter(x= base_completa['colesterol'], y= base_completa['peso'],color= base_completa['cluster']\n",
        "                     )\n",
        "fig = go.Figure(grafico)\n",
        "fig.update_layout(title = 'Analise de cluster ', xaxis_title=\"Colesterol\",yaxis_title= 'peso')\n",
        "fig.show()"
      ],
      "execution_count": null,
      "outputs": [
        {
          "output_type": "display_data",
          "data": {
            "text/html": [
              "<html>\n",
              "<head><meta charset=\"utf-8\" /></head>\n",
              "<body>\n",
              "    <div>\n",
              "            <script src=\"https://cdnjs.cloudflare.com/ajax/libs/mathjax/2.7.5/MathJax.js?config=TeX-AMS-MML_SVG\"></script><script type=\"text/javascript\">if (window.MathJax) {MathJax.Hub.Config({SVG: {font: \"STIX-Web\"}});}</script>\n",
              "                <script type=\"text/javascript\">window.PlotlyConfig = {MathJaxConfig: 'local'};</script>\n",
              "        <script src=\"https://cdn.plot.ly/plotly-latest.min.js\"></script>    \n",
              "            <div id=\"d6034dee-29ae-4869-bad2-f700b5114d89\" class=\"plotly-graph-div\" style=\"height:525px; width:100%;\"></div>\n",
              "            <script type=\"text/javascript\">\n",
              "                \n",
              "                    window.PLOTLYENV=window.PLOTLYENV || {};\n",
              "                    \n",
              "                if (document.getElementById(\"d6034dee-29ae-4869-bad2-f700b5114d89\")) {\n",
              "                    Plotly.newPlot(\n",
              "                        'd6034dee-29ae-4869-bad2-f700b5114d89',\n",
              "                        [{\"hoverlabel\": {\"namelength\": 0}, \"hovertemplate\": \"x=%{x}<br>y=%{y}<br>color=%{marker.color}\", \"legendgroup\": \"\", \"marker\": {\"color\": [3, 3, 3, 1, 1, 0, 3, 2, 0, 0, 3, 0, 3, 2, 1, 0, 3, 2, 2, 1, 2, 3, 0, 1, 3, 0, 3, 0, 0, 2, 2, 1, 2, 3, 0, 3, 0, 3, 1, 2, 0, 2, 3, 0, 0, 1, 0, 1, 1, 3, 3, 2, 0, 2, 3, 2, 2, 0, 1, 2, 3, 2, 3, 0, 1, 2, 3, 2, 0, 1, 1, 1, 1, 2, 0, 3, 1, 0, 3, 1, 1, 3, 2, 1, 3, 3, 2, 1, 1, 3, 2, 0, 3, 3, 3, 1, 1, 2, 3, 3, 2, 0, 3, 1, 0, 0, 3, 1, 3, 0, 1, 0, 1, 3, 0, 3, 1, 1, 1, 1, 0, 3, 2, 0, 0, 3, 0, 3, 2, 1, 0, 3, 0, 2, 1, 2, 3, 0, 1, 3, 0, 3, 0, 0, 2, 0, 1, 2, 3, 0, 3, 0, 3, 1, 2, 0, 2, 1, 0, 0, 1, 0, 1, 1, 3, 1, 2, 0, 2, 3, 2, 2, 0, 1, 2, 3, 2, 3, 0, 1, 2, 3, 2, 0, 1, 1, 1, 1, 2, 0, 3, 1, 0, 3, 1, 1, 3, 0, 1, 3, 1, 2, 2, 1, 3, 2, 0, 3, 3, 3, 1, 1, 2, 3, 3, 2, 0, 3, 1, 0, 0, 3, 1, 3, 0, 1, 0, 1, 3, 0, 3, 1, 1, 2, 1, 0, 3, 2, 0, 0, 3, 0, 3, 2, 1, 0, 3, 0, 2, 1, 2, 3, 0, 1, 3, 0, 3, 0, 0, 2, 0, 1, 2, 3, 0, 3, 0, 3, 1, 0, 0, 2, 1, 0, 0, 1, 0, 1, 1, 3, 1, 0, 0, 2, 3, 2, 2, 0, 1, 2, 3, 2, 3, 0, 1, 2, 3, 2, 0, 1, 1, 1, 1, 2, 0, 3, 1, 0, 3, 1, 1, 3, 2, 1, 3, 1, 2, 2, 1, 3, 2, 0, 3, 3, 3, 1, 1, 2, 3, 3, 2, 0, 3, 1, 0, 0, 3, 2, 3, 0, 1, 0, 1, 3, 0, 3, 1, 1, 2, 1, 0, 3, 2, 0, 0, 3, 0, 3, 2, 1, 0, 3, 0, 2, 1, 2, 3, 0, 2, 3, 0, 3, 0, 0, 2, 0, 1, 2, 3, 0, 3, 0, 3, 1, 0, 0, 2, 1, 0, 0, 1, 0, 1, 1, 3, 1, 2, 0, 2, 3, 2, 2, 0, 1, 2, 3, 2, 3, 0, 1, 2, 3, 2, 0, 1, 1, 1, 1, 2, 0, 3, 1, 0, 3, 1, 1, 3, 0, 1, 3, 1, 2, 1, 1, 3, 2, 0, 3, 3, 3, 1, 1, 2, 3, 3, 2, 0, 3, 1, 0, 0, 3, 2, 3, 0, 1, 0, 1, 3, 0, 3, 3, 1, 2, 1, 0, 1, 2, 0, 0, 3, 0, 3, 2, 1, 0, 3, 0, 2, 1, 2, 3, 0, 2, 3, 0, 3, 0, 0, 2, 0, 2, 2, 3, 0, 3, 0, 3, 1, 0, 0, 2, 1, 0, 0, 1, 0, 1, 1, 3, 1, 2, 0, 2, 3, 2, 2, 0, 1, 2, 3, 2, 3, 0, 1, 2, 3, 2, 0, 2, 1, 1, 1, 2, 0, 3, 1, 0, 3, 1, 1, 3, 0, 1, 3, 1, 2], \"coloraxis\": \"coloraxis\", \"symbol\": \"circle\"}, \"mode\": \"markers\", \"name\": \"\", \"showlegend\": false, \"type\": \"scatter\", \"x\": [111, 135, 136, 167, 158, 227, 131, 176, 223, 221, 116, 222, 102, 192, 152, 213, 125, 204, 189, 163, 189, 122, 228, 168, 102, 218, 123, 222, 208, 183, 204, 167, 188, 126, 213, 122, 225, 105, 155, 203, 225, 177, 139, 224, 207, 158, 218, 164, 154, 118, 138, 199, 219, 183, 128, 197, 196, 208, 152, 175, 129, 185, 107, 211, 167, 185, 110, 194, 221, 166, 143, 163, 158, 191, 216, 106, 146, 220, 131, 147, 141, 130, 204, 152, 111, 139, 172, 168, 148, 123, 189, 220, 120, 106, 105, 157, 149, 185, 106, 115, 177, 230, 108, 140, 214, 216, 130, 169, 110, 209, 162, 214, 145, 116, 209, 116, 139, 143, 168, 158, 232, 136, 180, 228, 222, 117, 224, 104, 195, 156, 213, 133, 208, 195, 163, 195, 124, 231, 172, 104, 221, 128, 222, 214, 184, 204, 171, 195, 132, 214, 123, 233, 107, 162, 204, 227, 185, 142, 225, 212, 161, 220, 168, 155, 125, 144, 201, 222, 189, 132, 204, 201, 211, 156, 179, 129, 185, 107, 213, 172, 193, 114, 202, 222, 168, 146, 170, 165, 196, 224, 108, 149, 224, 136, 152, 143, 135, 211, 156, 115, 143, 179, 173, 148, 127, 194, 225, 127, 106, 112, 164, 151, 191, 110, 116, 180, 235, 108, 141, 219, 219, 138, 169, 116, 212, 162, 220, 151, 119, 212, 111, 142, 138, 172, 158, 228, 134, 181, 231, 223, 121, 222, 102, 195, 156, 214, 132, 204, 190, 167, 195, 127, 235, 171, 110, 221, 128, 226, 208, 191, 205, 173, 191, 128, 220, 126, 232, 108, 159, 211, 232, 182, 145, 224, 209, 160, 219, 170, 161, 122, 141, 204, 226, 187, 129, 199, 199, 214, 159, 176, 129, 187, 109, 212, 170, 191, 116, 202, 226, 166, 151, 170, 166, 193, 218, 109, 152, 220, 133, 152, 142, 131, 204, 153, 114, 144, 172, 176, 150, 129, 190, 226, 128, 106, 107, 159, 157, 192, 110, 115, 183, 233, 112, 146, 222, 216, 134, 174, 114, 211, 167, 214, 145, 120, 217, 113, 141, 140, 171, 163, 232, 131, 184, 225, 223, 121, 223, 105, 197, 160, 218, 131, 211, 194, 169, 189, 128, 228, 169, 108, 219, 124, 224, 214, 190, 205, 167, 190, 128, 217, 126, 228, 105, 162, 211, 227, 178, 146, 227, 208, 163, 225, 167, 162, 125, 144, 199, 226, 183, 136, 199, 204, 215, 155, 179, 133, 186, 111, 219, 173, 185, 118, 199, 226, 169, 144, 166, 166, 198, 222, 110, 154, 226, 135, 151, 146, 133, 205, 154, 116, 145, 174, 168, 156, 124, 196, 227, 122, 106, 110, 158, 154, 190, 110, 120, 180, 232, 110, 142, 222, 218, 138, 176, 115, 211, 168, 216, 147, 124, 215, 117, 139, 138, 171, 158, 232, 139, 178, 224, 224, 116, 223, 109, 193, 155, 221, 130, 212, 190, 169, 191, 122, 234, 175, 108, 220, 126, 227, 216, 188, 205, 172, 192, 129, 219, 127, 228, 105, 159, 205, 228, 178, 139, 232, 212, 162, 226, 171, 159, 120, 143, 200, 221, 184, 134, 200, 201, 210, 159, 178, 137, 190, 110, 213, 170, 193, 113, 196, 222, 174, 143, 169, 165, 194, 217, 113, 150, 223, 133, 149, 149, 130, 207, 157, 115, 147, 176], \"xaxis\": \"x\", \"y\": [102, 115, 115, 140, 130, 198, 114, 145, 191, 186, 104, 188, 96, 156, 125, 178, 109, 168, 152, 133, 153, 107, 199, 140, 95, 183, 108, 190, 174, 149, 169, 138, 151, 109, 178, 106, 195, 96, 129, 166, 197, 148, 117, 193, 170, 130, 183, 134, 128, 105, 115, 166, 183, 149, 110, 164, 157, 170, 124, 145, 113, 150, 100, 178, 139, 150, 101, 157, 187, 137, 121, 132, 130, 156, 180, 100, 122, 185, 113, 123, 119, 113, 168, 126, 102, 116, 144, 140, 124, 108, 154, 185, 106, 97, 96, 129, 124, 149, 97, 102, 146, 199, 100, 118, 179, 179, 113, 142, 101, 174, 131, 179, 122, 105, 176, 103, 120, 118, 143, 134, 203, 116, 150, 192, 187, 107, 192, 97, 157, 128, 183, 112, 173, 156, 137, 156, 112, 203, 141, 97, 186, 113, 195, 175, 154, 173, 141, 152, 114, 181, 111, 200, 100, 134, 167, 198, 151, 121, 196, 171, 135, 186, 138, 133, 107, 120, 168, 184, 154, 115, 168, 161, 171, 129, 150, 118, 154, 103, 180, 141, 152, 104, 159, 191, 142, 123, 135, 132, 158, 181, 105, 126, 186, 116, 124, 122, 115, 173, 128, 103, 120, 146, 145, 125, 109, 156, 187, 110, 100, 97, 133, 128, 154, 100, 104, 149, 203, 104, 119, 181, 180, 116, 144, 102, 176, 135, 184, 124, 110, 180, 103, 117, 120, 145, 133, 201, 117, 146, 195, 188, 108, 191, 100, 158, 127, 181, 113, 171, 153, 137, 154, 112, 201, 141, 100, 185, 111, 191, 176, 150, 171, 140, 153, 111, 180, 107, 197, 101, 132, 168, 200, 150, 119, 197, 172, 134, 185, 135, 132, 109, 116, 170, 187, 154, 111, 169, 161, 174, 125, 148, 117, 154, 104, 183, 142, 155, 105, 160, 191, 140, 123, 136, 132, 158, 182, 104, 126, 188, 118, 127, 123, 118, 169, 128, 106, 119, 147, 141, 125, 109, 158, 190, 110, 99, 98, 134, 129, 154, 100, 107, 149, 203, 101, 119, 182, 181, 115, 145, 102, 176, 134, 183, 123, 108, 177, 104, 117, 117, 145, 134, 199, 115, 149, 192, 188, 107, 190, 98, 158, 128, 180, 110, 172, 157, 137, 158, 110, 203, 145, 96, 186, 110, 194, 177, 152, 172, 140, 154, 113, 179, 111, 196, 101, 131, 171, 199, 151, 121, 196, 174, 135, 184, 137, 129, 108, 116, 168, 184, 151, 114, 167, 160, 175, 127, 146, 118, 151, 105, 180, 140, 155, 106, 160, 192, 138, 122, 135, 132, 158, 184, 101, 126, 188, 118, 127, 123, 117, 172, 127, 104, 121, 148, 141, 128, 113, 155, 189, 108, 98, 100, 134, 125, 151, 100, 107, 147, 200, 101, 120, 181, 182, 117, 145, 106, 179, 134, 180, 126, 110, 180, 103, 116, 119, 144, 133, 199, 115, 150, 192, 188, 109, 189, 101, 159, 128, 182, 111, 171, 154, 134, 157, 112, 203, 142, 97, 187, 111, 194, 176, 153, 171, 142, 153, 113, 183, 108, 200, 99, 131, 171, 200, 152, 119, 196, 173, 132, 185, 138, 132, 110, 119, 167, 188, 151, 112, 166, 158, 172, 127, 150, 115, 151, 103, 181, 141, 152, 105, 162, 190, 141, 122, 136, 131, 157, 181, 103, 127, 189, 114, 125, 123, 116, 172, 129, 107, 117, 148], \"yaxis\": \"y\"}],\n",
              "                        {\"coloraxis\": {\"colorbar\": {\"title\": {\"text\": \"color\"}}, \"colorscale\": [[0.0, \"#0d0887\"], [0.1111111111111111, \"#46039f\"], [0.2222222222222222, \"#7201a8\"], [0.3333333333333333, \"#9c179e\"], [0.4444444444444444, \"#bd3786\"], [0.5555555555555556, \"#d8576b\"], [0.6666666666666666, \"#ed7953\"], [0.7777777777777778, \"#fb9f3a\"], [0.8888888888888888, \"#fdca26\"], [1.0, \"#f0f921\"]]}, \"legend\": {\"tracegroupgap\": 0}, \"margin\": {\"t\": 60}, \"template\": {\"data\": {\"bar\": [{\"error_x\": {\"color\": \"#2a3f5f\"}, \"error_y\": {\"color\": \"#2a3f5f\"}, \"marker\": {\"line\": {\"color\": \"#E5ECF6\", \"width\": 0.5}}, \"type\": \"bar\"}], \"barpolar\": [{\"marker\": {\"line\": {\"color\": \"#E5ECF6\", \"width\": 0.5}}, \"type\": \"barpolar\"}], \"carpet\": [{\"aaxis\": {\"endlinecolor\": \"#2a3f5f\", \"gridcolor\": \"white\", \"linecolor\": \"white\", \"minorgridcolor\": \"white\", \"startlinecolor\": \"#2a3f5f\"}, \"baxis\": {\"endlinecolor\": \"#2a3f5f\", \"gridcolor\": \"white\", \"linecolor\": \"white\", \"minorgridcolor\": \"white\", \"startlinecolor\": \"#2a3f5f\"}, \"type\": \"carpet\"}], \"choropleth\": [{\"colorbar\": {\"outlinewidth\": 0, \"ticks\": \"\"}, \"type\": \"choropleth\"}], \"contour\": [{\"colorbar\": {\"outlinewidth\": 0, \"ticks\": \"\"}, \"colorscale\": [[0.0, \"#0d0887\"], [0.1111111111111111, \"#46039f\"], [0.2222222222222222, \"#7201a8\"], [0.3333333333333333, \"#9c179e\"], [0.4444444444444444, \"#bd3786\"], [0.5555555555555556, \"#d8576b\"], [0.6666666666666666, \"#ed7953\"], [0.7777777777777778, \"#fb9f3a\"], [0.8888888888888888, \"#fdca26\"], [1.0, \"#f0f921\"]], \"type\": \"contour\"}], \"contourcarpet\": [{\"colorbar\": {\"outlinewidth\": 0, \"ticks\": \"\"}, \"type\": \"contourcarpet\"}], \"heatmap\": [{\"colorbar\": {\"outlinewidth\": 0, \"ticks\": \"\"}, \"colorscale\": [[0.0, \"#0d0887\"], [0.1111111111111111, \"#46039f\"], [0.2222222222222222, \"#7201a8\"], [0.3333333333333333, \"#9c179e\"], [0.4444444444444444, \"#bd3786\"], [0.5555555555555556, \"#d8576b\"], [0.6666666666666666, \"#ed7953\"], [0.7777777777777778, \"#fb9f3a\"], [0.8888888888888888, \"#fdca26\"], [1.0, \"#f0f921\"]], \"type\": \"heatmap\"}], \"heatmapgl\": [{\"colorbar\": {\"outlinewidth\": 0, \"ticks\": \"\"}, \"colorscale\": [[0.0, \"#0d0887\"], [0.1111111111111111, \"#46039f\"], [0.2222222222222222, \"#7201a8\"], [0.3333333333333333, \"#9c179e\"], [0.4444444444444444, \"#bd3786\"], [0.5555555555555556, \"#d8576b\"], [0.6666666666666666, \"#ed7953\"], [0.7777777777777778, \"#fb9f3a\"], [0.8888888888888888, \"#fdca26\"], [1.0, \"#f0f921\"]], \"type\": \"heatmapgl\"}], \"histogram\": [{\"marker\": {\"colorbar\": {\"outlinewidth\": 0, \"ticks\": \"\"}}, \"type\": \"histogram\"}], \"histogram2d\": [{\"colorbar\": {\"outlinewidth\": 0, \"ticks\": \"\"}, \"colorscale\": [[0.0, \"#0d0887\"], [0.1111111111111111, \"#46039f\"], [0.2222222222222222, \"#7201a8\"], [0.3333333333333333, \"#9c179e\"], [0.4444444444444444, \"#bd3786\"], [0.5555555555555556, \"#d8576b\"], [0.6666666666666666, \"#ed7953\"], [0.7777777777777778, \"#fb9f3a\"], [0.8888888888888888, \"#fdca26\"], [1.0, \"#f0f921\"]], \"type\": \"histogram2d\"}], \"histogram2dcontour\": [{\"colorbar\": {\"outlinewidth\": 0, \"ticks\": \"\"}, \"colorscale\": [[0.0, \"#0d0887\"], [0.1111111111111111, \"#46039f\"], [0.2222222222222222, \"#7201a8\"], [0.3333333333333333, \"#9c179e\"], [0.4444444444444444, \"#bd3786\"], [0.5555555555555556, \"#d8576b\"], [0.6666666666666666, \"#ed7953\"], [0.7777777777777778, \"#fb9f3a\"], [0.8888888888888888, \"#fdca26\"], [1.0, \"#f0f921\"]], \"type\": \"histogram2dcontour\"}], \"mesh3d\": [{\"colorbar\": {\"outlinewidth\": 0, \"ticks\": \"\"}, \"type\": \"mesh3d\"}], \"parcoords\": [{\"line\": {\"colorbar\": {\"outlinewidth\": 0, \"ticks\": \"\"}}, \"type\": \"parcoords\"}], \"pie\": [{\"automargin\": true, \"type\": \"pie\"}], \"scatter\": [{\"marker\": {\"colorbar\": {\"outlinewidth\": 0, \"ticks\": \"\"}}, \"type\": \"scatter\"}], \"scatter3d\": [{\"line\": {\"colorbar\": {\"outlinewidth\": 0, \"ticks\": \"\"}}, \"marker\": {\"colorbar\": {\"outlinewidth\": 0, \"ticks\": \"\"}}, \"type\": \"scatter3d\"}], \"scattercarpet\": [{\"marker\": {\"colorbar\": {\"outlinewidth\": 0, \"ticks\": \"\"}}, \"type\": \"scattercarpet\"}], \"scattergeo\": [{\"marker\": {\"colorbar\": {\"outlinewidth\": 0, \"ticks\": \"\"}}, \"type\": \"scattergeo\"}], \"scattergl\": [{\"marker\": {\"colorbar\": {\"outlinewidth\": 0, \"ticks\": \"\"}}, \"type\": \"scattergl\"}], \"scattermapbox\": [{\"marker\": {\"colorbar\": {\"outlinewidth\": 0, \"ticks\": \"\"}}, \"type\": \"scattermapbox\"}], \"scatterpolar\": [{\"marker\": {\"colorbar\": {\"outlinewidth\": 0, \"ticks\": \"\"}}, \"type\": \"scatterpolar\"}], \"scatterpolargl\": [{\"marker\": {\"colorbar\": {\"outlinewidth\": 0, \"ticks\": \"\"}}, \"type\": \"scatterpolargl\"}], \"scatterternary\": [{\"marker\": {\"colorbar\": {\"outlinewidth\": 0, \"ticks\": \"\"}}, \"type\": \"scatterternary\"}], \"surface\": [{\"colorbar\": {\"outlinewidth\": 0, \"ticks\": \"\"}, \"colorscale\": [[0.0, \"#0d0887\"], [0.1111111111111111, \"#46039f\"], [0.2222222222222222, \"#7201a8\"], [0.3333333333333333, \"#9c179e\"], [0.4444444444444444, \"#bd3786\"], [0.5555555555555556, \"#d8576b\"], [0.6666666666666666, \"#ed7953\"], [0.7777777777777778, \"#fb9f3a\"], [0.8888888888888888, \"#fdca26\"], [1.0, \"#f0f921\"]], \"type\": \"surface\"}], \"table\": [{\"cells\": {\"fill\": {\"color\": \"#EBF0F8\"}, \"line\": {\"color\": \"white\"}}, \"header\": {\"fill\": {\"color\": \"#C8D4E3\"}, \"line\": {\"color\": \"white\"}}, \"type\": \"table\"}]}, \"layout\": {\"annotationdefaults\": {\"arrowcolor\": \"#2a3f5f\", \"arrowhead\": 0, \"arrowwidth\": 1}, \"coloraxis\": {\"colorbar\": {\"outlinewidth\": 0, \"ticks\": \"\"}}, \"colorscale\": {\"diverging\": [[0, \"#8e0152\"], [0.1, \"#c51b7d\"], [0.2, \"#de77ae\"], [0.3, \"#f1b6da\"], [0.4, \"#fde0ef\"], [0.5, \"#f7f7f7\"], [0.6, \"#e6f5d0\"], [0.7, \"#b8e186\"], [0.8, \"#7fbc41\"], [0.9, \"#4d9221\"], [1, \"#276419\"]], \"sequential\": [[0.0, \"#0d0887\"], [0.1111111111111111, \"#46039f\"], [0.2222222222222222, \"#7201a8\"], [0.3333333333333333, \"#9c179e\"], [0.4444444444444444, \"#bd3786\"], [0.5555555555555556, \"#d8576b\"], [0.6666666666666666, \"#ed7953\"], [0.7777777777777778, \"#fb9f3a\"], [0.8888888888888888, \"#fdca26\"], [1.0, \"#f0f921\"]], \"sequentialminus\": [[0.0, \"#0d0887\"], [0.1111111111111111, \"#46039f\"], [0.2222222222222222, \"#7201a8\"], [0.3333333333333333, \"#9c179e\"], [0.4444444444444444, \"#bd3786\"], [0.5555555555555556, \"#d8576b\"], [0.6666666666666666, \"#ed7953\"], [0.7777777777777778, \"#fb9f3a\"], [0.8888888888888888, \"#fdca26\"], [1.0, \"#f0f921\"]]}, \"colorway\": [\"#636efa\", \"#EF553B\", \"#00cc96\", \"#ab63fa\", \"#FFA15A\", \"#19d3f3\", \"#FF6692\", \"#B6E880\", \"#FF97FF\", \"#FECB52\"], \"font\": {\"color\": \"#2a3f5f\"}, \"geo\": {\"bgcolor\": \"white\", \"lakecolor\": \"white\", \"landcolor\": \"#E5ECF6\", \"showlakes\": true, \"showland\": true, \"subunitcolor\": \"white\"}, \"hoverlabel\": {\"align\": \"left\"}, \"hovermode\": \"closest\", \"mapbox\": {\"style\": \"light\"}, \"paper_bgcolor\": \"white\", \"plot_bgcolor\": \"#E5ECF6\", \"polar\": {\"angularaxis\": {\"gridcolor\": \"white\", \"linecolor\": \"white\", \"ticks\": \"\"}, \"bgcolor\": \"#E5ECF6\", \"radialaxis\": {\"gridcolor\": \"white\", \"linecolor\": \"white\", \"ticks\": \"\"}}, \"scene\": {\"xaxis\": {\"backgroundcolor\": \"#E5ECF6\", \"gridcolor\": \"white\", \"gridwidth\": 2, \"linecolor\": \"white\", \"showbackground\": true, \"ticks\": \"\", \"zerolinecolor\": \"white\"}, \"yaxis\": {\"backgroundcolor\": \"#E5ECF6\", \"gridcolor\": \"white\", \"gridwidth\": 2, \"linecolor\": \"white\", \"showbackground\": true, \"ticks\": \"\", \"zerolinecolor\": \"white\"}, \"zaxis\": {\"backgroundcolor\": \"#E5ECF6\", \"gridcolor\": \"white\", \"gridwidth\": 2, \"linecolor\": \"white\", \"showbackground\": true, \"ticks\": \"\", \"zerolinecolor\": \"white\"}}, \"shapedefaults\": {\"line\": {\"color\": \"#2a3f5f\"}}, \"ternary\": {\"aaxis\": {\"gridcolor\": \"white\", \"linecolor\": \"white\", \"ticks\": \"\"}, \"baxis\": {\"gridcolor\": \"white\", \"linecolor\": \"white\", \"ticks\": \"\"}, \"bgcolor\": \"#E5ECF6\", \"caxis\": {\"gridcolor\": \"white\", \"linecolor\": \"white\", \"ticks\": \"\"}}, \"title\": {\"x\": 0.05}, \"xaxis\": {\"automargin\": true, \"gridcolor\": \"white\", \"linecolor\": \"white\", \"ticks\": \"\", \"title\": {\"standoff\": 15}, \"zerolinecolor\": \"white\", \"zerolinewidth\": 2}, \"yaxis\": {\"automargin\": true, \"gridcolor\": \"white\", \"linecolor\": \"white\", \"ticks\": \"\", \"title\": {\"standoff\": 15}, \"zerolinecolor\": \"white\", \"zerolinewidth\": 2}}}, \"title\": {\"text\": \"Analise de cluster \"}, \"xaxis\": {\"anchor\": \"y\", \"domain\": [0.0, 1.0], \"title\": {\"text\": \"Colesterol\"}}, \"yaxis\": {\"anchor\": \"x\", \"domain\": [0.0, 1.0], \"title\": {\"text\": \"peso\"}}},\n",
              "                        {\"responsive\": true}\n",
              "                    ).then(function(){\n",
              "                            \n",
              "var gd = document.getElementById('d6034dee-29ae-4869-bad2-f700b5114d89');\n",
              "var x = new MutationObserver(function (mutations, observer) {{\n",
              "        var display = window.getComputedStyle(gd).display;\n",
              "        if (!display || display === 'none') {{\n",
              "            console.log([gd, 'removed!']);\n",
              "            Plotly.purge(gd);\n",
              "            observer.disconnect();\n",
              "        }}\n",
              "}});\n",
              "\n",
              "// Listen for the removal of the full notebook cells\n",
              "var notebookContainer = gd.closest('#notebook-container');\n",
              "if (notebookContainer) {{\n",
              "    x.observe(notebookContainer, {childList: true});\n",
              "}}\n",
              "\n",
              "// Listen for the clearing of the current output cell\n",
              "var outputEl = gd.closest('.output');\n",
              "if (outputEl) {{\n",
              "    x.observe(outputEl, {childList: true});\n",
              "}}\n",
              "\n",
              "                        })\n",
              "                };\n",
              "                \n",
              "            </script>\n",
              "        </div>\n",
              "</body>\n",
              "</html>"
            ]
          },
          "metadata": {}
        }
      ]
    },
    {
      "cell_type": "markdown",
      "metadata": {
        "id": "IAtw2nG6futI"
      },
      "source": [
        "#Criando funçoes para Gerar graficos"
      ]
    },
    {
      "cell_type": "code",
      "metadata": {
        "id": "CqlemAQcf2ae"
      },
      "source": [
        "def plotar_grafico(x,y,x_label,y_label):\n",
        "  grafico =px.scatter(x=x,y=y,color=base_completa['cluster'])\n",
        "  fig = go.Figure(grafico)\n",
        "\n",
        "  fig.update_layout(title='Analise de Clusters',xaxis_title= x_label,yaxis_title=y_label,)\n",
        "  fig.show() "
      ],
      "execution_count": null,
      "outputs": []
    },
    {
      "cell_type": "code",
      "metadata": {
        "colab": {
          "base_uri": "https://localhost:8080/",
          "height": 542
        },
        "id": "VO1O7EZHhk--",
        "outputId": "38c04cf5-bae1-43d7-9254-18d446f99581"
      },
      "source": [
        "plotar_grafico(base_completa['colesterol'],base_completa['peso'],'colesterol','peso')\n"
      ],
      "execution_count": null,
      "outputs": [
        {
          "output_type": "display_data",
          "data": {
            "text/html": [
              "<html>\n",
              "<head><meta charset=\"utf-8\" /></head>\n",
              "<body>\n",
              "    <div>\n",
              "            <script src=\"https://cdnjs.cloudflare.com/ajax/libs/mathjax/2.7.5/MathJax.js?config=TeX-AMS-MML_SVG\"></script><script type=\"text/javascript\">if (window.MathJax) {MathJax.Hub.Config({SVG: {font: \"STIX-Web\"}});}</script>\n",
              "                <script type=\"text/javascript\">window.PlotlyConfig = {MathJaxConfig: 'local'};</script>\n",
              "        <script src=\"https://cdn.plot.ly/plotly-latest.min.js\"></script>    \n",
              "            <div id=\"c4047fa1-59bd-42d5-9509-1f9e7d38c63c\" class=\"plotly-graph-div\" style=\"height:525px; width:100%;\"></div>\n",
              "            <script type=\"text/javascript\">\n",
              "                \n",
              "                    window.PLOTLYENV=window.PLOTLYENV || {};\n",
              "                    \n",
              "                if (document.getElementById(\"c4047fa1-59bd-42d5-9509-1f9e7d38c63c\")) {\n",
              "                    Plotly.newPlot(\n",
              "                        'c4047fa1-59bd-42d5-9509-1f9e7d38c63c',\n",
              "                        [{\"hoverlabel\": {\"namelength\": 0}, \"hovertemplate\": \"x=%{x}<br>y=%{y}<br>color=%{marker.color}\", \"legendgroup\": \"\", \"marker\": {\"color\": [3, 3, 3, 1, 1, 0, 3, 2, 0, 0, 3, 0, 3, 2, 1, 0, 3, 2, 2, 1, 2, 3, 0, 1, 3, 0, 3, 0, 0, 2, 2, 1, 2, 3, 0, 3, 0, 3, 1, 2, 0, 2, 3, 0, 0, 1, 0, 1, 1, 3, 3, 2, 0, 2, 3, 2, 2, 0, 1, 2, 3, 2, 3, 0, 1, 2, 3, 2, 0, 1, 1, 1, 1, 2, 0, 3, 1, 0, 3, 1, 1, 3, 2, 1, 3, 3, 2, 1, 1, 3, 2, 0, 3, 3, 3, 1, 1, 2, 3, 3, 2, 0, 3, 1, 0, 0, 3, 1, 3, 0, 1, 0, 1, 3, 0, 3, 1, 1, 1, 1, 0, 3, 2, 0, 0, 3, 0, 3, 2, 1, 0, 3, 0, 2, 1, 2, 3, 0, 1, 3, 0, 3, 0, 0, 2, 0, 1, 2, 3, 0, 3, 0, 3, 1, 2, 0, 2, 1, 0, 0, 1, 0, 1, 1, 3, 1, 2, 0, 2, 3, 2, 2, 0, 1, 2, 3, 2, 3, 0, 1, 2, 3, 2, 0, 1, 1, 1, 1, 2, 0, 3, 1, 0, 3, 1, 1, 3, 0, 1, 3, 1, 2, 2, 1, 3, 2, 0, 3, 3, 3, 1, 1, 2, 3, 3, 2, 0, 3, 1, 0, 0, 3, 1, 3, 0, 1, 0, 1, 3, 0, 3, 1, 1, 2, 1, 0, 3, 2, 0, 0, 3, 0, 3, 2, 1, 0, 3, 0, 2, 1, 2, 3, 0, 1, 3, 0, 3, 0, 0, 2, 0, 1, 2, 3, 0, 3, 0, 3, 1, 0, 0, 2, 1, 0, 0, 1, 0, 1, 1, 3, 1, 0, 0, 2, 3, 2, 2, 0, 1, 2, 3, 2, 3, 0, 1, 2, 3, 2, 0, 1, 1, 1, 1, 2, 0, 3, 1, 0, 3, 1, 1, 3, 2, 1, 3, 1, 2, 2, 1, 3, 2, 0, 3, 3, 3, 1, 1, 2, 3, 3, 2, 0, 3, 1, 0, 0, 3, 2, 3, 0, 1, 0, 1, 3, 0, 3, 1, 1, 2, 1, 0, 3, 2, 0, 0, 3, 0, 3, 2, 1, 0, 3, 0, 2, 1, 2, 3, 0, 2, 3, 0, 3, 0, 0, 2, 0, 1, 2, 3, 0, 3, 0, 3, 1, 0, 0, 2, 1, 0, 0, 1, 0, 1, 1, 3, 1, 2, 0, 2, 3, 2, 2, 0, 1, 2, 3, 2, 3, 0, 1, 2, 3, 2, 0, 1, 1, 1, 1, 2, 0, 3, 1, 0, 3, 1, 1, 3, 0, 1, 3, 1, 2, 1, 1, 3, 2, 0, 3, 3, 3, 1, 1, 2, 3, 3, 2, 0, 3, 1, 0, 0, 3, 2, 3, 0, 1, 0, 1, 3, 0, 3, 3, 1, 2, 1, 0, 1, 2, 0, 0, 3, 0, 3, 2, 1, 0, 3, 0, 2, 1, 2, 3, 0, 2, 3, 0, 3, 0, 0, 2, 0, 2, 2, 3, 0, 3, 0, 3, 1, 0, 0, 2, 1, 0, 0, 1, 0, 1, 1, 3, 1, 2, 0, 2, 3, 2, 2, 0, 1, 2, 3, 2, 3, 0, 1, 2, 3, 2, 0, 2, 1, 1, 1, 2, 0, 3, 1, 0, 3, 1, 1, 3, 0, 1, 3, 1, 2], \"coloraxis\": \"coloraxis\", \"symbol\": \"circle\"}, \"mode\": \"markers\", \"name\": \"\", \"showlegend\": false, \"type\": \"scatter\", \"x\": [111, 135, 136, 167, 158, 227, 131, 176, 223, 221, 116, 222, 102, 192, 152, 213, 125, 204, 189, 163, 189, 122, 228, 168, 102, 218, 123, 222, 208, 183, 204, 167, 188, 126, 213, 122, 225, 105, 155, 203, 225, 177, 139, 224, 207, 158, 218, 164, 154, 118, 138, 199, 219, 183, 128, 197, 196, 208, 152, 175, 129, 185, 107, 211, 167, 185, 110, 194, 221, 166, 143, 163, 158, 191, 216, 106, 146, 220, 131, 147, 141, 130, 204, 152, 111, 139, 172, 168, 148, 123, 189, 220, 120, 106, 105, 157, 149, 185, 106, 115, 177, 230, 108, 140, 214, 216, 130, 169, 110, 209, 162, 214, 145, 116, 209, 116, 139, 143, 168, 158, 232, 136, 180, 228, 222, 117, 224, 104, 195, 156, 213, 133, 208, 195, 163, 195, 124, 231, 172, 104, 221, 128, 222, 214, 184, 204, 171, 195, 132, 214, 123, 233, 107, 162, 204, 227, 185, 142, 225, 212, 161, 220, 168, 155, 125, 144, 201, 222, 189, 132, 204, 201, 211, 156, 179, 129, 185, 107, 213, 172, 193, 114, 202, 222, 168, 146, 170, 165, 196, 224, 108, 149, 224, 136, 152, 143, 135, 211, 156, 115, 143, 179, 173, 148, 127, 194, 225, 127, 106, 112, 164, 151, 191, 110, 116, 180, 235, 108, 141, 219, 219, 138, 169, 116, 212, 162, 220, 151, 119, 212, 111, 142, 138, 172, 158, 228, 134, 181, 231, 223, 121, 222, 102, 195, 156, 214, 132, 204, 190, 167, 195, 127, 235, 171, 110, 221, 128, 226, 208, 191, 205, 173, 191, 128, 220, 126, 232, 108, 159, 211, 232, 182, 145, 224, 209, 160, 219, 170, 161, 122, 141, 204, 226, 187, 129, 199, 199, 214, 159, 176, 129, 187, 109, 212, 170, 191, 116, 202, 226, 166, 151, 170, 166, 193, 218, 109, 152, 220, 133, 152, 142, 131, 204, 153, 114, 144, 172, 176, 150, 129, 190, 226, 128, 106, 107, 159, 157, 192, 110, 115, 183, 233, 112, 146, 222, 216, 134, 174, 114, 211, 167, 214, 145, 120, 217, 113, 141, 140, 171, 163, 232, 131, 184, 225, 223, 121, 223, 105, 197, 160, 218, 131, 211, 194, 169, 189, 128, 228, 169, 108, 219, 124, 224, 214, 190, 205, 167, 190, 128, 217, 126, 228, 105, 162, 211, 227, 178, 146, 227, 208, 163, 225, 167, 162, 125, 144, 199, 226, 183, 136, 199, 204, 215, 155, 179, 133, 186, 111, 219, 173, 185, 118, 199, 226, 169, 144, 166, 166, 198, 222, 110, 154, 226, 135, 151, 146, 133, 205, 154, 116, 145, 174, 168, 156, 124, 196, 227, 122, 106, 110, 158, 154, 190, 110, 120, 180, 232, 110, 142, 222, 218, 138, 176, 115, 211, 168, 216, 147, 124, 215, 117, 139, 138, 171, 158, 232, 139, 178, 224, 224, 116, 223, 109, 193, 155, 221, 130, 212, 190, 169, 191, 122, 234, 175, 108, 220, 126, 227, 216, 188, 205, 172, 192, 129, 219, 127, 228, 105, 159, 205, 228, 178, 139, 232, 212, 162, 226, 171, 159, 120, 143, 200, 221, 184, 134, 200, 201, 210, 159, 178, 137, 190, 110, 213, 170, 193, 113, 196, 222, 174, 143, 169, 165, 194, 217, 113, 150, 223, 133, 149, 149, 130, 207, 157, 115, 147, 176], \"xaxis\": \"x\", \"y\": [102, 115, 115, 140, 130, 198, 114, 145, 191, 186, 104, 188, 96, 156, 125, 178, 109, 168, 152, 133, 153, 107, 199, 140, 95, 183, 108, 190, 174, 149, 169, 138, 151, 109, 178, 106, 195, 96, 129, 166, 197, 148, 117, 193, 170, 130, 183, 134, 128, 105, 115, 166, 183, 149, 110, 164, 157, 170, 124, 145, 113, 150, 100, 178, 139, 150, 101, 157, 187, 137, 121, 132, 130, 156, 180, 100, 122, 185, 113, 123, 119, 113, 168, 126, 102, 116, 144, 140, 124, 108, 154, 185, 106, 97, 96, 129, 124, 149, 97, 102, 146, 199, 100, 118, 179, 179, 113, 142, 101, 174, 131, 179, 122, 105, 176, 103, 120, 118, 143, 134, 203, 116, 150, 192, 187, 107, 192, 97, 157, 128, 183, 112, 173, 156, 137, 156, 112, 203, 141, 97, 186, 113, 195, 175, 154, 173, 141, 152, 114, 181, 111, 200, 100, 134, 167, 198, 151, 121, 196, 171, 135, 186, 138, 133, 107, 120, 168, 184, 154, 115, 168, 161, 171, 129, 150, 118, 154, 103, 180, 141, 152, 104, 159, 191, 142, 123, 135, 132, 158, 181, 105, 126, 186, 116, 124, 122, 115, 173, 128, 103, 120, 146, 145, 125, 109, 156, 187, 110, 100, 97, 133, 128, 154, 100, 104, 149, 203, 104, 119, 181, 180, 116, 144, 102, 176, 135, 184, 124, 110, 180, 103, 117, 120, 145, 133, 201, 117, 146, 195, 188, 108, 191, 100, 158, 127, 181, 113, 171, 153, 137, 154, 112, 201, 141, 100, 185, 111, 191, 176, 150, 171, 140, 153, 111, 180, 107, 197, 101, 132, 168, 200, 150, 119, 197, 172, 134, 185, 135, 132, 109, 116, 170, 187, 154, 111, 169, 161, 174, 125, 148, 117, 154, 104, 183, 142, 155, 105, 160, 191, 140, 123, 136, 132, 158, 182, 104, 126, 188, 118, 127, 123, 118, 169, 128, 106, 119, 147, 141, 125, 109, 158, 190, 110, 99, 98, 134, 129, 154, 100, 107, 149, 203, 101, 119, 182, 181, 115, 145, 102, 176, 134, 183, 123, 108, 177, 104, 117, 117, 145, 134, 199, 115, 149, 192, 188, 107, 190, 98, 158, 128, 180, 110, 172, 157, 137, 158, 110, 203, 145, 96, 186, 110, 194, 177, 152, 172, 140, 154, 113, 179, 111, 196, 101, 131, 171, 199, 151, 121, 196, 174, 135, 184, 137, 129, 108, 116, 168, 184, 151, 114, 167, 160, 175, 127, 146, 118, 151, 105, 180, 140, 155, 106, 160, 192, 138, 122, 135, 132, 158, 184, 101, 126, 188, 118, 127, 123, 117, 172, 127, 104, 121, 148, 141, 128, 113, 155, 189, 108, 98, 100, 134, 125, 151, 100, 107, 147, 200, 101, 120, 181, 182, 117, 145, 106, 179, 134, 180, 126, 110, 180, 103, 116, 119, 144, 133, 199, 115, 150, 192, 188, 109, 189, 101, 159, 128, 182, 111, 171, 154, 134, 157, 112, 203, 142, 97, 187, 111, 194, 176, 153, 171, 142, 153, 113, 183, 108, 200, 99, 131, 171, 200, 152, 119, 196, 173, 132, 185, 138, 132, 110, 119, 167, 188, 151, 112, 166, 158, 172, 127, 150, 115, 151, 103, 181, 141, 152, 105, 162, 190, 141, 122, 136, 131, 157, 181, 103, 127, 189, 114, 125, 123, 116, 172, 129, 107, 117, 148], \"yaxis\": \"y\"}],\n",
              "                        {\"coloraxis\": {\"colorbar\": {\"title\": {\"text\": \"color\"}}, \"colorscale\": [[0.0, \"#0d0887\"], [0.1111111111111111, \"#46039f\"], [0.2222222222222222, \"#7201a8\"], [0.3333333333333333, \"#9c179e\"], [0.4444444444444444, \"#bd3786\"], [0.5555555555555556, \"#d8576b\"], [0.6666666666666666, \"#ed7953\"], [0.7777777777777778, \"#fb9f3a\"], [0.8888888888888888, \"#fdca26\"], [1.0, \"#f0f921\"]]}, \"legend\": {\"tracegroupgap\": 0}, \"margin\": {\"t\": 60}, \"template\": {\"data\": {\"bar\": [{\"error_x\": {\"color\": \"#2a3f5f\"}, \"error_y\": {\"color\": \"#2a3f5f\"}, \"marker\": {\"line\": {\"color\": \"#E5ECF6\", \"width\": 0.5}}, \"type\": \"bar\"}], \"barpolar\": [{\"marker\": {\"line\": {\"color\": \"#E5ECF6\", \"width\": 0.5}}, \"type\": \"barpolar\"}], \"carpet\": [{\"aaxis\": {\"endlinecolor\": \"#2a3f5f\", \"gridcolor\": \"white\", \"linecolor\": \"white\", \"minorgridcolor\": \"white\", \"startlinecolor\": \"#2a3f5f\"}, \"baxis\": {\"endlinecolor\": \"#2a3f5f\", \"gridcolor\": \"white\", \"linecolor\": \"white\", \"minorgridcolor\": \"white\", \"startlinecolor\": \"#2a3f5f\"}, \"type\": \"carpet\"}], \"choropleth\": [{\"colorbar\": {\"outlinewidth\": 0, \"ticks\": \"\"}, \"type\": \"choropleth\"}], \"contour\": [{\"colorbar\": {\"outlinewidth\": 0, \"ticks\": \"\"}, \"colorscale\": [[0.0, \"#0d0887\"], [0.1111111111111111, \"#46039f\"], [0.2222222222222222, \"#7201a8\"], [0.3333333333333333, \"#9c179e\"], [0.4444444444444444, \"#bd3786\"], [0.5555555555555556, \"#d8576b\"], [0.6666666666666666, \"#ed7953\"], [0.7777777777777778, \"#fb9f3a\"], [0.8888888888888888, \"#fdca26\"], [1.0, \"#f0f921\"]], \"type\": \"contour\"}], \"contourcarpet\": [{\"colorbar\": {\"outlinewidth\": 0, \"ticks\": \"\"}, \"type\": \"contourcarpet\"}], \"heatmap\": [{\"colorbar\": {\"outlinewidth\": 0, \"ticks\": \"\"}, \"colorscale\": [[0.0, \"#0d0887\"], [0.1111111111111111, \"#46039f\"], [0.2222222222222222, \"#7201a8\"], [0.3333333333333333, \"#9c179e\"], [0.4444444444444444, \"#bd3786\"], [0.5555555555555556, \"#d8576b\"], [0.6666666666666666, \"#ed7953\"], [0.7777777777777778, \"#fb9f3a\"], [0.8888888888888888, \"#fdca26\"], [1.0, \"#f0f921\"]], \"type\": \"heatmap\"}], \"heatmapgl\": [{\"colorbar\": {\"outlinewidth\": 0, \"ticks\": \"\"}, \"colorscale\": [[0.0, \"#0d0887\"], [0.1111111111111111, \"#46039f\"], [0.2222222222222222, \"#7201a8\"], [0.3333333333333333, \"#9c179e\"], [0.4444444444444444, \"#bd3786\"], [0.5555555555555556, \"#d8576b\"], [0.6666666666666666, \"#ed7953\"], [0.7777777777777778, \"#fb9f3a\"], [0.8888888888888888, \"#fdca26\"], [1.0, \"#f0f921\"]], \"type\": \"heatmapgl\"}], \"histogram\": [{\"marker\": {\"colorbar\": {\"outlinewidth\": 0, \"ticks\": \"\"}}, \"type\": \"histogram\"}], \"histogram2d\": [{\"colorbar\": {\"outlinewidth\": 0, \"ticks\": \"\"}, \"colorscale\": [[0.0, \"#0d0887\"], [0.1111111111111111, \"#46039f\"], [0.2222222222222222, \"#7201a8\"], [0.3333333333333333, \"#9c179e\"], [0.4444444444444444, \"#bd3786\"], [0.5555555555555556, \"#d8576b\"], [0.6666666666666666, \"#ed7953\"], [0.7777777777777778, \"#fb9f3a\"], [0.8888888888888888, \"#fdca26\"], [1.0, \"#f0f921\"]], \"type\": \"histogram2d\"}], \"histogram2dcontour\": [{\"colorbar\": {\"outlinewidth\": 0, \"ticks\": \"\"}, \"colorscale\": [[0.0, \"#0d0887\"], [0.1111111111111111, \"#46039f\"], [0.2222222222222222, \"#7201a8\"], [0.3333333333333333, \"#9c179e\"], [0.4444444444444444, \"#bd3786\"], [0.5555555555555556, \"#d8576b\"], [0.6666666666666666, \"#ed7953\"], [0.7777777777777778, \"#fb9f3a\"], [0.8888888888888888, \"#fdca26\"], [1.0, \"#f0f921\"]], \"type\": \"histogram2dcontour\"}], \"mesh3d\": [{\"colorbar\": {\"outlinewidth\": 0, \"ticks\": \"\"}, \"type\": \"mesh3d\"}], \"parcoords\": [{\"line\": {\"colorbar\": {\"outlinewidth\": 0, \"ticks\": \"\"}}, \"type\": \"parcoords\"}], \"pie\": [{\"automargin\": true, \"type\": \"pie\"}], \"scatter\": [{\"marker\": {\"colorbar\": {\"outlinewidth\": 0, \"ticks\": \"\"}}, \"type\": \"scatter\"}], \"scatter3d\": [{\"line\": {\"colorbar\": {\"outlinewidth\": 0, \"ticks\": \"\"}}, \"marker\": {\"colorbar\": {\"outlinewidth\": 0, \"ticks\": \"\"}}, \"type\": \"scatter3d\"}], \"scattercarpet\": [{\"marker\": {\"colorbar\": {\"outlinewidth\": 0, \"ticks\": \"\"}}, \"type\": \"scattercarpet\"}], \"scattergeo\": [{\"marker\": {\"colorbar\": {\"outlinewidth\": 0, \"ticks\": \"\"}}, \"type\": \"scattergeo\"}], \"scattergl\": [{\"marker\": {\"colorbar\": {\"outlinewidth\": 0, \"ticks\": \"\"}}, \"type\": \"scattergl\"}], \"scattermapbox\": [{\"marker\": {\"colorbar\": {\"outlinewidth\": 0, \"ticks\": \"\"}}, \"type\": \"scattermapbox\"}], \"scatterpolar\": [{\"marker\": {\"colorbar\": {\"outlinewidth\": 0, \"ticks\": \"\"}}, \"type\": \"scatterpolar\"}], \"scatterpolargl\": [{\"marker\": {\"colorbar\": {\"outlinewidth\": 0, \"ticks\": \"\"}}, \"type\": \"scatterpolargl\"}], \"scatterternary\": [{\"marker\": {\"colorbar\": {\"outlinewidth\": 0, \"ticks\": \"\"}}, \"type\": \"scatterternary\"}], \"surface\": [{\"colorbar\": {\"outlinewidth\": 0, \"ticks\": \"\"}, \"colorscale\": [[0.0, \"#0d0887\"], [0.1111111111111111, \"#46039f\"], [0.2222222222222222, \"#7201a8\"], [0.3333333333333333, \"#9c179e\"], [0.4444444444444444, \"#bd3786\"], [0.5555555555555556, \"#d8576b\"], [0.6666666666666666, \"#ed7953\"], [0.7777777777777778, \"#fb9f3a\"], [0.8888888888888888, \"#fdca26\"], [1.0, \"#f0f921\"]], \"type\": \"surface\"}], \"table\": [{\"cells\": {\"fill\": {\"color\": \"#EBF0F8\"}, \"line\": {\"color\": \"white\"}}, \"header\": {\"fill\": {\"color\": \"#C8D4E3\"}, \"line\": {\"color\": \"white\"}}, \"type\": \"table\"}]}, \"layout\": {\"annotationdefaults\": {\"arrowcolor\": \"#2a3f5f\", \"arrowhead\": 0, \"arrowwidth\": 1}, \"coloraxis\": {\"colorbar\": {\"outlinewidth\": 0, \"ticks\": \"\"}}, \"colorscale\": {\"diverging\": [[0, \"#8e0152\"], [0.1, \"#c51b7d\"], [0.2, \"#de77ae\"], [0.3, \"#f1b6da\"], [0.4, \"#fde0ef\"], [0.5, \"#f7f7f7\"], [0.6, \"#e6f5d0\"], [0.7, \"#b8e186\"], [0.8, \"#7fbc41\"], [0.9, \"#4d9221\"], [1, \"#276419\"]], \"sequential\": [[0.0, \"#0d0887\"], [0.1111111111111111, \"#46039f\"], [0.2222222222222222, \"#7201a8\"], [0.3333333333333333, \"#9c179e\"], [0.4444444444444444, \"#bd3786\"], [0.5555555555555556, \"#d8576b\"], [0.6666666666666666, \"#ed7953\"], [0.7777777777777778, \"#fb9f3a\"], [0.8888888888888888, \"#fdca26\"], [1.0, \"#f0f921\"]], \"sequentialminus\": [[0.0, \"#0d0887\"], [0.1111111111111111, \"#46039f\"], [0.2222222222222222, \"#7201a8\"], [0.3333333333333333, \"#9c179e\"], [0.4444444444444444, \"#bd3786\"], [0.5555555555555556, \"#d8576b\"], [0.6666666666666666, \"#ed7953\"], [0.7777777777777778, \"#fb9f3a\"], [0.8888888888888888, \"#fdca26\"], [1.0, \"#f0f921\"]]}, \"colorway\": [\"#636efa\", \"#EF553B\", \"#00cc96\", \"#ab63fa\", \"#FFA15A\", \"#19d3f3\", \"#FF6692\", \"#B6E880\", \"#FF97FF\", \"#FECB52\"], \"font\": {\"color\": \"#2a3f5f\"}, \"geo\": {\"bgcolor\": \"white\", \"lakecolor\": \"white\", \"landcolor\": \"#E5ECF6\", \"showlakes\": true, \"showland\": true, \"subunitcolor\": \"white\"}, \"hoverlabel\": {\"align\": \"left\"}, \"hovermode\": \"closest\", \"mapbox\": {\"style\": \"light\"}, \"paper_bgcolor\": \"white\", \"plot_bgcolor\": \"#E5ECF6\", \"polar\": {\"angularaxis\": {\"gridcolor\": \"white\", \"linecolor\": \"white\", \"ticks\": \"\"}, \"bgcolor\": \"#E5ECF6\", \"radialaxis\": {\"gridcolor\": \"white\", \"linecolor\": \"white\", \"ticks\": \"\"}}, \"scene\": {\"xaxis\": {\"backgroundcolor\": \"#E5ECF6\", \"gridcolor\": \"white\", \"gridwidth\": 2, \"linecolor\": \"white\", \"showbackground\": true, \"ticks\": \"\", \"zerolinecolor\": \"white\"}, \"yaxis\": {\"backgroundcolor\": \"#E5ECF6\", \"gridcolor\": \"white\", \"gridwidth\": 2, \"linecolor\": \"white\", \"showbackground\": true, \"ticks\": \"\", \"zerolinecolor\": \"white\"}, \"zaxis\": {\"backgroundcolor\": \"#E5ECF6\", \"gridcolor\": \"white\", \"gridwidth\": 2, \"linecolor\": \"white\", \"showbackground\": true, \"ticks\": \"\", \"zerolinecolor\": \"white\"}}, \"shapedefaults\": {\"line\": {\"color\": \"#2a3f5f\"}}, \"ternary\": {\"aaxis\": {\"gridcolor\": \"white\", \"linecolor\": \"white\", \"ticks\": \"\"}, \"baxis\": {\"gridcolor\": \"white\", \"linecolor\": \"white\", \"ticks\": \"\"}, \"bgcolor\": \"#E5ECF6\", \"caxis\": {\"gridcolor\": \"white\", \"linecolor\": \"white\", \"ticks\": \"\"}}, \"title\": {\"x\": 0.05}, \"xaxis\": {\"automargin\": true, \"gridcolor\": \"white\", \"linecolor\": \"white\", \"ticks\": \"\", \"title\": {\"standoff\": 15}, \"zerolinecolor\": \"white\", \"zerolinewidth\": 2}, \"yaxis\": {\"automargin\": true, \"gridcolor\": \"white\", \"linecolor\": \"white\", \"ticks\": \"\", \"title\": {\"standoff\": 15}, \"zerolinecolor\": \"white\", \"zerolinewidth\": 2}}}, \"title\": {\"text\": \"Analise de Clusters\"}, \"xaxis\": {\"anchor\": \"y\", \"domain\": [0.0, 1.0], \"title\": {\"text\": \"colesterol\"}}, \"yaxis\": {\"anchor\": \"x\", \"domain\": [0.0, 1.0], \"title\": {\"text\": \"peso\"}}},\n",
              "                        {\"responsive\": true}\n",
              "                    ).then(function(){\n",
              "                            \n",
              "var gd = document.getElementById('c4047fa1-59bd-42d5-9509-1f9e7d38c63c');\n",
              "var x = new MutationObserver(function (mutations, observer) {{\n",
              "        var display = window.getComputedStyle(gd).display;\n",
              "        if (!display || display === 'none') {{\n",
              "            console.log([gd, 'removed!']);\n",
              "            Plotly.purge(gd);\n",
              "            observer.disconnect();\n",
              "        }}\n",
              "}});\n",
              "\n",
              "// Listen for the removal of the full notebook cells\n",
              "var notebookContainer = gd.closest('#notebook-container');\n",
              "if (notebookContainer) {{\n",
              "    x.observe(notebookContainer, {childList: true});\n",
              "}}\n",
              "\n",
              "// Listen for the clearing of the current output cell\n",
              "var outputEl = gd.closest('.output');\n",
              "if (outputEl) {{\n",
              "    x.observe(outputEl, {childList: true});\n",
              "}}\n",
              "\n",
              "                        })\n",
              "                };\n",
              "                \n",
              "            </script>\n",
              "        </div>\n",
              "</body>\n",
              "</html>"
            ]
          },
          "metadata": {}
        }
      ]
    },
    {
      "cell_type": "code",
      "metadata": {
        "colab": {
          "base_uri": "https://localhost:8080/",
          "height": 542
        },
        "id": "lcytgafGir4C",
        "outputId": "b584eb98-739e-470b-abc6-ed3468951b09"
      },
      "source": [
        "plotar_grafico(base_completa['peso'],base_completa['colesterol'],'peso','colesterol')"
      ],
      "execution_count": null,
      "outputs": [
        {
          "output_type": "display_data",
          "data": {
            "text/html": [
              "<html>\n",
              "<head><meta charset=\"utf-8\" /></head>\n",
              "<body>\n",
              "    <div>\n",
              "            <script src=\"https://cdnjs.cloudflare.com/ajax/libs/mathjax/2.7.5/MathJax.js?config=TeX-AMS-MML_SVG\"></script><script type=\"text/javascript\">if (window.MathJax) {MathJax.Hub.Config({SVG: {font: \"STIX-Web\"}});}</script>\n",
              "                <script type=\"text/javascript\">window.PlotlyConfig = {MathJaxConfig: 'local'};</script>\n",
              "        <script src=\"https://cdn.plot.ly/plotly-latest.min.js\"></script>    \n",
              "            <div id=\"a6df825b-3918-44aa-84e3-a2745c4b7663\" class=\"plotly-graph-div\" style=\"height:525px; width:100%;\"></div>\n",
              "            <script type=\"text/javascript\">\n",
              "                \n",
              "                    window.PLOTLYENV=window.PLOTLYENV || {};\n",
              "                    \n",
              "                if (document.getElementById(\"a6df825b-3918-44aa-84e3-a2745c4b7663\")) {\n",
              "                    Plotly.newPlot(\n",
              "                        'a6df825b-3918-44aa-84e3-a2745c4b7663',\n",
              "                        [{\"hoverlabel\": {\"namelength\": 0}, \"hovertemplate\": \"x=%{x}<br>y=%{y}<br>color=%{marker.color}\", \"legendgroup\": \"\", \"marker\": {\"color\": [3, 3, 3, 1, 1, 0, 3, 2, 0, 0, 3, 0, 3, 2, 1, 0, 3, 2, 2, 1, 2, 3, 0, 1, 3, 0, 3, 0, 0, 2, 2, 1, 2, 3, 0, 3, 0, 3, 1, 2, 0, 2, 3, 0, 0, 1, 0, 1, 1, 3, 3, 2, 0, 2, 3, 2, 2, 0, 1, 2, 3, 2, 3, 0, 1, 2, 3, 2, 0, 1, 1, 1, 1, 2, 0, 3, 1, 0, 3, 1, 1, 3, 2, 1, 3, 3, 2, 1, 1, 3, 2, 0, 3, 3, 3, 1, 1, 2, 3, 3, 2, 0, 3, 1, 0, 0, 3, 1, 3, 0, 1, 0, 1, 3, 0, 3, 1, 1, 1, 1, 0, 3, 2, 0, 0, 3, 0, 3, 2, 1, 0, 3, 0, 2, 1, 2, 3, 0, 1, 3, 0, 3, 0, 0, 2, 0, 1, 2, 3, 0, 3, 0, 3, 1, 2, 0, 2, 1, 0, 0, 1, 0, 1, 1, 3, 1, 2, 0, 2, 3, 2, 2, 0, 1, 2, 3, 2, 3, 0, 1, 2, 3, 2, 0, 1, 1, 1, 1, 2, 0, 3, 1, 0, 3, 1, 1, 3, 0, 1, 3, 1, 2, 2, 1, 3, 2, 0, 3, 3, 3, 1, 1, 2, 3, 3, 2, 0, 3, 1, 0, 0, 3, 1, 3, 0, 1, 0, 1, 3, 0, 3, 1, 1, 2, 1, 0, 3, 2, 0, 0, 3, 0, 3, 2, 1, 0, 3, 0, 2, 1, 2, 3, 0, 1, 3, 0, 3, 0, 0, 2, 0, 1, 2, 3, 0, 3, 0, 3, 1, 0, 0, 2, 1, 0, 0, 1, 0, 1, 1, 3, 1, 0, 0, 2, 3, 2, 2, 0, 1, 2, 3, 2, 3, 0, 1, 2, 3, 2, 0, 1, 1, 1, 1, 2, 0, 3, 1, 0, 3, 1, 1, 3, 2, 1, 3, 1, 2, 2, 1, 3, 2, 0, 3, 3, 3, 1, 1, 2, 3, 3, 2, 0, 3, 1, 0, 0, 3, 2, 3, 0, 1, 0, 1, 3, 0, 3, 1, 1, 2, 1, 0, 3, 2, 0, 0, 3, 0, 3, 2, 1, 0, 3, 0, 2, 1, 2, 3, 0, 2, 3, 0, 3, 0, 0, 2, 0, 1, 2, 3, 0, 3, 0, 3, 1, 0, 0, 2, 1, 0, 0, 1, 0, 1, 1, 3, 1, 2, 0, 2, 3, 2, 2, 0, 1, 2, 3, 2, 3, 0, 1, 2, 3, 2, 0, 1, 1, 1, 1, 2, 0, 3, 1, 0, 3, 1, 1, 3, 0, 1, 3, 1, 2, 1, 1, 3, 2, 0, 3, 3, 3, 1, 1, 2, 3, 3, 2, 0, 3, 1, 0, 0, 3, 2, 3, 0, 1, 0, 1, 3, 0, 3, 3, 1, 2, 1, 0, 1, 2, 0, 0, 3, 0, 3, 2, 1, 0, 3, 0, 2, 1, 2, 3, 0, 2, 3, 0, 3, 0, 0, 2, 0, 2, 2, 3, 0, 3, 0, 3, 1, 0, 0, 2, 1, 0, 0, 1, 0, 1, 1, 3, 1, 2, 0, 2, 3, 2, 2, 0, 1, 2, 3, 2, 3, 0, 1, 2, 3, 2, 0, 2, 1, 1, 1, 2, 0, 3, 1, 0, 3, 1, 1, 3, 0, 1, 3, 1, 2], \"coloraxis\": \"coloraxis\", \"symbol\": \"circle\"}, \"mode\": \"markers\", \"name\": \"\", \"showlegend\": false, \"type\": \"scatter\", \"x\": [102, 115, 115, 140, 130, 198, 114, 145, 191, 186, 104, 188, 96, 156, 125, 178, 109, 168, 152, 133, 153, 107, 199, 140, 95, 183, 108, 190, 174, 149, 169, 138, 151, 109, 178, 106, 195, 96, 129, 166, 197, 148, 117, 193, 170, 130, 183, 134, 128, 105, 115, 166, 183, 149, 110, 164, 157, 170, 124, 145, 113, 150, 100, 178, 139, 150, 101, 157, 187, 137, 121, 132, 130, 156, 180, 100, 122, 185, 113, 123, 119, 113, 168, 126, 102, 116, 144, 140, 124, 108, 154, 185, 106, 97, 96, 129, 124, 149, 97, 102, 146, 199, 100, 118, 179, 179, 113, 142, 101, 174, 131, 179, 122, 105, 176, 103, 120, 118, 143, 134, 203, 116, 150, 192, 187, 107, 192, 97, 157, 128, 183, 112, 173, 156, 137, 156, 112, 203, 141, 97, 186, 113, 195, 175, 154, 173, 141, 152, 114, 181, 111, 200, 100, 134, 167, 198, 151, 121, 196, 171, 135, 186, 138, 133, 107, 120, 168, 184, 154, 115, 168, 161, 171, 129, 150, 118, 154, 103, 180, 141, 152, 104, 159, 191, 142, 123, 135, 132, 158, 181, 105, 126, 186, 116, 124, 122, 115, 173, 128, 103, 120, 146, 145, 125, 109, 156, 187, 110, 100, 97, 133, 128, 154, 100, 104, 149, 203, 104, 119, 181, 180, 116, 144, 102, 176, 135, 184, 124, 110, 180, 103, 117, 120, 145, 133, 201, 117, 146, 195, 188, 108, 191, 100, 158, 127, 181, 113, 171, 153, 137, 154, 112, 201, 141, 100, 185, 111, 191, 176, 150, 171, 140, 153, 111, 180, 107, 197, 101, 132, 168, 200, 150, 119, 197, 172, 134, 185, 135, 132, 109, 116, 170, 187, 154, 111, 169, 161, 174, 125, 148, 117, 154, 104, 183, 142, 155, 105, 160, 191, 140, 123, 136, 132, 158, 182, 104, 126, 188, 118, 127, 123, 118, 169, 128, 106, 119, 147, 141, 125, 109, 158, 190, 110, 99, 98, 134, 129, 154, 100, 107, 149, 203, 101, 119, 182, 181, 115, 145, 102, 176, 134, 183, 123, 108, 177, 104, 117, 117, 145, 134, 199, 115, 149, 192, 188, 107, 190, 98, 158, 128, 180, 110, 172, 157, 137, 158, 110, 203, 145, 96, 186, 110, 194, 177, 152, 172, 140, 154, 113, 179, 111, 196, 101, 131, 171, 199, 151, 121, 196, 174, 135, 184, 137, 129, 108, 116, 168, 184, 151, 114, 167, 160, 175, 127, 146, 118, 151, 105, 180, 140, 155, 106, 160, 192, 138, 122, 135, 132, 158, 184, 101, 126, 188, 118, 127, 123, 117, 172, 127, 104, 121, 148, 141, 128, 113, 155, 189, 108, 98, 100, 134, 125, 151, 100, 107, 147, 200, 101, 120, 181, 182, 117, 145, 106, 179, 134, 180, 126, 110, 180, 103, 116, 119, 144, 133, 199, 115, 150, 192, 188, 109, 189, 101, 159, 128, 182, 111, 171, 154, 134, 157, 112, 203, 142, 97, 187, 111, 194, 176, 153, 171, 142, 153, 113, 183, 108, 200, 99, 131, 171, 200, 152, 119, 196, 173, 132, 185, 138, 132, 110, 119, 167, 188, 151, 112, 166, 158, 172, 127, 150, 115, 151, 103, 181, 141, 152, 105, 162, 190, 141, 122, 136, 131, 157, 181, 103, 127, 189, 114, 125, 123, 116, 172, 129, 107, 117, 148], \"xaxis\": \"x\", \"y\": [111, 135, 136, 167, 158, 227, 131, 176, 223, 221, 116, 222, 102, 192, 152, 213, 125, 204, 189, 163, 189, 122, 228, 168, 102, 218, 123, 222, 208, 183, 204, 167, 188, 126, 213, 122, 225, 105, 155, 203, 225, 177, 139, 224, 207, 158, 218, 164, 154, 118, 138, 199, 219, 183, 128, 197, 196, 208, 152, 175, 129, 185, 107, 211, 167, 185, 110, 194, 221, 166, 143, 163, 158, 191, 216, 106, 146, 220, 131, 147, 141, 130, 204, 152, 111, 139, 172, 168, 148, 123, 189, 220, 120, 106, 105, 157, 149, 185, 106, 115, 177, 230, 108, 140, 214, 216, 130, 169, 110, 209, 162, 214, 145, 116, 209, 116, 139, 143, 168, 158, 232, 136, 180, 228, 222, 117, 224, 104, 195, 156, 213, 133, 208, 195, 163, 195, 124, 231, 172, 104, 221, 128, 222, 214, 184, 204, 171, 195, 132, 214, 123, 233, 107, 162, 204, 227, 185, 142, 225, 212, 161, 220, 168, 155, 125, 144, 201, 222, 189, 132, 204, 201, 211, 156, 179, 129, 185, 107, 213, 172, 193, 114, 202, 222, 168, 146, 170, 165, 196, 224, 108, 149, 224, 136, 152, 143, 135, 211, 156, 115, 143, 179, 173, 148, 127, 194, 225, 127, 106, 112, 164, 151, 191, 110, 116, 180, 235, 108, 141, 219, 219, 138, 169, 116, 212, 162, 220, 151, 119, 212, 111, 142, 138, 172, 158, 228, 134, 181, 231, 223, 121, 222, 102, 195, 156, 214, 132, 204, 190, 167, 195, 127, 235, 171, 110, 221, 128, 226, 208, 191, 205, 173, 191, 128, 220, 126, 232, 108, 159, 211, 232, 182, 145, 224, 209, 160, 219, 170, 161, 122, 141, 204, 226, 187, 129, 199, 199, 214, 159, 176, 129, 187, 109, 212, 170, 191, 116, 202, 226, 166, 151, 170, 166, 193, 218, 109, 152, 220, 133, 152, 142, 131, 204, 153, 114, 144, 172, 176, 150, 129, 190, 226, 128, 106, 107, 159, 157, 192, 110, 115, 183, 233, 112, 146, 222, 216, 134, 174, 114, 211, 167, 214, 145, 120, 217, 113, 141, 140, 171, 163, 232, 131, 184, 225, 223, 121, 223, 105, 197, 160, 218, 131, 211, 194, 169, 189, 128, 228, 169, 108, 219, 124, 224, 214, 190, 205, 167, 190, 128, 217, 126, 228, 105, 162, 211, 227, 178, 146, 227, 208, 163, 225, 167, 162, 125, 144, 199, 226, 183, 136, 199, 204, 215, 155, 179, 133, 186, 111, 219, 173, 185, 118, 199, 226, 169, 144, 166, 166, 198, 222, 110, 154, 226, 135, 151, 146, 133, 205, 154, 116, 145, 174, 168, 156, 124, 196, 227, 122, 106, 110, 158, 154, 190, 110, 120, 180, 232, 110, 142, 222, 218, 138, 176, 115, 211, 168, 216, 147, 124, 215, 117, 139, 138, 171, 158, 232, 139, 178, 224, 224, 116, 223, 109, 193, 155, 221, 130, 212, 190, 169, 191, 122, 234, 175, 108, 220, 126, 227, 216, 188, 205, 172, 192, 129, 219, 127, 228, 105, 159, 205, 228, 178, 139, 232, 212, 162, 226, 171, 159, 120, 143, 200, 221, 184, 134, 200, 201, 210, 159, 178, 137, 190, 110, 213, 170, 193, 113, 196, 222, 174, 143, 169, 165, 194, 217, 113, 150, 223, 133, 149, 149, 130, 207, 157, 115, 147, 176], \"yaxis\": \"y\"}],\n",
              "                        {\"coloraxis\": {\"colorbar\": {\"title\": {\"text\": \"color\"}}, \"colorscale\": [[0.0, \"#0d0887\"], [0.1111111111111111, \"#46039f\"], [0.2222222222222222, \"#7201a8\"], [0.3333333333333333, \"#9c179e\"], [0.4444444444444444, \"#bd3786\"], [0.5555555555555556, \"#d8576b\"], [0.6666666666666666, \"#ed7953\"], [0.7777777777777778, \"#fb9f3a\"], [0.8888888888888888, \"#fdca26\"], [1.0, \"#f0f921\"]]}, \"legend\": {\"tracegroupgap\": 0}, \"margin\": {\"t\": 60}, \"template\": {\"data\": {\"bar\": [{\"error_x\": {\"color\": \"#2a3f5f\"}, \"error_y\": {\"color\": \"#2a3f5f\"}, \"marker\": {\"line\": {\"color\": \"#E5ECF6\", \"width\": 0.5}}, \"type\": \"bar\"}], \"barpolar\": [{\"marker\": {\"line\": {\"color\": \"#E5ECF6\", \"width\": 0.5}}, \"type\": \"barpolar\"}], \"carpet\": [{\"aaxis\": {\"endlinecolor\": \"#2a3f5f\", \"gridcolor\": \"white\", \"linecolor\": \"white\", \"minorgridcolor\": \"white\", \"startlinecolor\": \"#2a3f5f\"}, \"baxis\": {\"endlinecolor\": \"#2a3f5f\", \"gridcolor\": \"white\", \"linecolor\": \"white\", \"minorgridcolor\": \"white\", \"startlinecolor\": \"#2a3f5f\"}, \"type\": \"carpet\"}], \"choropleth\": [{\"colorbar\": {\"outlinewidth\": 0, \"ticks\": \"\"}, \"type\": \"choropleth\"}], \"contour\": [{\"colorbar\": {\"outlinewidth\": 0, \"ticks\": \"\"}, \"colorscale\": [[0.0, \"#0d0887\"], [0.1111111111111111, \"#46039f\"], [0.2222222222222222, \"#7201a8\"], [0.3333333333333333, \"#9c179e\"], [0.4444444444444444, \"#bd3786\"], [0.5555555555555556, \"#d8576b\"], [0.6666666666666666, \"#ed7953\"], [0.7777777777777778, \"#fb9f3a\"], [0.8888888888888888, \"#fdca26\"], [1.0, \"#f0f921\"]], \"type\": \"contour\"}], \"contourcarpet\": [{\"colorbar\": {\"outlinewidth\": 0, \"ticks\": \"\"}, \"type\": \"contourcarpet\"}], \"heatmap\": [{\"colorbar\": {\"outlinewidth\": 0, \"ticks\": \"\"}, \"colorscale\": [[0.0, \"#0d0887\"], [0.1111111111111111, \"#46039f\"], [0.2222222222222222, \"#7201a8\"], [0.3333333333333333, \"#9c179e\"], [0.4444444444444444, \"#bd3786\"], [0.5555555555555556, \"#d8576b\"], [0.6666666666666666, \"#ed7953\"], [0.7777777777777778, \"#fb9f3a\"], [0.8888888888888888, \"#fdca26\"], [1.0, \"#f0f921\"]], \"type\": \"heatmap\"}], \"heatmapgl\": [{\"colorbar\": {\"outlinewidth\": 0, \"ticks\": \"\"}, \"colorscale\": [[0.0, \"#0d0887\"], [0.1111111111111111, \"#46039f\"], [0.2222222222222222, \"#7201a8\"], [0.3333333333333333, \"#9c179e\"], [0.4444444444444444, \"#bd3786\"], [0.5555555555555556, \"#d8576b\"], [0.6666666666666666, \"#ed7953\"], [0.7777777777777778, \"#fb9f3a\"], [0.8888888888888888, \"#fdca26\"], [1.0, \"#f0f921\"]], \"type\": \"heatmapgl\"}], \"histogram\": [{\"marker\": {\"colorbar\": {\"outlinewidth\": 0, \"ticks\": \"\"}}, \"type\": \"histogram\"}], \"histogram2d\": [{\"colorbar\": {\"outlinewidth\": 0, \"ticks\": \"\"}, \"colorscale\": [[0.0, \"#0d0887\"], [0.1111111111111111, \"#46039f\"], [0.2222222222222222, \"#7201a8\"], [0.3333333333333333, \"#9c179e\"], [0.4444444444444444, \"#bd3786\"], [0.5555555555555556, \"#d8576b\"], [0.6666666666666666, \"#ed7953\"], [0.7777777777777778, \"#fb9f3a\"], [0.8888888888888888, \"#fdca26\"], [1.0, \"#f0f921\"]], \"type\": \"histogram2d\"}], \"histogram2dcontour\": [{\"colorbar\": {\"outlinewidth\": 0, \"ticks\": \"\"}, \"colorscale\": [[0.0, \"#0d0887\"], [0.1111111111111111, \"#46039f\"], [0.2222222222222222, \"#7201a8\"], [0.3333333333333333, \"#9c179e\"], [0.4444444444444444, \"#bd3786\"], [0.5555555555555556, \"#d8576b\"], [0.6666666666666666, \"#ed7953\"], [0.7777777777777778, \"#fb9f3a\"], [0.8888888888888888, \"#fdca26\"], [1.0, \"#f0f921\"]], \"type\": \"histogram2dcontour\"}], \"mesh3d\": [{\"colorbar\": {\"outlinewidth\": 0, \"ticks\": \"\"}, \"type\": \"mesh3d\"}], \"parcoords\": [{\"line\": {\"colorbar\": {\"outlinewidth\": 0, \"ticks\": \"\"}}, \"type\": \"parcoords\"}], \"pie\": [{\"automargin\": true, \"type\": \"pie\"}], \"scatter\": [{\"marker\": {\"colorbar\": {\"outlinewidth\": 0, \"ticks\": \"\"}}, \"type\": \"scatter\"}], \"scatter3d\": [{\"line\": {\"colorbar\": {\"outlinewidth\": 0, \"ticks\": \"\"}}, \"marker\": {\"colorbar\": {\"outlinewidth\": 0, \"ticks\": \"\"}}, \"type\": \"scatter3d\"}], \"scattercarpet\": [{\"marker\": {\"colorbar\": {\"outlinewidth\": 0, \"ticks\": \"\"}}, \"type\": \"scattercarpet\"}], \"scattergeo\": [{\"marker\": {\"colorbar\": {\"outlinewidth\": 0, \"ticks\": \"\"}}, \"type\": \"scattergeo\"}], \"scattergl\": [{\"marker\": {\"colorbar\": {\"outlinewidth\": 0, \"ticks\": \"\"}}, \"type\": \"scattergl\"}], \"scattermapbox\": [{\"marker\": {\"colorbar\": {\"outlinewidth\": 0, \"ticks\": \"\"}}, \"type\": \"scattermapbox\"}], \"scatterpolar\": [{\"marker\": {\"colorbar\": {\"outlinewidth\": 0, \"ticks\": \"\"}}, \"type\": \"scatterpolar\"}], \"scatterpolargl\": [{\"marker\": {\"colorbar\": {\"outlinewidth\": 0, \"ticks\": \"\"}}, \"type\": \"scatterpolargl\"}], \"scatterternary\": [{\"marker\": {\"colorbar\": {\"outlinewidth\": 0, \"ticks\": \"\"}}, \"type\": \"scatterternary\"}], \"surface\": [{\"colorbar\": {\"outlinewidth\": 0, \"ticks\": \"\"}, \"colorscale\": [[0.0, \"#0d0887\"], [0.1111111111111111, \"#46039f\"], [0.2222222222222222, \"#7201a8\"], [0.3333333333333333, \"#9c179e\"], [0.4444444444444444, \"#bd3786\"], [0.5555555555555556, \"#d8576b\"], [0.6666666666666666, \"#ed7953\"], [0.7777777777777778, \"#fb9f3a\"], [0.8888888888888888, \"#fdca26\"], [1.0, \"#f0f921\"]], \"type\": \"surface\"}], \"table\": [{\"cells\": {\"fill\": {\"color\": \"#EBF0F8\"}, \"line\": {\"color\": \"white\"}}, \"header\": {\"fill\": {\"color\": \"#C8D4E3\"}, \"line\": {\"color\": \"white\"}}, \"type\": \"table\"}]}, \"layout\": {\"annotationdefaults\": {\"arrowcolor\": \"#2a3f5f\", \"arrowhead\": 0, \"arrowwidth\": 1}, \"coloraxis\": {\"colorbar\": {\"outlinewidth\": 0, \"ticks\": \"\"}}, \"colorscale\": {\"diverging\": [[0, \"#8e0152\"], [0.1, \"#c51b7d\"], [0.2, \"#de77ae\"], [0.3, \"#f1b6da\"], [0.4, \"#fde0ef\"], [0.5, \"#f7f7f7\"], [0.6, \"#e6f5d0\"], [0.7, \"#b8e186\"], [0.8, \"#7fbc41\"], [0.9, \"#4d9221\"], [1, \"#276419\"]], \"sequential\": [[0.0, \"#0d0887\"], [0.1111111111111111, \"#46039f\"], [0.2222222222222222, \"#7201a8\"], [0.3333333333333333, \"#9c179e\"], [0.4444444444444444, \"#bd3786\"], [0.5555555555555556, \"#d8576b\"], [0.6666666666666666, \"#ed7953\"], [0.7777777777777778, \"#fb9f3a\"], [0.8888888888888888, \"#fdca26\"], [1.0, \"#f0f921\"]], \"sequentialminus\": [[0.0, \"#0d0887\"], [0.1111111111111111, \"#46039f\"], [0.2222222222222222, \"#7201a8\"], [0.3333333333333333, \"#9c179e\"], [0.4444444444444444, \"#bd3786\"], [0.5555555555555556, \"#d8576b\"], [0.6666666666666666, \"#ed7953\"], [0.7777777777777778, \"#fb9f3a\"], [0.8888888888888888, \"#fdca26\"], [1.0, \"#f0f921\"]]}, \"colorway\": [\"#636efa\", \"#EF553B\", \"#00cc96\", \"#ab63fa\", \"#FFA15A\", \"#19d3f3\", \"#FF6692\", \"#B6E880\", \"#FF97FF\", \"#FECB52\"], \"font\": {\"color\": \"#2a3f5f\"}, \"geo\": {\"bgcolor\": \"white\", \"lakecolor\": \"white\", \"landcolor\": \"#E5ECF6\", \"showlakes\": true, \"showland\": true, \"subunitcolor\": \"white\"}, \"hoverlabel\": {\"align\": \"left\"}, \"hovermode\": \"closest\", \"mapbox\": {\"style\": \"light\"}, \"paper_bgcolor\": \"white\", \"plot_bgcolor\": \"#E5ECF6\", \"polar\": {\"angularaxis\": {\"gridcolor\": \"white\", \"linecolor\": \"white\", \"ticks\": \"\"}, \"bgcolor\": \"#E5ECF6\", \"radialaxis\": {\"gridcolor\": \"white\", \"linecolor\": \"white\", \"ticks\": \"\"}}, \"scene\": {\"xaxis\": {\"backgroundcolor\": \"#E5ECF6\", \"gridcolor\": \"white\", \"gridwidth\": 2, \"linecolor\": \"white\", \"showbackground\": true, \"ticks\": \"\", \"zerolinecolor\": \"white\"}, \"yaxis\": {\"backgroundcolor\": \"#E5ECF6\", \"gridcolor\": \"white\", \"gridwidth\": 2, \"linecolor\": \"white\", \"showbackground\": true, \"ticks\": \"\", \"zerolinecolor\": \"white\"}, \"zaxis\": {\"backgroundcolor\": \"#E5ECF6\", \"gridcolor\": \"white\", \"gridwidth\": 2, \"linecolor\": \"white\", \"showbackground\": true, \"ticks\": \"\", \"zerolinecolor\": \"white\"}}, \"shapedefaults\": {\"line\": {\"color\": \"#2a3f5f\"}}, \"ternary\": {\"aaxis\": {\"gridcolor\": \"white\", \"linecolor\": \"white\", \"ticks\": \"\"}, \"baxis\": {\"gridcolor\": \"white\", \"linecolor\": \"white\", \"ticks\": \"\"}, \"bgcolor\": \"#E5ECF6\", \"caxis\": {\"gridcolor\": \"white\", \"linecolor\": \"white\", \"ticks\": \"\"}}, \"title\": {\"x\": 0.05}, \"xaxis\": {\"automargin\": true, \"gridcolor\": \"white\", \"linecolor\": \"white\", \"ticks\": \"\", \"title\": {\"standoff\": 15}, \"zerolinecolor\": \"white\", \"zerolinewidth\": 2}, \"yaxis\": {\"automargin\": true, \"gridcolor\": \"white\", \"linecolor\": \"white\", \"ticks\": \"\", \"title\": {\"standoff\": 15}, \"zerolinecolor\": \"white\", \"zerolinewidth\": 2}}}, \"title\": {\"text\": \"Analise de Clusters\"}, \"xaxis\": {\"anchor\": \"y\", \"domain\": [0.0, 1.0], \"title\": {\"text\": \"peso\"}}, \"yaxis\": {\"anchor\": \"x\", \"domain\": [0.0, 1.0], \"title\": {\"text\": \"colesterol\"}}},\n",
              "                        {\"responsive\": true}\n",
              "                    ).then(function(){\n",
              "                            \n",
              "var gd = document.getElementById('a6df825b-3918-44aa-84e3-a2745c4b7663');\n",
              "var x = new MutationObserver(function (mutations, observer) {{\n",
              "        var display = window.getComputedStyle(gd).display;\n",
              "        if (!display || display === 'none') {{\n",
              "            console.log([gd, 'removed!']);\n",
              "            Plotly.purge(gd);\n",
              "            observer.disconnect();\n",
              "        }}\n",
              "}});\n",
              "\n",
              "// Listen for the removal of the full notebook cells\n",
              "var notebookContainer = gd.closest('#notebook-container');\n",
              "if (notebookContainer) {{\n",
              "    x.observe(notebookContainer, {childList: true});\n",
              "}}\n",
              "\n",
              "// Listen for the clearing of the current output cell\n",
              "var outputEl = gd.closest('.output');\n",
              "if (outputEl) {{\n",
              "    x.observe(outputEl, {childList: true});\n",
              "}}\n",
              "\n",
              "                        })\n",
              "                };\n",
              "                \n",
              "            </script>\n",
              "        </div>\n",
              "</body>\n",
              "</html>"
            ]
          },
          "metadata": {}
        }
      ]
    },
    {
      "cell_type": "code",
      "metadata": {
        "colab": {
          "base_uri": "https://localhost:8080/",
          "height": 542
        },
        "id": "YPtinbNDjMUM",
        "outputId": "fe848408-e3a4-418c-845b-fb84838d8614"
      },
      "source": [
        "plotar_grafico(base_completa['peso'],base_completa['idade'],'peso','idade(x= centroide_clusters[:,0], y= centroide_clusters[:,1]')"
      ],
      "execution_count": null,
      "outputs": [
        {
          "output_type": "display_data",
          "data": {
            "text/html": [
              "<html>\n",
              "<head><meta charset=\"utf-8\" /></head>\n",
              "<body>\n",
              "    <div>\n",
              "            <script src=\"https://cdnjs.cloudflare.com/ajax/libs/mathjax/2.7.5/MathJax.js?config=TeX-AMS-MML_SVG\"></script><script type=\"text/javascript\">if (window.MathJax) {MathJax.Hub.Config({SVG: {font: \"STIX-Web\"}});}</script>\n",
              "                <script type=\"text/javascript\">window.PlotlyConfig = {MathJaxConfig: 'local'};</script>\n",
              "        <script src=\"https://cdn.plot.ly/plotly-latest.min.js\"></script>    \n",
              "            <div id=\"afec8973-386e-4e76-91af-4a6ac9f450ba\" class=\"plotly-graph-div\" style=\"height:525px; width:100%;\"></div>\n",
              "            <script type=\"text/javascript\">\n",
              "                \n",
              "                    window.PLOTLYENV=window.PLOTLYENV || {};\n",
              "                    \n",
              "                if (document.getElementById(\"afec8973-386e-4e76-91af-4a6ac9f450ba\")) {\n",
              "                    Plotly.newPlot(\n",
              "                        'afec8973-386e-4e76-91af-4a6ac9f450ba',\n",
              "                        [{\"hoverlabel\": {\"namelength\": 0}, \"hovertemplate\": \"x=%{x}<br>y=%{y}<br>color=%{marker.color}\", \"legendgroup\": \"\", \"marker\": {\"color\": [3, 3, 3, 1, 1, 0, 3, 2, 0, 0, 3, 0, 3, 2, 1, 0, 3, 2, 2, 1, 2, 3, 0, 1, 3, 0, 3, 0, 0, 2, 2, 1, 2, 3, 0, 3, 0, 3, 1, 2, 0, 2, 3, 0, 0, 1, 0, 1, 1, 3, 3, 2, 0, 2, 3, 2, 2, 0, 1, 2, 3, 2, 3, 0, 1, 2, 3, 2, 0, 1, 1, 1, 1, 2, 0, 3, 1, 0, 3, 1, 1, 3, 2, 1, 3, 3, 2, 1, 1, 3, 2, 0, 3, 3, 3, 1, 1, 2, 3, 3, 2, 0, 3, 1, 0, 0, 3, 1, 3, 0, 1, 0, 1, 3, 0, 3, 1, 1, 1, 1, 0, 3, 2, 0, 0, 3, 0, 3, 2, 1, 0, 3, 0, 2, 1, 2, 3, 0, 1, 3, 0, 3, 0, 0, 2, 0, 1, 2, 3, 0, 3, 0, 3, 1, 2, 0, 2, 1, 0, 0, 1, 0, 1, 1, 3, 1, 2, 0, 2, 3, 2, 2, 0, 1, 2, 3, 2, 3, 0, 1, 2, 3, 2, 0, 1, 1, 1, 1, 2, 0, 3, 1, 0, 3, 1, 1, 3, 0, 1, 3, 1, 2, 2, 1, 3, 2, 0, 3, 3, 3, 1, 1, 2, 3, 3, 2, 0, 3, 1, 0, 0, 3, 1, 3, 0, 1, 0, 1, 3, 0, 3, 1, 1, 2, 1, 0, 3, 2, 0, 0, 3, 0, 3, 2, 1, 0, 3, 0, 2, 1, 2, 3, 0, 1, 3, 0, 3, 0, 0, 2, 0, 1, 2, 3, 0, 3, 0, 3, 1, 0, 0, 2, 1, 0, 0, 1, 0, 1, 1, 3, 1, 0, 0, 2, 3, 2, 2, 0, 1, 2, 3, 2, 3, 0, 1, 2, 3, 2, 0, 1, 1, 1, 1, 2, 0, 3, 1, 0, 3, 1, 1, 3, 2, 1, 3, 1, 2, 2, 1, 3, 2, 0, 3, 3, 3, 1, 1, 2, 3, 3, 2, 0, 3, 1, 0, 0, 3, 2, 3, 0, 1, 0, 1, 3, 0, 3, 1, 1, 2, 1, 0, 3, 2, 0, 0, 3, 0, 3, 2, 1, 0, 3, 0, 2, 1, 2, 3, 0, 2, 3, 0, 3, 0, 0, 2, 0, 1, 2, 3, 0, 3, 0, 3, 1, 0, 0, 2, 1, 0, 0, 1, 0, 1, 1, 3, 1, 2, 0, 2, 3, 2, 2, 0, 1, 2, 3, 2, 3, 0, 1, 2, 3, 2, 0, 1, 1, 1, 1, 2, 0, 3, 1, 0, 3, 1, 1, 3, 0, 1, 3, 1, 2, 1, 1, 3, 2, 0, 3, 3, 3, 1, 1, 2, 3, 3, 2, 0, 3, 1, 0, 0, 3, 2, 3, 0, 1, 0, 1, 3, 0, 3, 3, 1, 2, 1, 0, 1, 2, 0, 0, 3, 0, 3, 2, 1, 0, 3, 0, 2, 1, 2, 3, 0, 2, 3, 0, 3, 0, 0, 2, 0, 2, 2, 3, 0, 3, 0, 3, 1, 0, 0, 2, 1, 0, 0, 1, 0, 1, 1, 3, 1, 2, 0, 2, 3, 2, 2, 0, 1, 2, 3, 2, 3, 0, 1, 2, 3, 2, 0, 2, 1, 1, 1, 2, 0, 3, 1, 0, 3, 1, 1, 3, 0, 1, 3, 1, 2], \"coloraxis\": \"coloraxis\", \"symbol\": \"circle\"}, \"mode\": \"markers\", \"name\": \"\", \"showlegend\": false, \"type\": \"scatter\", \"x\": [102, 115, 115, 140, 130, 198, 114, 145, 191, 186, 104, 188, 96, 156, 125, 178, 109, 168, 152, 133, 153, 107, 199, 140, 95, 183, 108, 190, 174, 149, 169, 138, 151, 109, 178, 106, 195, 96, 129, 166, 197, 148, 117, 193, 170, 130, 183, 134, 128, 105, 115, 166, 183, 149, 110, 164, 157, 170, 124, 145, 113, 150, 100, 178, 139, 150, 101, 157, 187, 137, 121, 132, 130, 156, 180, 100, 122, 185, 113, 123, 119, 113, 168, 126, 102, 116, 144, 140, 124, 108, 154, 185, 106, 97, 96, 129, 124, 149, 97, 102, 146, 199, 100, 118, 179, 179, 113, 142, 101, 174, 131, 179, 122, 105, 176, 103, 120, 118, 143, 134, 203, 116, 150, 192, 187, 107, 192, 97, 157, 128, 183, 112, 173, 156, 137, 156, 112, 203, 141, 97, 186, 113, 195, 175, 154, 173, 141, 152, 114, 181, 111, 200, 100, 134, 167, 198, 151, 121, 196, 171, 135, 186, 138, 133, 107, 120, 168, 184, 154, 115, 168, 161, 171, 129, 150, 118, 154, 103, 180, 141, 152, 104, 159, 191, 142, 123, 135, 132, 158, 181, 105, 126, 186, 116, 124, 122, 115, 173, 128, 103, 120, 146, 145, 125, 109, 156, 187, 110, 100, 97, 133, 128, 154, 100, 104, 149, 203, 104, 119, 181, 180, 116, 144, 102, 176, 135, 184, 124, 110, 180, 103, 117, 120, 145, 133, 201, 117, 146, 195, 188, 108, 191, 100, 158, 127, 181, 113, 171, 153, 137, 154, 112, 201, 141, 100, 185, 111, 191, 176, 150, 171, 140, 153, 111, 180, 107, 197, 101, 132, 168, 200, 150, 119, 197, 172, 134, 185, 135, 132, 109, 116, 170, 187, 154, 111, 169, 161, 174, 125, 148, 117, 154, 104, 183, 142, 155, 105, 160, 191, 140, 123, 136, 132, 158, 182, 104, 126, 188, 118, 127, 123, 118, 169, 128, 106, 119, 147, 141, 125, 109, 158, 190, 110, 99, 98, 134, 129, 154, 100, 107, 149, 203, 101, 119, 182, 181, 115, 145, 102, 176, 134, 183, 123, 108, 177, 104, 117, 117, 145, 134, 199, 115, 149, 192, 188, 107, 190, 98, 158, 128, 180, 110, 172, 157, 137, 158, 110, 203, 145, 96, 186, 110, 194, 177, 152, 172, 140, 154, 113, 179, 111, 196, 101, 131, 171, 199, 151, 121, 196, 174, 135, 184, 137, 129, 108, 116, 168, 184, 151, 114, 167, 160, 175, 127, 146, 118, 151, 105, 180, 140, 155, 106, 160, 192, 138, 122, 135, 132, 158, 184, 101, 126, 188, 118, 127, 123, 117, 172, 127, 104, 121, 148, 141, 128, 113, 155, 189, 108, 98, 100, 134, 125, 151, 100, 107, 147, 200, 101, 120, 181, 182, 117, 145, 106, 179, 134, 180, 126, 110, 180, 103, 116, 119, 144, 133, 199, 115, 150, 192, 188, 109, 189, 101, 159, 128, 182, 111, 171, 154, 134, 157, 112, 203, 142, 97, 187, 111, 194, 176, 153, 171, 142, 153, 113, 183, 108, 200, 99, 131, 171, 200, 152, 119, 196, 173, 132, 185, 138, 132, 110, 119, 167, 188, 151, 112, 166, 158, 172, 127, 150, 115, 151, 103, 181, 141, 152, 105, 162, 190, 141, 122, 136, 131, 157, 181, 103, 127, 189, 114, 125, 123, 116, 172, 129, 107, 117, 148], \"xaxis\": \"x\", \"y\": [17, 28, 62, 55, 44, 17, 30, 30, 34, 55, 50, 62, 52, 34, 69, 65, 61, 65, 48, 60, 70, 28, 63, 34, 53, 42, 35, 55, 55, 62, 24, 29, 56, 54, 60, 67, 16, 42, 33, 60, 60, 54, 55, 36, 22, 65, 68, 38, 38, 70, 23, 34, 30, 48, 36, 25, 65, 39, 58, 38, 70, 47, 57, 58, 30, 25, 30, 48, 35, 49, 28, 42, 50, 24, 31, 43, 39, 34, 48, 61, 18, 58, 46, 18, 52, 66, 43, 25, 35, 29, 47, 30, 19, 67, 22, 56, 28, 25, 47, 20, 49, 33, 29, 38, 21, 56, 50, 65, 48, 63, 23, 66, 39, 44, 21, 22, 44, 48, 32, 32, 60, 36, 47, 28, 50, 30, 46, 21, 35, 37, 21, 26, 69, 52, 53, 59, 24, 39, 35, 57, 48, 62, 48, 53, 63, 49, 40, 28, 45, 39, 52, 55, 29, 26, 16, 41, 69, 55, 58, 23, 16, 24, 45, 51, 70, 29, 66, 34, 53, 22, 55, 61, 57, 28, 55, 20, 24, 40, 43, 33, 36, 27, 53, 18, 33, 60, 20, 31, 42, 66, 29, 53, 62, 35, 24, 48, 32, 28, 70, 62, 67, 31, 16, 21, 50, 53, 54, 35, 60, 41, 17, 50, 36, 67, 67, 52, 62, 43, 50, 32, 33, 38, 24, 31, 57, 46, 35, 25, 35, 56, 66, 35, 20, 66, 46, 25, 23, 34, 34, 22, 32, 67, 34, 29, 59, 57, 41, 28, 39, 46, 19, 46, 60, 56, 58, 40, 26, 42, 50, 63, 34, 47, 39, 62, 21, 32, 41, 30, 27, 60, 55, 18, 54, 58, 23, 19, 50, 32, 64, 66, 39, 37, 62, 47, 50, 52, 25, 38, 41, 20, 28, 64, 20, 33, 28, 45, 66, 55, 41, 66, 64, 26, 22, 22, 49, 67, 22, 16, 31, 45, 26, 70, 33, 39, 64, 41, 66, 47, 25, 48, 44, 41, 60, 53, 70, 47, 28, 18, 30, 33, 17, 64, 27, 28, 68, 44, 70, 63, 43, 54, 68, 68, 47, 31, 21, 39, 46, 61, 52, 28, 61, 33, 25, 63, 29, 23, 67, 51, 21, 34, 34, 65, 28, 62, 21, 57, 28, 38, 70, 42, 56, 33, 38, 18, 23, 50, 60, 53, 19, 44, 51, 33, 32, 17, 66, 60, 17, 39, 27, 48, 53, 43, 54, 27, 49, 31, 44, 54, 68, 39, 43, 57, 45, 38, 29, 58, 49, 42, 19, 37, 24, 44, 19, 33, 42, 56, 36, 39, 25, 39, 68, 47, 48, 25, 57, 42, 59, 55, 68, 38, 62, 42, 42, 35, 63, 34, 44, 53, 26, 61, 54, 59, 55, 58, 64, 31, 34, 19, 50, 45, 19, 61, 25, 70, 43, 29, 43, 58, 41, 64, 43, 53, 35, 32, 20, 63, 20, 65, 36, 36, 36, 32, 36, 46, 63, 45, 44, 26, 35, 46, 26, 35, 29, 56, 58, 53, 41, 25, 31, 17, 62, 64, 70, 21, 34, 66, 67, 26, 41, 55, 23, 41, 58, 16, 59, 50, 34, 40, 45, 48, 51, 29, 28, 42, 65, 47, 46, 19, 26, 50, 45, 67, 26, 53, 39, 30, 38, 20, 23, 63, 43, 51, 61, 51, 32, 37, 32, 34, 31, 35, 51, 34, 20, 66, 36, 57, 61], \"yaxis\": \"y\"}],\n",
              "                        {\"coloraxis\": {\"colorbar\": {\"title\": {\"text\": \"color\"}}, \"colorscale\": [[0.0, \"#0d0887\"], [0.1111111111111111, \"#46039f\"], [0.2222222222222222, \"#7201a8\"], [0.3333333333333333, \"#9c179e\"], [0.4444444444444444, \"#bd3786\"], [0.5555555555555556, \"#d8576b\"], [0.6666666666666666, \"#ed7953\"], [0.7777777777777778, \"#fb9f3a\"], [0.8888888888888888, \"#fdca26\"], [1.0, \"#f0f921\"]]}, \"legend\": {\"tracegroupgap\": 0}, \"margin\": {\"t\": 60}, \"template\": {\"data\": {\"bar\": [{\"error_x\": {\"color\": \"#2a3f5f\"}, \"error_y\": {\"color\": \"#2a3f5f\"}, \"marker\": {\"line\": {\"color\": \"#E5ECF6\", \"width\": 0.5}}, \"type\": \"bar\"}], \"barpolar\": [{\"marker\": {\"line\": {\"color\": \"#E5ECF6\", \"width\": 0.5}}, \"type\": \"barpolar\"}], \"carpet\": [{\"aaxis\": {\"endlinecolor\": \"#2a3f5f\", \"gridcolor\": \"white\", \"linecolor\": \"white\", \"minorgridcolor\": \"white\", \"startlinecolor\": \"#2a3f5f\"}, \"baxis\": {\"endlinecolor\": \"#2a3f5f\", \"gridcolor\": \"white\", \"linecolor\": \"white\", \"minorgridcolor\": \"white\", \"startlinecolor\": \"#2a3f5f\"}, \"type\": \"carpet\"}], \"choropleth\": [{\"colorbar\": {\"outlinewidth\": 0, \"ticks\": \"\"}, \"type\": \"choropleth\"}], \"contour\": [{\"colorbar\": {\"outlinewidth\": 0, \"ticks\": \"\"}, \"colorscale\": [[0.0, \"#0d0887\"], [0.1111111111111111, \"#46039f\"], [0.2222222222222222, \"#7201a8\"], [0.3333333333333333, \"#9c179e\"], [0.4444444444444444, \"#bd3786\"], [0.5555555555555556, \"#d8576b\"], [0.6666666666666666, \"#ed7953\"], [0.7777777777777778, \"#fb9f3a\"], [0.8888888888888888, \"#fdca26\"], [1.0, \"#f0f921\"]], \"type\": \"contour\"}], \"contourcarpet\": [{\"colorbar\": {\"outlinewidth\": 0, \"ticks\": \"\"}, \"type\": \"contourcarpet\"}], \"heatmap\": [{\"colorbar\": {\"outlinewidth\": 0, \"ticks\": \"\"}, \"colorscale\": [[0.0, \"#0d0887\"], [0.1111111111111111, \"#46039f\"], [0.2222222222222222, \"#7201a8\"], [0.3333333333333333, \"#9c179e\"], [0.4444444444444444, \"#bd3786\"], [0.5555555555555556, \"#d8576b\"], [0.6666666666666666, \"#ed7953\"], [0.7777777777777778, \"#fb9f3a\"], [0.8888888888888888, \"#fdca26\"], [1.0, \"#f0f921\"]], \"type\": \"heatmap\"}], \"heatmapgl\": [{\"colorbar\": {\"outlinewidth\": 0, \"ticks\": \"\"}, \"colorscale\": [[0.0, \"#0d0887\"], [0.1111111111111111, \"#46039f\"], [0.2222222222222222, \"#7201a8\"], [0.3333333333333333, \"#9c179e\"], [0.4444444444444444, \"#bd3786\"], [0.5555555555555556, \"#d8576b\"], [0.6666666666666666, \"#ed7953\"], [0.7777777777777778, \"#fb9f3a\"], [0.8888888888888888, \"#fdca26\"], [1.0, \"#f0f921\"]], \"type\": \"heatmapgl\"}], \"histogram\": [{\"marker\": {\"colorbar\": {\"outlinewidth\": 0, \"ticks\": \"\"}}, \"type\": \"histogram\"}], \"histogram2d\": [{\"colorbar\": {\"outlinewidth\": 0, \"ticks\": \"\"}, \"colorscale\": [[0.0, \"#0d0887\"], [0.1111111111111111, \"#46039f\"], [0.2222222222222222, \"#7201a8\"], [0.3333333333333333, \"#9c179e\"], [0.4444444444444444, \"#bd3786\"], [0.5555555555555556, \"#d8576b\"], [0.6666666666666666, \"#ed7953\"], [0.7777777777777778, \"#fb9f3a\"], [0.8888888888888888, \"#fdca26\"], [1.0, \"#f0f921\"]], \"type\": \"histogram2d\"}], \"histogram2dcontour\": [{\"colorbar\": {\"outlinewidth\": 0, \"ticks\": \"\"}, \"colorscale\": [[0.0, \"#0d0887\"], [0.1111111111111111, \"#46039f\"], [0.2222222222222222, \"#7201a8\"], [0.3333333333333333, \"#9c179e\"], [0.4444444444444444, \"#bd3786\"], [0.5555555555555556, \"#d8576b\"], [0.6666666666666666, \"#ed7953\"], [0.7777777777777778, \"#fb9f3a\"], [0.8888888888888888, \"#fdca26\"], [1.0, \"#f0f921\"]], \"type\": \"histogram2dcontour\"}], \"mesh3d\": [{\"colorbar\": {\"outlinewidth\": 0, \"ticks\": \"\"}, \"type\": \"mesh3d\"}], \"parcoords\": [{\"line\": {\"colorbar\": {\"outlinewidth\": 0, \"ticks\": \"\"}}, \"type\": \"parcoords\"}], \"pie\": [{\"automargin\": true, \"type\": \"pie\"}], \"scatter\": [{\"marker\": {\"colorbar\": {\"outlinewidth\": 0, \"ticks\": \"\"}}, \"type\": \"scatter\"}], \"scatter3d\": [{\"line\": {\"colorbar\": {\"outlinewidth\": 0, \"ticks\": \"\"}}, \"marker\": {\"colorbar\": {\"outlinewidth\": 0, \"ticks\": \"\"}}, \"type\": \"scatter3d\"}], \"scattercarpet\": [{\"marker\": {\"colorbar\": {\"outlinewidth\": 0, \"ticks\": \"\"}}, \"type\": \"scattercarpet\"}], \"scattergeo\": [{\"marker\": {\"colorbar\": {\"outlinewidth\": 0, \"ticks\": \"\"}}, \"type\": \"scattergeo\"}], \"scattergl\": [{\"marker\": {\"colorbar\": {\"outlinewidth\": 0, \"ticks\": \"\"}}, \"type\": \"scattergl\"}], \"scattermapbox\": [{\"marker\": {\"colorbar\": {\"outlinewidth\": 0, \"ticks\": \"\"}}, \"type\": \"scattermapbox\"}], \"scatterpolar\": [{\"marker\": {\"colorbar\": {\"outlinewidth\": 0, \"ticks\": \"\"}}, \"type\": \"scatterpolar\"}], \"scatterpolargl\": [{\"marker\": {\"colorbar\": {\"outlinewidth\": 0, \"ticks\": \"\"}}, \"type\": \"scatterpolargl\"}], \"scatterternary\": [{\"marker\": {\"colorbar\": {\"outlinewidth\": 0, \"ticks\": \"\"}}, \"type\": \"scatterternary\"}], \"surface\": [{\"colorbar\": {\"outlinewidth\": 0, \"ticks\": \"\"}, \"colorscale\": [[0.0, \"#0d0887\"], [0.1111111111111111, \"#46039f\"], [0.2222222222222222, \"#7201a8\"], [0.3333333333333333, \"#9c179e\"], [0.4444444444444444, \"#bd3786\"], [0.5555555555555556, \"#d8576b\"], [0.6666666666666666, \"#ed7953\"], [0.7777777777777778, \"#fb9f3a\"], [0.8888888888888888, \"#fdca26\"], [1.0, \"#f0f921\"]], \"type\": \"surface\"}], \"table\": [{\"cells\": {\"fill\": {\"color\": \"#EBF0F8\"}, \"line\": {\"color\": \"white\"}}, \"header\": {\"fill\": {\"color\": \"#C8D4E3\"}, \"line\": {\"color\": \"white\"}}, \"type\": \"table\"}]}, \"layout\": {\"annotationdefaults\": {\"arrowcolor\": \"#2a3f5f\", \"arrowhead\": 0, \"arrowwidth\": 1}, \"coloraxis\": {\"colorbar\": {\"outlinewidth\": 0, \"ticks\": \"\"}}, \"colorscale\": {\"diverging\": [[0, \"#8e0152\"], [0.1, \"#c51b7d\"], [0.2, \"#de77ae\"], [0.3, \"#f1b6da\"], [0.4, \"#fde0ef\"], [0.5, \"#f7f7f7\"], [0.6, \"#e6f5d0\"], [0.7, \"#b8e186\"], [0.8, \"#7fbc41\"], [0.9, \"#4d9221\"], [1, \"#276419\"]], \"sequential\": [[0.0, \"#0d0887\"], [0.1111111111111111, \"#46039f\"], [0.2222222222222222, \"#7201a8\"], [0.3333333333333333, \"#9c179e\"], [0.4444444444444444, \"#bd3786\"], [0.5555555555555556, \"#d8576b\"], [0.6666666666666666, \"#ed7953\"], [0.7777777777777778, \"#fb9f3a\"], [0.8888888888888888, \"#fdca26\"], [1.0, \"#f0f921\"]], \"sequentialminus\": [[0.0, \"#0d0887\"], [0.1111111111111111, \"#46039f\"], [0.2222222222222222, \"#7201a8\"], [0.3333333333333333, \"#9c179e\"], [0.4444444444444444, \"#bd3786\"], [0.5555555555555556, \"#d8576b\"], [0.6666666666666666, \"#ed7953\"], [0.7777777777777778, \"#fb9f3a\"], [0.8888888888888888, \"#fdca26\"], [1.0, \"#f0f921\"]]}, \"colorway\": [\"#636efa\", \"#EF553B\", \"#00cc96\", \"#ab63fa\", \"#FFA15A\", \"#19d3f3\", \"#FF6692\", \"#B6E880\", \"#FF97FF\", \"#FECB52\"], \"font\": {\"color\": \"#2a3f5f\"}, \"geo\": {\"bgcolor\": \"white\", \"lakecolor\": \"white\", \"landcolor\": \"#E5ECF6\", \"showlakes\": true, \"showland\": true, \"subunitcolor\": \"white\"}, \"hoverlabel\": {\"align\": \"left\"}, \"hovermode\": \"closest\", \"mapbox\": {\"style\": \"light\"}, \"paper_bgcolor\": \"white\", \"plot_bgcolor\": \"#E5ECF6\", \"polar\": {\"angularaxis\": {\"gridcolor\": \"white\", \"linecolor\": \"white\", \"ticks\": \"\"}, \"bgcolor\": \"#E5ECF6\", \"radialaxis\": {\"gridcolor\": \"white\", \"linecolor\": \"white\", \"ticks\": \"\"}}, \"scene\": {\"xaxis\": {\"backgroundcolor\": \"#E5ECF6\", \"gridcolor\": \"white\", \"gridwidth\": 2, \"linecolor\": \"white\", \"showbackground\": true, \"ticks\": \"\", \"zerolinecolor\": \"white\"}, \"yaxis\": {\"backgroundcolor\": \"#E5ECF6\", \"gridcolor\": \"white\", \"gridwidth\": 2, \"linecolor\": \"white\", \"showbackground\": true, \"ticks\": \"\", \"zerolinecolor\": \"white\"}, \"zaxis\": {\"backgroundcolor\": \"#E5ECF6\", \"gridcolor\": \"white\", \"gridwidth\": 2, \"linecolor\": \"white\", \"showbackground\": true, \"ticks\": \"\", \"zerolinecolor\": \"white\"}}, \"shapedefaults\": {\"line\": {\"color\": \"#2a3f5f\"}}, \"ternary\": {\"aaxis\": {\"gridcolor\": \"white\", \"linecolor\": \"white\", \"ticks\": \"\"}, \"baxis\": {\"gridcolor\": \"white\", \"linecolor\": \"white\", \"ticks\": \"\"}, \"bgcolor\": \"#E5ECF6\", \"caxis\": {\"gridcolor\": \"white\", \"linecolor\": \"white\", \"ticks\": \"\"}}, \"title\": {\"x\": 0.05}, \"xaxis\": {\"automargin\": true, \"gridcolor\": \"white\", \"linecolor\": \"white\", \"ticks\": \"\", \"title\": {\"standoff\": 15}, \"zerolinecolor\": \"white\", \"zerolinewidth\": 2}, \"yaxis\": {\"automargin\": true, \"gridcolor\": \"white\", \"linecolor\": \"white\", \"ticks\": \"\", \"title\": {\"standoff\": 15}, \"zerolinecolor\": \"white\", \"zerolinewidth\": 2}}}, \"title\": {\"text\": \"Analise de Clusters\"}, \"xaxis\": {\"anchor\": \"y\", \"domain\": [0.0, 1.0], \"title\": {\"text\": \"peso\"}}, \"yaxis\": {\"anchor\": \"x\", \"domain\": [0.0, 1.0], \"title\": {\"text\": \"idade(x= centroide_clusters[:,0], y= centroide_clusters[:,1]\"}}},\n",
              "                        {\"responsive\": true}\n",
              "                    ).then(function(){\n",
              "                            \n",
              "var gd = document.getElementById('afec8973-386e-4e76-91af-4a6ac9f450ba');\n",
              "var x = new MutationObserver(function (mutations, observer) {{\n",
              "        var display = window.getComputedStyle(gd).display;\n",
              "        if (!display || display === 'none') {{\n",
              "            console.log([gd, 'removed!']);\n",
              "            Plotly.purge(gd);\n",
              "            observer.disconnect();\n",
              "        }}\n",
              "}});\n",
              "\n",
              "// Listen for the removal of the full notebook cells\n",
              "var notebookContainer = gd.closest('#notebook-container');\n",
              "if (notebookContainer) {{\n",
              "    x.observe(notebookContainer, {childList: true});\n",
              "}}\n",
              "\n",
              "// Listen for the clearing of the current output cell\n",
              "var outputEl = gd.closest('.output');\n",
              "if (outputEl) {{\n",
              "    x.observe(outputEl, {childList: true});\n",
              "}}\n",
              "\n",
              "                        })\n",
              "                };\n",
              "                \n",
              "            </script>\n",
              "        </div>\n",
              "</body>\n",
              "</html>"
            ]
          },
          "metadata": {}
        }
      ]
    },
    {
      "cell_type": "markdown",
      "metadata": {
        "id": "j6xPdOrekBva"
      },
      "source": [
        "#Segmentando cliente em\n",
        "###alto risco= colesterol alto\n",
        "###medio risco= colesterol semialto\n",
        "###baixo risco=colesterol normal"
      ]
    },
    {
      "cell_type": "code",
      "metadata": {
        "colab": {
          "base_uri": "https://localhost:8080/",
          "height": 542
        },
        "id": "sAl8mj2KkSui",
        "outputId": "3b52ed86-6af0-4de4-8112-d7d665c06cd7"
      },
      "source": [
        "x = 'colesterol'\n",
        "y = 'peso'\n",
        "\n",
        "plotar_grafico(base_completa[x], base_completa[y],x,y) "
      ],
      "execution_count": null,
      "outputs": [
        {
          "output_type": "display_data",
          "data": {
            "text/html": [
              "<html>\n",
              "<head><meta charset=\"utf-8\" /></head>\n",
              "<body>\n",
              "    <div>\n",
              "            <script src=\"https://cdnjs.cloudflare.com/ajax/libs/mathjax/2.7.5/MathJax.js?config=TeX-AMS-MML_SVG\"></script><script type=\"text/javascript\">if (window.MathJax) {MathJax.Hub.Config({SVG: {font: \"STIX-Web\"}});}</script>\n",
              "                <script type=\"text/javascript\">window.PlotlyConfig = {MathJaxConfig: 'local'};</script>\n",
              "        <script src=\"https://cdn.plot.ly/plotly-latest.min.js\"></script>    \n",
              "            <div id=\"24b4cb77-ed14-47cf-806b-f6eab48ad3ca\" class=\"plotly-graph-div\" style=\"height:525px; width:100%;\"></div>\n",
              "            <script type=\"text/javascript\">\n",
              "                \n",
              "                    window.PLOTLYENV=window.PLOTLYENV || {};\n",
              "                    \n",
              "                if (document.getElementById(\"24b4cb77-ed14-47cf-806b-f6eab48ad3ca\")) {\n",
              "                    Plotly.newPlot(\n",
              "                        '24b4cb77-ed14-47cf-806b-f6eab48ad3ca',\n",
              "                        [{\"hoverlabel\": {\"namelength\": 0}, \"hovertemplate\": \"x=%{x}<br>y=%{y}<br>color=%{marker.color}\", \"legendgroup\": \"\", \"marker\": {\"color\": [3, 3, 3, 1, 1, 0, 3, 2, 0, 0, 3, 0, 3, 2, 1, 0, 3, 2, 2, 1, 2, 3, 0, 1, 3, 0, 3, 0, 0, 2, 2, 1, 2, 3, 0, 3, 0, 3, 1, 2, 0, 2, 3, 0, 0, 1, 0, 1, 1, 3, 3, 2, 0, 2, 3, 2, 2, 0, 1, 2, 3, 2, 3, 0, 1, 2, 3, 2, 0, 1, 1, 1, 1, 2, 0, 3, 1, 0, 3, 1, 1, 3, 2, 1, 3, 3, 2, 1, 1, 3, 2, 0, 3, 3, 3, 1, 1, 2, 3, 3, 2, 0, 3, 1, 0, 0, 3, 1, 3, 0, 1, 0, 1, 3, 0, 3, 1, 1, 1, 1, 0, 3, 2, 0, 0, 3, 0, 3, 2, 1, 0, 3, 0, 2, 1, 2, 3, 0, 1, 3, 0, 3, 0, 0, 2, 0, 1, 2, 3, 0, 3, 0, 3, 1, 2, 0, 2, 1, 0, 0, 1, 0, 1, 1, 3, 1, 2, 0, 2, 3, 2, 2, 0, 1, 2, 3, 2, 3, 0, 1, 2, 3, 2, 0, 1, 1, 1, 1, 2, 0, 3, 1, 0, 3, 1, 1, 3, 0, 1, 3, 1, 2, 2, 1, 3, 2, 0, 3, 3, 3, 1, 1, 2, 3, 3, 2, 0, 3, 1, 0, 0, 3, 1, 3, 0, 1, 0, 1, 3, 0, 3, 1, 1, 2, 1, 0, 3, 2, 0, 0, 3, 0, 3, 2, 1, 0, 3, 0, 2, 1, 2, 3, 0, 1, 3, 0, 3, 0, 0, 2, 0, 1, 2, 3, 0, 3, 0, 3, 1, 0, 0, 2, 1, 0, 0, 1, 0, 1, 1, 3, 1, 0, 0, 2, 3, 2, 2, 0, 1, 2, 3, 2, 3, 0, 1, 2, 3, 2, 0, 1, 1, 1, 1, 2, 0, 3, 1, 0, 3, 1, 1, 3, 2, 1, 3, 1, 2, 2, 1, 3, 2, 0, 3, 3, 3, 1, 1, 2, 3, 3, 2, 0, 3, 1, 0, 0, 3, 2, 3, 0, 1, 0, 1, 3, 0, 3, 1, 1, 2, 1, 0, 3, 2, 0, 0, 3, 0, 3, 2, 1, 0, 3, 0, 2, 1, 2, 3, 0, 2, 3, 0, 3, 0, 0, 2, 0, 1, 2, 3, 0, 3, 0, 3, 1, 0, 0, 2, 1, 0, 0, 1, 0, 1, 1, 3, 1, 2, 0, 2, 3, 2, 2, 0, 1, 2, 3, 2, 3, 0, 1, 2, 3, 2, 0, 1, 1, 1, 1, 2, 0, 3, 1, 0, 3, 1, 1, 3, 0, 1, 3, 1, 2, 1, 1, 3, 2, 0, 3, 3, 3, 1, 1, 2, 3, 3, 2, 0, 3, 1, 0, 0, 3, 2, 3, 0, 1, 0, 1, 3, 0, 3, 3, 1, 2, 1, 0, 1, 2, 0, 0, 3, 0, 3, 2, 1, 0, 3, 0, 2, 1, 2, 3, 0, 2, 3, 0, 3, 0, 0, 2, 0, 2, 2, 3, 0, 3, 0, 3, 1, 0, 0, 2, 1, 0, 0, 1, 0, 1, 1, 3, 1, 2, 0, 2, 3, 2, 2, 0, 1, 2, 3, 2, 3, 0, 1, 2, 3, 2, 0, 2, 1, 1, 1, 2, 0, 3, 1, 0, 3, 1, 1, 3, 0, 1, 3, 1, 2], \"coloraxis\": \"coloraxis\", \"symbol\": \"circle\"}, \"mode\": \"markers\", \"name\": \"\", \"showlegend\": false, \"type\": \"scatter\", \"x\": [111, 135, 136, 167, 158, 227, 131, 176, 223, 221, 116, 222, 102, 192, 152, 213, 125, 204, 189, 163, 189, 122, 228, 168, 102, 218, 123, 222, 208, 183, 204, 167, 188, 126, 213, 122, 225, 105, 155, 203, 225, 177, 139, 224, 207, 158, 218, 164, 154, 118, 138, 199, 219, 183, 128, 197, 196, 208, 152, 175, 129, 185, 107, 211, 167, 185, 110, 194, 221, 166, 143, 163, 158, 191, 216, 106, 146, 220, 131, 147, 141, 130, 204, 152, 111, 139, 172, 168, 148, 123, 189, 220, 120, 106, 105, 157, 149, 185, 106, 115, 177, 230, 108, 140, 214, 216, 130, 169, 110, 209, 162, 214, 145, 116, 209, 116, 139, 143, 168, 158, 232, 136, 180, 228, 222, 117, 224, 104, 195, 156, 213, 133, 208, 195, 163, 195, 124, 231, 172, 104, 221, 128, 222, 214, 184, 204, 171, 195, 132, 214, 123, 233, 107, 162, 204, 227, 185, 142, 225, 212, 161, 220, 168, 155, 125, 144, 201, 222, 189, 132, 204, 201, 211, 156, 179, 129, 185, 107, 213, 172, 193, 114, 202, 222, 168, 146, 170, 165, 196, 224, 108, 149, 224, 136, 152, 143, 135, 211, 156, 115, 143, 179, 173, 148, 127, 194, 225, 127, 106, 112, 164, 151, 191, 110, 116, 180, 235, 108, 141, 219, 219, 138, 169, 116, 212, 162, 220, 151, 119, 212, 111, 142, 138, 172, 158, 228, 134, 181, 231, 223, 121, 222, 102, 195, 156, 214, 132, 204, 190, 167, 195, 127, 235, 171, 110, 221, 128, 226, 208, 191, 205, 173, 191, 128, 220, 126, 232, 108, 159, 211, 232, 182, 145, 224, 209, 160, 219, 170, 161, 122, 141, 204, 226, 187, 129, 199, 199, 214, 159, 176, 129, 187, 109, 212, 170, 191, 116, 202, 226, 166, 151, 170, 166, 193, 218, 109, 152, 220, 133, 152, 142, 131, 204, 153, 114, 144, 172, 176, 150, 129, 190, 226, 128, 106, 107, 159, 157, 192, 110, 115, 183, 233, 112, 146, 222, 216, 134, 174, 114, 211, 167, 214, 145, 120, 217, 113, 141, 140, 171, 163, 232, 131, 184, 225, 223, 121, 223, 105, 197, 160, 218, 131, 211, 194, 169, 189, 128, 228, 169, 108, 219, 124, 224, 214, 190, 205, 167, 190, 128, 217, 126, 228, 105, 162, 211, 227, 178, 146, 227, 208, 163, 225, 167, 162, 125, 144, 199, 226, 183, 136, 199, 204, 215, 155, 179, 133, 186, 111, 219, 173, 185, 118, 199, 226, 169, 144, 166, 166, 198, 222, 110, 154, 226, 135, 151, 146, 133, 205, 154, 116, 145, 174, 168, 156, 124, 196, 227, 122, 106, 110, 158, 154, 190, 110, 120, 180, 232, 110, 142, 222, 218, 138, 176, 115, 211, 168, 216, 147, 124, 215, 117, 139, 138, 171, 158, 232, 139, 178, 224, 224, 116, 223, 109, 193, 155, 221, 130, 212, 190, 169, 191, 122, 234, 175, 108, 220, 126, 227, 216, 188, 205, 172, 192, 129, 219, 127, 228, 105, 159, 205, 228, 178, 139, 232, 212, 162, 226, 171, 159, 120, 143, 200, 221, 184, 134, 200, 201, 210, 159, 178, 137, 190, 110, 213, 170, 193, 113, 196, 222, 174, 143, 169, 165, 194, 217, 113, 150, 223, 133, 149, 149, 130, 207, 157, 115, 147, 176], \"xaxis\": \"x\", \"y\": [102, 115, 115, 140, 130, 198, 114, 145, 191, 186, 104, 188, 96, 156, 125, 178, 109, 168, 152, 133, 153, 107, 199, 140, 95, 183, 108, 190, 174, 149, 169, 138, 151, 109, 178, 106, 195, 96, 129, 166, 197, 148, 117, 193, 170, 130, 183, 134, 128, 105, 115, 166, 183, 149, 110, 164, 157, 170, 124, 145, 113, 150, 100, 178, 139, 150, 101, 157, 187, 137, 121, 132, 130, 156, 180, 100, 122, 185, 113, 123, 119, 113, 168, 126, 102, 116, 144, 140, 124, 108, 154, 185, 106, 97, 96, 129, 124, 149, 97, 102, 146, 199, 100, 118, 179, 179, 113, 142, 101, 174, 131, 179, 122, 105, 176, 103, 120, 118, 143, 134, 203, 116, 150, 192, 187, 107, 192, 97, 157, 128, 183, 112, 173, 156, 137, 156, 112, 203, 141, 97, 186, 113, 195, 175, 154, 173, 141, 152, 114, 181, 111, 200, 100, 134, 167, 198, 151, 121, 196, 171, 135, 186, 138, 133, 107, 120, 168, 184, 154, 115, 168, 161, 171, 129, 150, 118, 154, 103, 180, 141, 152, 104, 159, 191, 142, 123, 135, 132, 158, 181, 105, 126, 186, 116, 124, 122, 115, 173, 128, 103, 120, 146, 145, 125, 109, 156, 187, 110, 100, 97, 133, 128, 154, 100, 104, 149, 203, 104, 119, 181, 180, 116, 144, 102, 176, 135, 184, 124, 110, 180, 103, 117, 120, 145, 133, 201, 117, 146, 195, 188, 108, 191, 100, 158, 127, 181, 113, 171, 153, 137, 154, 112, 201, 141, 100, 185, 111, 191, 176, 150, 171, 140, 153, 111, 180, 107, 197, 101, 132, 168, 200, 150, 119, 197, 172, 134, 185, 135, 132, 109, 116, 170, 187, 154, 111, 169, 161, 174, 125, 148, 117, 154, 104, 183, 142, 155, 105, 160, 191, 140, 123, 136, 132, 158, 182, 104, 126, 188, 118, 127, 123, 118, 169, 128, 106, 119, 147, 141, 125, 109, 158, 190, 110, 99, 98, 134, 129, 154, 100, 107, 149, 203, 101, 119, 182, 181, 115, 145, 102, 176, 134, 183, 123, 108, 177, 104, 117, 117, 145, 134, 199, 115, 149, 192, 188, 107, 190, 98, 158, 128, 180, 110, 172, 157, 137, 158, 110, 203, 145, 96, 186, 110, 194, 177, 152, 172, 140, 154, 113, 179, 111, 196, 101, 131, 171, 199, 151, 121, 196, 174, 135, 184, 137, 129, 108, 116, 168, 184, 151, 114, 167, 160, 175, 127, 146, 118, 151, 105, 180, 140, 155, 106, 160, 192, 138, 122, 135, 132, 158, 184, 101, 126, 188, 118, 127, 123, 117, 172, 127, 104, 121, 148, 141, 128, 113, 155, 189, 108, 98, 100, 134, 125, 151, 100, 107, 147, 200, 101, 120, 181, 182, 117, 145, 106, 179, 134, 180, 126, 110, 180, 103, 116, 119, 144, 133, 199, 115, 150, 192, 188, 109, 189, 101, 159, 128, 182, 111, 171, 154, 134, 157, 112, 203, 142, 97, 187, 111, 194, 176, 153, 171, 142, 153, 113, 183, 108, 200, 99, 131, 171, 200, 152, 119, 196, 173, 132, 185, 138, 132, 110, 119, 167, 188, 151, 112, 166, 158, 172, 127, 150, 115, 151, 103, 181, 141, 152, 105, 162, 190, 141, 122, 136, 131, 157, 181, 103, 127, 189, 114, 125, 123, 116, 172, 129, 107, 117, 148], \"yaxis\": \"y\"}],\n",
              "                        {\"coloraxis\": {\"colorbar\": {\"title\": {\"text\": \"color\"}}, \"colorscale\": [[0.0, \"#0d0887\"], [0.1111111111111111, \"#46039f\"], [0.2222222222222222, \"#7201a8\"], [0.3333333333333333, \"#9c179e\"], [0.4444444444444444, \"#bd3786\"], [0.5555555555555556, \"#d8576b\"], [0.6666666666666666, \"#ed7953\"], [0.7777777777777778, \"#fb9f3a\"], [0.8888888888888888, \"#fdca26\"], [1.0, \"#f0f921\"]]}, \"legend\": {\"tracegroupgap\": 0}, \"margin\": {\"t\": 60}, \"template\": {\"data\": {\"bar\": [{\"error_x\": {\"color\": \"#2a3f5f\"}, \"error_y\": {\"color\": \"#2a3f5f\"}, \"marker\": {\"line\": {\"color\": \"#E5ECF6\", \"width\": 0.5}}, \"type\": \"bar\"}], \"barpolar\": [{\"marker\": {\"line\": {\"color\": \"#E5ECF6\", \"width\": 0.5}}, \"type\": \"barpolar\"}], \"carpet\": [{\"aaxis\": {\"endlinecolor\": \"#2a3f5f\", \"gridcolor\": \"white\", \"linecolor\": \"white\", \"minorgridcolor\": \"white\", \"startlinecolor\": \"#2a3f5f\"}, \"baxis\": {\"endlinecolor\": \"#2a3f5f\", \"gridcolor\": \"white\", \"linecolor\": \"white\", \"minorgridcolor\": \"white\", \"startlinecolor\": \"#2a3f5f\"}, \"type\": \"carpet\"}], \"choropleth\": [{\"colorbar\": {\"outlinewidth\": 0, \"ticks\": \"\"}, \"type\": \"choropleth\"}], \"contour\": [{\"colorbar\": {\"outlinewidth\": 0, \"ticks\": \"\"}, \"colorscale\": [[0.0, \"#0d0887\"], [0.1111111111111111, \"#46039f\"], [0.2222222222222222, \"#7201a8\"], [0.3333333333333333, \"#9c179e\"], [0.4444444444444444, \"#bd3786\"], [0.5555555555555556, \"#d8576b\"], [0.6666666666666666, \"#ed7953\"], [0.7777777777777778, \"#fb9f3a\"], [0.8888888888888888, \"#fdca26\"], [1.0, \"#f0f921\"]], \"type\": \"contour\"}], \"contourcarpet\": [{\"colorbar\": {\"outlinewidth\": 0, \"ticks\": \"\"}, \"type\": \"contourcarpet\"}], \"heatmap\": [{\"colorbar\": {\"outlinewidth\": 0, \"ticks\": \"\"}, \"colorscale\": [[0.0, \"#0d0887\"], [0.1111111111111111, \"#46039f\"], [0.2222222222222222, \"#7201a8\"], [0.3333333333333333, \"#9c179e\"], [0.4444444444444444, \"#bd3786\"], [0.5555555555555556, \"#d8576b\"], [0.6666666666666666, \"#ed7953\"], [0.7777777777777778, \"#fb9f3a\"], [0.8888888888888888, \"#fdca26\"], [1.0, \"#f0f921\"]], \"type\": \"heatmap\"}], \"heatmapgl\": [{\"colorbar\": {\"outlinewidth\": 0, \"ticks\": \"\"}, \"colorscale\": [[0.0, \"#0d0887\"], [0.1111111111111111, \"#46039f\"], [0.2222222222222222, \"#7201a8\"], [0.3333333333333333, \"#9c179e\"], [0.4444444444444444, \"#bd3786\"], [0.5555555555555556, \"#d8576b\"], [0.6666666666666666, \"#ed7953\"], [0.7777777777777778, \"#fb9f3a\"], [0.8888888888888888, \"#fdca26\"], [1.0, \"#f0f921\"]], \"type\": \"heatmapgl\"}], \"histogram\": [{\"marker\": {\"colorbar\": {\"outlinewidth\": 0, \"ticks\": \"\"}}, \"type\": \"histogram\"}], \"histogram2d\": [{\"colorbar\": {\"outlinewidth\": 0, \"ticks\": \"\"}, \"colorscale\": [[0.0, \"#0d0887\"], [0.1111111111111111, \"#46039f\"], [0.2222222222222222, \"#7201a8\"], [0.3333333333333333, \"#9c179e\"], [0.4444444444444444, \"#bd3786\"], [0.5555555555555556, \"#d8576b\"], [0.6666666666666666, \"#ed7953\"], [0.7777777777777778, \"#fb9f3a\"], [0.8888888888888888, \"#fdca26\"], [1.0, \"#f0f921\"]], \"type\": \"histogram2d\"}], \"histogram2dcontour\": [{\"colorbar\": {\"outlinewidth\": 0, \"ticks\": \"\"}, \"colorscale\": [[0.0, \"#0d0887\"], [0.1111111111111111, \"#46039f\"], [0.2222222222222222, \"#7201a8\"], [0.3333333333333333, \"#9c179e\"], [0.4444444444444444, \"#bd3786\"], [0.5555555555555556, \"#d8576b\"], [0.6666666666666666, \"#ed7953\"], [0.7777777777777778, \"#fb9f3a\"], [0.8888888888888888, \"#fdca26\"], [1.0, \"#f0f921\"]], \"type\": \"histogram2dcontour\"}], \"mesh3d\": [{\"colorbar\": {\"outlinewidth\": 0, \"ticks\": \"\"}, \"type\": \"mesh3d\"}], \"parcoords\": [{\"line\": {\"colorbar\": {\"outlinewidth\": 0, \"ticks\": \"\"}}, \"type\": \"parcoords\"}], \"pie\": [{\"automargin\": true, \"type\": \"pie\"}], \"scatter\": [{\"marker\": {\"colorbar\": {\"outlinewidth\": 0, \"ticks\": \"\"}}, \"type\": \"scatter\"}], \"scatter3d\": [{\"line\": {\"colorbar\": {\"outlinewidth\": 0, \"ticks\": \"\"}}, \"marker\": {\"colorbar\": {\"outlinewidth\": 0, \"ticks\": \"\"}}, \"type\": \"scatter3d\"}], \"scattercarpet\": [{\"marker\": {\"colorbar\": {\"outlinewidth\": 0, \"ticks\": \"\"}}, \"type\": \"scattercarpet\"}], \"scattergeo\": [{\"marker\": {\"colorbar\": {\"outlinewidth\": 0, \"ticks\": \"\"}}, \"type\": \"scattergeo\"}], \"scattergl\": [{\"marker\": {\"colorbar\": {\"outlinewidth\": 0, \"ticks\": \"\"}}, \"type\": \"scattergl\"}], \"scattermapbox\": [{\"marker\": {\"colorbar\": {\"outlinewidth\": 0, \"ticks\": \"\"}}, \"type\": \"scattermapbox\"}], \"scatterpolar\": [{\"marker\": {\"colorbar\": {\"outlinewidth\": 0, \"ticks\": \"\"}}, \"type\": \"scatterpolar\"}], \"scatterpolargl\": [{\"marker\": {\"colorbar\": {\"outlinewidth\": 0, \"ticks\": \"\"}}, \"type\": \"scatterpolargl\"}], \"scatterternary\": [{\"marker\": {\"colorbar\": {\"outlinewidth\": 0, \"ticks\": \"\"}}, \"type\": \"scatterternary\"}], \"surface\": [{\"colorbar\": {\"outlinewidth\": 0, \"ticks\": \"\"}, \"colorscale\": [[0.0, \"#0d0887\"], [0.1111111111111111, \"#46039f\"], [0.2222222222222222, \"#7201a8\"], [0.3333333333333333, \"#9c179e\"], [0.4444444444444444, \"#bd3786\"], [0.5555555555555556, \"#d8576b\"], [0.6666666666666666, \"#ed7953\"], [0.7777777777777778, \"#fb9f3a\"], [0.8888888888888888, \"#fdca26\"], [1.0, \"#f0f921\"]], \"type\": \"surface\"}], \"table\": [{\"cells\": {\"fill\": {\"color\": \"#EBF0F8\"}, \"line\": {\"color\": \"white\"}}, \"header\": {\"fill\": {\"color\": \"#C8D4E3\"}, \"line\": {\"color\": \"white\"}}, \"type\": \"table\"}]}, \"layout\": {\"annotationdefaults\": {\"arrowcolor\": \"#2a3f5f\", \"arrowhead\": 0, \"arrowwidth\": 1}, \"coloraxis\": {\"colorbar\": {\"outlinewidth\": 0, \"ticks\": \"\"}}, \"colorscale\": {\"diverging\": [[0, \"#8e0152\"], [0.1, \"#c51b7d\"], [0.2, \"#de77ae\"], [0.3, \"#f1b6da\"], [0.4, \"#fde0ef\"], [0.5, \"#f7f7f7\"], [0.6, \"#e6f5d0\"], [0.7, \"#b8e186\"], [0.8, \"#7fbc41\"], [0.9, \"#4d9221\"], [1, \"#276419\"]], \"sequential\": [[0.0, \"#0d0887\"], [0.1111111111111111, \"#46039f\"], [0.2222222222222222, \"#7201a8\"], [0.3333333333333333, \"#9c179e\"], [0.4444444444444444, \"#bd3786\"], [0.5555555555555556, \"#d8576b\"], [0.6666666666666666, \"#ed7953\"], [0.7777777777777778, \"#fb9f3a\"], [0.8888888888888888, \"#fdca26\"], [1.0, \"#f0f921\"]], \"sequentialminus\": [[0.0, \"#0d0887\"], [0.1111111111111111, \"#46039f\"], [0.2222222222222222, \"#7201a8\"], [0.3333333333333333, \"#9c179e\"], [0.4444444444444444, \"#bd3786\"], [0.5555555555555556, \"#d8576b\"], [0.6666666666666666, \"#ed7953\"], [0.7777777777777778, \"#fb9f3a\"], [0.8888888888888888, \"#fdca26\"], [1.0, \"#f0f921\"]]}, \"colorway\": [\"#636efa\", \"#EF553B\", \"#00cc96\", \"#ab63fa\", \"#FFA15A\", \"#19d3f3\", \"#FF6692\", \"#B6E880\", \"#FF97FF\", \"#FECB52\"], \"font\": {\"color\": \"#2a3f5f\"}, \"geo\": {\"bgcolor\": \"white\", \"lakecolor\": \"white\", \"landcolor\": \"#E5ECF6\", \"showlakes\": true, \"showland\": true, \"subunitcolor\": \"white\"}, \"hoverlabel\": {\"align\": \"left\"}, \"hovermode\": \"closest\", \"mapbox\": {\"style\": \"light\"}, \"paper_bgcolor\": \"white\", \"plot_bgcolor\": \"#E5ECF6\", \"polar\": {\"angularaxis\": {\"gridcolor\": \"white\", \"linecolor\": \"white\", \"ticks\": \"\"}, \"bgcolor\": \"#E5ECF6\", \"radialaxis\": {\"gridcolor\": \"white\", \"linecolor\": \"white\", \"ticks\": \"\"}}, \"scene\": {\"xaxis\": {\"backgroundcolor\": \"#E5ECF6\", \"gridcolor\": \"white\", \"gridwidth\": 2, \"linecolor\": \"white\", \"showbackground\": true, \"ticks\": \"\", \"zerolinecolor\": \"white\"}, \"yaxis\": {\"backgroundcolor\": \"#E5ECF6\", \"gridcolor\": \"white\", \"gridwidth\": 2, \"linecolor\": \"white\", \"showbackground\": true, \"ticks\": \"\", \"zerolinecolor\": \"white\"}, \"zaxis\": {\"backgroundcolor\": \"#E5ECF6\", \"gridcolor\": \"white\", \"gridwidth\": 2, \"linecolor\": \"white\", \"showbackground\": true, \"ticks\": \"\", \"zerolinecolor\": \"white\"}}, \"shapedefaults\": {\"line\": {\"color\": \"#2a3f5f\"}}, \"ternary\": {\"aaxis\": {\"gridcolor\": \"white\", \"linecolor\": \"white\", \"ticks\": \"\"}, \"baxis\": {\"gridcolor\": \"white\", \"linecolor\": \"white\", \"ticks\": \"\"}, \"bgcolor\": \"#E5ECF6\", \"caxis\": {\"gridcolor\": \"white\", \"linecolor\": \"white\", \"ticks\": \"\"}}, \"title\": {\"x\": 0.05}, \"xaxis\": {\"automargin\": true, \"gridcolor\": \"white\", \"linecolor\": \"white\", \"ticks\": \"\", \"title\": {\"standoff\": 15}, \"zerolinecolor\": \"white\", \"zerolinewidth\": 2}, \"yaxis\": {\"automargin\": true, \"gridcolor\": \"white\", \"linecolor\": \"white\", \"ticks\": \"\", \"title\": {\"standoff\": 15}, \"zerolinecolor\": \"white\", \"zerolinewidth\": 2}}}, \"title\": {\"text\": \"Analise de Clusters\"}, \"xaxis\": {\"anchor\": \"y\", \"domain\": [0.0, 1.0], \"title\": {\"text\": \"colesterol\"}}, \"yaxis\": {\"anchor\": \"x\", \"domain\": [0.0, 1.0], \"title\": {\"text\": \"peso\"}}},\n",
              "                        {\"responsive\": true}\n",
              "                    ).then(function(){\n",
              "                            \n",
              "var gd = document.getElementById('24b4cb77-ed14-47cf-806b-f6eab48ad3ca');\n",
              "var x = new MutationObserver(function (mutations, observer) {{\n",
              "        var display = window.getComputedStyle(gd).display;\n",
              "        if (!display || display === 'none') {{\n",
              "            console.log([gd, 'removed!']);\n",
              "            Plotly.purge(gd);\n",
              "            observer.disconnect();\n",
              "        }}\n",
              "}});\n",
              "\n",
              "// Listen for the removal of the full notebook cells\n",
              "var notebookContainer = gd.closest('#notebook-container');\n",
              "if (notebookContainer) {{\n",
              "    x.observe(notebookContainer, {childList: true});\n",
              "}}\n",
              "\n",
              "// Listen for the clearing of the current output cell\n",
              "var outputEl = gd.closest('.output');\n",
              "if (outputEl) {{\n",
              "    x.observe(outputEl, {childList: true});\n",
              "}}\n",
              "\n",
              "                        })\n",
              "                };\n",
              "                \n",
              "            </script>\n",
              "        </div>\n",
              "</body>\n",
              "</html>"
            ]
          },
          "metadata": {}
        }
      ]
    },
    {
      "cell_type": "code",
      "metadata": {
        "id": "5uBKrvXnksrj"
      },
      "source": [
        "clusters_clientes = base_completa"
      ],
      "execution_count": null,
      "outputs": []
    },
    {
      "cell_type": "code",
      "metadata": {
        "id": "Y1SgvBklkyGY"
      },
      "source": [
        "#seguimentando os clientes baseados na analise dos clusters\n",
        "clusters_clientes.loc[clusters_clientes['cluster']==0, 'nome_cluster'] = 'Risco Alto'\n",
        "clusters_clientes.loc[clusters_clientes['cluster']==2,'nome_cluster'] = 'Risco moderado alto' \n",
        "clusters_clientes.loc[clusters_clientes['cluster']==1,'nome_cluster'] = 'Risco moderado baixo'\n",
        "clusters_clientes.loc[clusters_clientes['cluster']==3,'nome_cluster' ]= 'Baixo risco'"
      ],
      "execution_count": null,
      "outputs": []
    },
    {
      "cell_type": "code",
      "metadata": {
        "colab": {
          "base_uri": "https://localhost:8080/",
          "height": 408
        },
        "id": "iOw3Natvl8QJ",
        "outputId": "6e4fb413-61f5-4b69-a354-a3fde1c06942"
      },
      "source": [
        "clusters_clientes"
      ],
      "execution_count": null,
      "outputs": [
        {
          "output_type": "execute_result",
          "data": {
            "text/html": [
              "<div>\n",
              "<style scoped>\n",
              "    .dataframe tbody tr th:only-of-type {\n",
              "        vertical-align: middle;\n",
              "    }\n",
              "\n",
              "    .dataframe tbody tr th {\n",
              "        vertical-align: top;\n",
              "    }\n",
              "\n",
              "    .dataframe thead th {\n",
              "        text-align: right;\n",
              "    }\n",
              "</style>\n",
              "<table border=\"1\" class=\"dataframe\">\n",
              "  <thead>\n",
              "    <tr style=\"text-align: right;\">\n",
              "      <th></th>\n",
              "      <th>cod_cliente</th>\n",
              "      <th>genero</th>\n",
              "      <th>idade</th>\n",
              "      <th>peso</th>\n",
              "      <th>colesterol</th>\n",
              "      <th>id_estado</th>\n",
              "      <th>estado</th>\n",
              "      <th>sigla_estado</th>\n",
              "      <th>pais</th>\n",
              "      <th>cluster</th>\n",
              "      <th>nome_cluster</th>\n",
              "    </tr>\n",
              "  </thead>\n",
              "  <tbody>\n",
              "    <tr>\n",
              "      <th>0</th>\n",
              "      <td>1</td>\n",
              "      <td>Masculino</td>\n",
              "      <td>17</td>\n",
              "      <td>102</td>\n",
              "      <td>111</td>\n",
              "      <td>23</td>\n",
              "      <td>Roraima</td>\n",
              "      <td>RR</td>\n",
              "      <td>Brasil</td>\n",
              "      <td>3</td>\n",
              "      <td>Baixo risco</td>\n",
              "    </tr>\n",
              "    <tr>\n",
              "      <th>1</th>\n",
              "      <td>2</td>\n",
              "      <td>Masculino</td>\n",
              "      <td>28</td>\n",
              "      <td>115</td>\n",
              "      <td>135</td>\n",
              "      <td>7</td>\n",
              "      <td>Distrito Federal</td>\n",
              "      <td>DF</td>\n",
              "      <td>Brasil</td>\n",
              "      <td>3</td>\n",
              "      <td>Baixo risco</td>\n",
              "    </tr>\n",
              "    <tr>\n",
              "      <th>2</th>\n",
              "      <td>3</td>\n",
              "      <td>Masculino</td>\n",
              "      <td>62</td>\n",
              "      <td>115</td>\n",
              "      <td>136</td>\n",
              "      <td>4</td>\n",
              "      <td>Amazonas</td>\n",
              "      <td>AM</td>\n",
              "      <td>Brasil</td>\n",
              "      <td>3</td>\n",
              "      <td>Baixo risco</td>\n",
              "    </tr>\n",
              "    <tr>\n",
              "      <th>3</th>\n",
              "      <td>4</td>\n",
              "      <td>Feminino</td>\n",
              "      <td>55</td>\n",
              "      <td>140</td>\n",
              "      <td>167</td>\n",
              "      <td>24</td>\n",
              "      <td>Santa Catarina</td>\n",
              "      <td>SC</td>\n",
              "      <td>Brasil</td>\n",
              "      <td>1</td>\n",
              "      <td>Risco moderado baixo</td>\n",
              "    </tr>\n",
              "    <tr>\n",
              "      <th>4</th>\n",
              "      <td>5</td>\n",
              "      <td>Masculino</td>\n",
              "      <td>44</td>\n",
              "      <td>130</td>\n",
              "      <td>158</td>\n",
              "      <td>26</td>\n",
              "      <td>Sergipe</td>\n",
              "      <td>SE</td>\n",
              "      <td>Brasil</td>\n",
              "      <td>1</td>\n",
              "      <td>Risco moderado baixo</td>\n",
              "    </tr>\n",
              "    <tr>\n",
              "      <th>...</th>\n",
              "      <td>...</td>\n",
              "      <td>...</td>\n",
              "      <td>...</td>\n",
              "      <td>...</td>\n",
              "      <td>...</td>\n",
              "      <td>...</td>\n",
              "      <td>...</td>\n",
              "      <td>...</td>\n",
              "      <td>...</td>\n",
              "      <td>...</td>\n",
              "      <td>...</td>\n",
              "    </tr>\n",
              "    <tr>\n",
              "      <th>542</th>\n",
              "      <td>543</td>\n",
              "      <td>Masculino</td>\n",
              "      <td>20</td>\n",
              "      <td>172</td>\n",
              "      <td>207</td>\n",
              "      <td>22</td>\n",
              "      <td>Rondônia</td>\n",
              "      <td>RO</td>\n",
              "      <td>Brasil</td>\n",
              "      <td>0</td>\n",
              "      <td>Risco Alto</td>\n",
              "    </tr>\n",
              "    <tr>\n",
              "      <th>543</th>\n",
              "      <td>544</td>\n",
              "      <td>Masculino</td>\n",
              "      <td>66</td>\n",
              "      <td>129</td>\n",
              "      <td>157</td>\n",
              "      <td>1</td>\n",
              "      <td>Acre</td>\n",
              "      <td>AC</td>\n",
              "      <td>Brasil</td>\n",
              "      <td>1</td>\n",
              "      <td>Risco moderado baixo</td>\n",
              "    </tr>\n",
              "    <tr>\n",
              "      <th>544</th>\n",
              "      <td>545</td>\n",
              "      <td>Masculino</td>\n",
              "      <td>36</td>\n",
              "      <td>107</td>\n",
              "      <td>115</td>\n",
              "      <td>6</td>\n",
              "      <td>Ceará</td>\n",
              "      <td>CE</td>\n",
              "      <td>Brasil</td>\n",
              "      <td>3</td>\n",
              "      <td>Baixo risco</td>\n",
              "    </tr>\n",
              "    <tr>\n",
              "      <th>545</th>\n",
              "      <td>546</td>\n",
              "      <td>Masculino</td>\n",
              "      <td>57</td>\n",
              "      <td>117</td>\n",
              "      <td>147</td>\n",
              "      <td>20</td>\n",
              "      <td>Rio Grande do Norte</td>\n",
              "      <td>RN</td>\n",
              "      <td>Brasil</td>\n",
              "      <td>1</td>\n",
              "      <td>Risco moderado baixo</td>\n",
              "    </tr>\n",
              "    <tr>\n",
              "      <th>546</th>\n",
              "      <td>547</td>\n",
              "      <td>Masculino</td>\n",
              "      <td>61</td>\n",
              "      <td>148</td>\n",
              "      <td>176</td>\n",
              "      <td>8</td>\n",
              "      <td>Espírito Santo</td>\n",
              "      <td>ES</td>\n",
              "      <td>Brasil</td>\n",
              "      <td>2</td>\n",
              "      <td>Risco moderado alto</td>\n",
              "    </tr>\n",
              "  </tbody>\n",
              "</table>\n",
              "<p>547 rows × 11 columns</p>\n",
              "</div>"
            ],
            "text/plain": [
              "     cod_cliente     genero  idade  ...    pais  cluster          nome_cluster\n",
              "0              1  Masculino     17  ...  Brasil        3           Baixo risco\n",
              "1              2  Masculino     28  ...  Brasil        3           Baixo risco\n",
              "2              3  Masculino     62  ...  Brasil        3           Baixo risco\n",
              "3              4   Feminino     55  ...  Brasil        1  Risco moderado baixo\n",
              "4              5  Masculino     44  ...  Brasil        1  Risco moderado baixo\n",
              "..           ...        ...    ...  ...     ...      ...                   ...\n",
              "542          543  Masculino     20  ...  Brasil        0            Risco Alto\n",
              "543          544  Masculino     66  ...  Brasil        1  Risco moderado baixo\n",
              "544          545  Masculino     36  ...  Brasil        3           Baixo risco\n",
              "545          546  Masculino     57  ...  Brasil        1  Risco moderado baixo\n",
              "546          547  Masculino     61  ...  Brasil        2   Risco moderado alto\n",
              "\n",
              "[547 rows x 11 columns]"
            ]
          },
          "metadata": {},
          "execution_count": 114
        }
      ]
    },
    {
      "cell_type": "markdown",
      "metadata": {
        "id": "vpAoFrbnntbx"
      },
      "source": [
        "#Analise dos clusters Criados"
      ]
    },
    {
      "cell_type": "code",
      "metadata": {
        "colab": {
          "base_uri": "https://localhost:8080/",
          "height": 200
        },
        "id": "JlRyoXBCn8yp",
        "outputId": "61bcefb5-48ac-4525-8b49-98c360e38fc4"
      },
      "source": [
        "#Verifica os valores de idade de todos os clusters\n",
        "clusters_clientes.groupby('nome_cluster')['colesterol'].describe()"
      ],
      "execution_count": null,
      "outputs": [
        {
          "output_type": "execute_result",
          "data": {
            "text/html": [
              "<div>\n",
              "<style scoped>\n",
              "    .dataframe tbody tr th:only-of-type {\n",
              "        vertical-align: middle;\n",
              "    }\n",
              "\n",
              "    .dataframe tbody tr th {\n",
              "        vertical-align: top;\n",
              "    }\n",
              "\n",
              "    .dataframe thead th {\n",
              "        text-align: right;\n",
              "    }\n",
              "</style>\n",
              "<table border=\"1\" class=\"dataframe\">\n",
              "  <thead>\n",
              "    <tr style=\"text-align: right;\">\n",
              "      <th></th>\n",
              "      <th>count</th>\n",
              "      <th>mean</th>\n",
              "      <th>std</th>\n",
              "      <th>min</th>\n",
              "      <th>25%</th>\n",
              "      <th>50%</th>\n",
              "      <th>75%</th>\n",
              "      <th>max</th>\n",
              "    </tr>\n",
              "    <tr>\n",
              "      <th>nome_cluster</th>\n",
              "      <th></th>\n",
              "      <th></th>\n",
              "      <th></th>\n",
              "      <th></th>\n",
              "      <th></th>\n",
              "      <th></th>\n",
              "      <th></th>\n",
              "      <th></th>\n",
              "    </tr>\n",
              "  </thead>\n",
              "  <tbody>\n",
              "    <tr>\n",
              "      <th>Baixo risco</th>\n",
              "      <td>145.0</td>\n",
              "      <td>120.193103</td>\n",
              "      <td>10.555604</td>\n",
              "      <td>102.0</td>\n",
              "      <td>110.0</td>\n",
              "      <td>120.0</td>\n",
              "      <td>129.0</td>\n",
              "      <td>139.0</td>\n",
              "    </tr>\n",
              "    <tr>\n",
              "      <th>Risco Alto</th>\n",
              "      <td>148.0</td>\n",
              "      <td>219.520270</td>\n",
              "      <td>7.770054</td>\n",
              "      <td>204.0</td>\n",
              "      <td>213.0</td>\n",
              "      <td>220.0</td>\n",
              "      <td>225.0</td>\n",
              "      <td>235.0</td>\n",
              "    </tr>\n",
              "    <tr>\n",
              "      <th>Risco moderado alto</th>\n",
              "      <td>113.0</td>\n",
              "      <td>188.345133</td>\n",
              "      <td>9.595172</td>\n",
              "      <td>169.0</td>\n",
              "      <td>180.0</td>\n",
              "      <td>190.0</td>\n",
              "      <td>195.0</td>\n",
              "      <td>204.0</td>\n",
              "    </tr>\n",
              "    <tr>\n",
              "      <th>Risco moderado baixo</th>\n",
              "      <td>141.0</td>\n",
              "      <td>156.219858</td>\n",
              "      <td>10.062016</td>\n",
              "      <td>138.0</td>\n",
              "      <td>147.0</td>\n",
              "      <td>157.0</td>\n",
              "      <td>166.0</td>\n",
              "      <td>173.0</td>\n",
              "    </tr>\n",
              "  </tbody>\n",
              "</table>\n",
              "</div>"
            ],
            "text/plain": [
              "                      count        mean        std  ...    50%    75%    max\n",
              "nome_cluster                                        ...                     \n",
              "Baixo risco           145.0  120.193103  10.555604  ...  120.0  129.0  139.0\n",
              "Risco Alto            148.0  219.520270   7.770054  ...  220.0  225.0  235.0\n",
              "Risco moderado alto   113.0  188.345133   9.595172  ...  190.0  195.0  204.0\n",
              "Risco moderado baixo  141.0  156.219858  10.062016  ...  157.0  166.0  173.0\n",
              "\n",
              "[4 rows x 8 columns]"
            ]
          },
          "metadata": {},
          "execution_count": 123
        }
      ]
    },
    {
      "cell_type": "code",
      "metadata": {
        "colab": {
          "base_uri": "https://localhost:8080/",
          "height": 200
        },
        "id": "i8XydsMTomZK",
        "outputId": "9f132451-e7fa-4b90-d087-d8ed6389e77c"
      },
      "source": [
        "#Verifica os valores de estado por cluster\n",
        "clusters_clientes.groupby('nome_cluster')['estado'].describe( )"
      ],
      "execution_count": null,
      "outputs": [
        {
          "output_type": "execute_result",
          "data": {
            "text/html": [
              "<div>\n",
              "<style scoped>\n",
              "    .dataframe tbody tr th:only-of-type {\n",
              "        vertical-align: middle;\n",
              "    }\n",
              "\n",
              "    .dataframe tbody tr th {\n",
              "        vertical-align: top;\n",
              "    }\n",
              "\n",
              "    .dataframe thead th {\n",
              "        text-align: right;\n",
              "    }\n",
              "</style>\n",
              "<table border=\"1\" class=\"dataframe\">\n",
              "  <thead>\n",
              "    <tr style=\"text-align: right;\">\n",
              "      <th></th>\n",
              "      <th>count</th>\n",
              "      <th>unique</th>\n",
              "      <th>top</th>\n",
              "      <th>freq</th>\n",
              "    </tr>\n",
              "    <tr>\n",
              "      <th>nome_cluster</th>\n",
              "      <th></th>\n",
              "      <th></th>\n",
              "      <th></th>\n",
              "      <th></th>\n",
              "    </tr>\n",
              "  </thead>\n",
              "  <tbody>\n",
              "    <tr>\n",
              "      <th>Baixo risco</th>\n",
              "      <td>145</td>\n",
              "      <td>27</td>\n",
              "      <td>Amazonas</td>\n",
              "      <td>11</td>\n",
              "    </tr>\n",
              "    <tr>\n",
              "      <th>Risco Alto</th>\n",
              "      <td>148</td>\n",
              "      <td>27</td>\n",
              "      <td>Rio Grande do Sul</td>\n",
              "      <td>9</td>\n",
              "    </tr>\n",
              "    <tr>\n",
              "      <th>Risco moderado alto</th>\n",
              "      <td>113</td>\n",
              "      <td>27</td>\n",
              "      <td>Minas Gerais</td>\n",
              "      <td>8</td>\n",
              "    </tr>\n",
              "    <tr>\n",
              "      <th>Risco moderado baixo</th>\n",
              "      <td>141</td>\n",
              "      <td>27</td>\n",
              "      <td>Piauí</td>\n",
              "      <td>10</td>\n",
              "    </tr>\n",
              "  </tbody>\n",
              "</table>\n",
              "</div>"
            ],
            "text/plain": [
              "                     count unique                top freq\n",
              "nome_cluster                                             \n",
              "Baixo risco            145     27           Amazonas   11\n",
              "Risco Alto             148     27  Rio Grande do Sul    9\n",
              "Risco moderado alto    113     27       Minas Gerais    8\n",
              "Risco moderado baixo   141     27              Piauí   10"
            ]
          },
          "metadata": {},
          "execution_count": 122
        }
      ]
    },
    {
      "cell_type": "code",
      "metadata": {
        "colab": {
          "base_uri": "https://localhost:8080/",
          "height": 48
        },
        "id": "vIq_5-Xno5dO",
        "outputId": "b17798db-82e1-45d6-f634-1351f012c820"
      },
      "source": [
        "clusters_clientes.query('nome_cluster == \"Alto risco \"& estado == \"Mato Grosso do Sul   \"')"
      ],
      "execution_count": null,
      "outputs": [
        {
          "output_type": "execute_result",
          "data": {
            "text/html": [
              "<div>\n",
              "<style scoped>\n",
              "    .dataframe tbody tr th:only-of-type {\n",
              "        vertical-align: middle;\n",
              "    }\n",
              "\n",
              "    .dataframe tbody tr th {\n",
              "        vertical-align: top;\n",
              "    }\n",
              "\n",
              "    .dataframe thead th {\n",
              "        text-align: right;\n",
              "    }\n",
              "</style>\n",
              "<table border=\"1\" class=\"dataframe\">\n",
              "  <thead>\n",
              "    <tr style=\"text-align: right;\">\n",
              "      <th></th>\n",
              "      <th>cod_cliente</th>\n",
              "      <th>genero</th>\n",
              "      <th>idade</th>\n",
              "      <th>peso</th>\n",
              "      <th>colesterol</th>\n",
              "      <th>id_estado</th>\n",
              "      <th>estado</th>\n",
              "      <th>sigla_estado</th>\n",
              "      <th>pais</th>\n",
              "      <th>cluster</th>\n",
              "      <th>nome_cluster</th>\n",
              "    </tr>\n",
              "  </thead>\n",
              "  <tbody>\n",
              "  </tbody>\n",
              "</table>\n",
              "</div>"
            ],
            "text/plain": [
              "Empty DataFrame\n",
              "Columns: [cod_cliente, genero, idade, peso, colesterol, id_estado, estado, sigla_estado, pais, cluster, nome_cluster]\n",
              "Index: []"
            ]
          },
          "metadata": {},
          "execution_count": 120
        }
      ]
    },
    {
      "cell_type": "code",
      "metadata": {
        "colab": {
          "base_uri": "https://localhost:8080/",
          "height": 320
        },
        "id": "SBtabKrSpZOJ",
        "outputId": "92b2d8b7-d55d-4875-8cdf-f34a692894af"
      },
      "source": [
        "clusters_clientes.groupby(['nome_cluster','genero'])['peso'].describe(  )"
      ],
      "execution_count": null,
      "outputs": [
        {
          "output_type": "execute_result",
          "data": {
            "text/html": [
              "<div>\n",
              "<style scoped>\n",
              "    .dataframe tbody tr th:only-of-type {\n",
              "        vertical-align: middle;\n",
              "    }\n",
              "\n",
              "    .dataframe tbody tr th {\n",
              "        vertical-align: top;\n",
              "    }\n",
              "\n",
              "    .dataframe thead th {\n",
              "        text-align: right;\n",
              "    }\n",
              "</style>\n",
              "<table border=\"1\" class=\"dataframe\">\n",
              "  <thead>\n",
              "    <tr style=\"text-align: right;\">\n",
              "      <th></th>\n",
              "      <th></th>\n",
              "      <th>count</th>\n",
              "      <th>mean</th>\n",
              "      <th>std</th>\n",
              "      <th>min</th>\n",
              "      <th>25%</th>\n",
              "      <th>50%</th>\n",
              "      <th>75%</th>\n",
              "      <th>max</th>\n",
              "    </tr>\n",
              "    <tr>\n",
              "      <th>nome_cluster</th>\n",
              "      <th>genero</th>\n",
              "      <th></th>\n",
              "      <th></th>\n",
              "      <th></th>\n",
              "      <th></th>\n",
              "      <th></th>\n",
              "      <th></th>\n",
              "      <th></th>\n",
              "      <th></th>\n",
              "    </tr>\n",
              "  </thead>\n",
              "  <tbody>\n",
              "    <tr>\n",
              "      <th rowspan=\"2\" valign=\"top\">Baixo risco</th>\n",
              "      <th>Feminino</th>\n",
              "      <td>66.0</td>\n",
              "      <td>108.454545</td>\n",
              "      <td>6.399956</td>\n",
              "      <td>96.0</td>\n",
              "      <td>104.00</td>\n",
              "      <td>110.0</td>\n",
              "      <td>113.00</td>\n",
              "      <td>118.0</td>\n",
              "    </tr>\n",
              "    <tr>\n",
              "      <th>Masculino</th>\n",
              "      <td>79.0</td>\n",
              "      <td>106.113924</td>\n",
              "      <td>6.067964</td>\n",
              "      <td>95.0</td>\n",
              "      <td>102.00</td>\n",
              "      <td>105.0</td>\n",
              "      <td>110.50</td>\n",
              "      <td>118.0</td>\n",
              "    </tr>\n",
              "    <tr>\n",
              "      <th rowspan=\"2\" valign=\"top\">Risco Alto</th>\n",
              "      <th>Feminino</th>\n",
              "      <td>62.0</td>\n",
              "      <td>186.483871</td>\n",
              "      <td>7.741186</td>\n",
              "      <td>170.0</td>\n",
              "      <td>181.00</td>\n",
              "      <td>186.5</td>\n",
              "      <td>192.00</td>\n",
              "      <td>203.0</td>\n",
              "    </tr>\n",
              "    <tr>\n",
              "      <th>Masculino</th>\n",
              "      <td>86.0</td>\n",
              "      <td>183.883721</td>\n",
              "      <td>10.398437</td>\n",
              "      <td>168.0</td>\n",
              "      <td>174.25</td>\n",
              "      <td>182.5</td>\n",
              "      <td>190.75</td>\n",
              "      <td>203.0</td>\n",
              "    </tr>\n",
              "    <tr>\n",
              "      <th rowspan=\"2\" valign=\"top\">Risco moderado alto</th>\n",
              "      <th>Feminino</th>\n",
              "      <td>58.0</td>\n",
              "      <td>153.879310</td>\n",
              "      <td>6.662484</td>\n",
              "      <td>141.0</td>\n",
              "      <td>150.00</td>\n",
              "      <td>154.0</td>\n",
              "      <td>158.00</td>\n",
              "      <td>169.0</td>\n",
              "    </tr>\n",
              "    <tr>\n",
              "      <th>Masculino</th>\n",
              "      <td>55.0</td>\n",
              "      <td>154.090909</td>\n",
              "      <td>7.501291</td>\n",
              "      <td>142.0</td>\n",
              "      <td>149.00</td>\n",
              "      <td>152.0</td>\n",
              "      <td>158.00</td>\n",
              "      <td>169.0</td>\n",
              "    </tr>\n",
              "    <tr>\n",
              "      <th rowspan=\"2\" valign=\"top\">Risco moderado baixo</th>\n",
              "      <th>Feminino</th>\n",
              "      <td>80.0</td>\n",
              "      <td>131.137500</td>\n",
              "      <td>7.496402</td>\n",
              "      <td>116.0</td>\n",
              "      <td>125.00</td>\n",
              "      <td>132.0</td>\n",
              "      <td>137.00</td>\n",
              "      <td>144.0</td>\n",
              "    </tr>\n",
              "    <tr>\n",
              "      <th>Masculino</th>\n",
              "      <td>61.0</td>\n",
              "      <td>126.655738</td>\n",
              "      <td>6.569843</td>\n",
              "      <td>115.0</td>\n",
              "      <td>121.00</td>\n",
              "      <td>127.0</td>\n",
              "      <td>132.00</td>\n",
              "      <td>141.0</td>\n",
              "    </tr>\n",
              "  </tbody>\n",
              "</table>\n",
              "</div>"
            ],
            "text/plain": [
              "                                count        mean  ...     75%    max\n",
              "nome_cluster         genero                        ...               \n",
              "Baixo risco          Feminino    66.0  108.454545  ...  113.00  118.0\n",
              "                     Masculino   79.0  106.113924  ...  110.50  118.0\n",
              "Risco Alto           Feminino    62.0  186.483871  ...  192.00  203.0\n",
              "                     Masculino   86.0  183.883721  ...  190.75  203.0\n",
              "Risco moderado alto  Feminino    58.0  153.879310  ...  158.00  169.0\n",
              "                     Masculino   55.0  154.090909  ...  158.00  169.0\n",
              "Risco moderado baixo Feminino    80.0  131.137500  ...  137.00  144.0\n",
              "                     Masculino   61.0  126.655738  ...  132.00  141.0\n",
              "\n",
              "[8 rows x 8 columns]"
            ]
          },
          "metadata": {},
          "execution_count": 121
        }
      ]
    },
    {
      "cell_type": "markdown",
      "metadata": {
        "id": "oTif-SPdqfw6"
      },
      "source": [
        "#Exportando dados"
      ]
    },
    {
      "cell_type": "code",
      "metadata": {
        "id": "oiZWbR6GqiVK"
      },
      "source": [
        "clusters_clientes.to_csv('classificacao_clientes.csv',sep = ';', encoding = 'latin1')"
      ],
      "execution_count": null,
      "outputs": []
    }
  ]
}